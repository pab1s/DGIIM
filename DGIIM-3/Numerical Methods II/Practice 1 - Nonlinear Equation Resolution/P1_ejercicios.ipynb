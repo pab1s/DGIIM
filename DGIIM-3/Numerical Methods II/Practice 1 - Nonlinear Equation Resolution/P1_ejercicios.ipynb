{
 "cells": [
  {
   "cell_type": "markdown",
   "metadata": {},
   "source": [
    "# Práctica 1: Resolución de ecuaciones no lineales\n",
    "\n",
    "## Importación de módulos"
   ]
  },
  {
   "cell_type": "markdown",
   "metadata": {},
   "source": [
    "**IMPORTANTE:** Las cifras en las que se establecen la precisión son las cifras útiles, es decir, que no sólo tiene en cuenta los valores decimales, sino también los valores enteros. Por ello, si se quiere sólamente truncar o redondear el resultado, combiene que usemos otro método que no sea el uso de la precisión en el contexto.\n",
    "\n",
    "Además, es importante que verifiquemos antes de usar el método de la bisección que $f(a)f(b)<0$ y en Newton-Raphson, comprobar que $f(x_0)f''(x_0) \\neq 0$. Si se verifican dichas condiciones, podemos proceder a ejecutar el método. En todos los ejercicios se han comprobado las condiciones correspondientes."
   ]
  },
  {
   "cell_type": "code",
   "execution_count": 1,
   "metadata": {},
   "outputs": [
    {
     "data": {
      "application/json": {
       "Software versions": [
        {
         "module": "Python",
         "version": "3.10.4 64bit [GCC 11.2.1 20220127 (Red Hat 11.2.1-9)]"
        },
        {
         "module": "IPython",
         "version": "8.1.1"
        },
        {
         "module": "OS",
         "version": "Linux 5.16.18 200.fc35.x86_64 x86_64 with glibc2.34"
        },
        {
         "module": "numpy",
         "version": "1.21.5"
        },
        {
         "module": "matplotlib",
         "version": "3.5.1"
        },
        {
         "module": "sympy",
         "version": "1.10"
        }
       ]
      },
      "text/html": [
       "<table><tr><th>Software</th><th>Version</th></tr><tr><td>Python</td><td>3.10.4 64bit [GCC 11.2.1 20220127 (Red Hat 11.2.1-9)]</td></tr><tr><td>IPython</td><td>8.1.1</td></tr><tr><td>OS</td><td>Linux 5.16.18 200.fc35.x86_64 x86_64 with glibc2.34</td></tr><tr><td>numpy</td><td>1.21.5</td></tr><tr><td>matplotlib</td><td>3.5.1</td></tr><tr><td>sympy</td><td>1.10</td></tr><tr><td colspan='2'>Fri Apr 22 15:47:02 2022 CEST</td></tr></table>"
      ],
      "text/latex": [
       "\\begin{tabular}{|l|l|}\\hline\n",
       "{\\bf Software} & {\\bf Version} \\\\ \\hline\\hline\n",
       "Python & 3.10.4 64bit [GCC 11.2.1 20220127 (Red Hat 11.2.1-9)] \\\\ \\hline\n",
       "IPython & 8.1.1 \\\\ \\hline\n",
       "OS & Linux 5.16.18 200.fc35.x86\\_64 x86\\_64 with glibc2.34 \\\\ \\hline\n",
       "numpy & 1.21.5 \\\\ \\hline\n",
       "matplotlib & 3.5.1 \\\\ \\hline\n",
       "sympy & 1.10 \\\\ \\hline\n",
       "\\hline \\multicolumn{2}{|l|}{Fri Apr 22 15:47:02 2022 CEST} \\\\ \\hline\n",
       "\\end{tabular}\n"
      ],
      "text/plain": [
       "Software versions\n",
       "Python 3.10.4 64bit [GCC 11.2.1 20220127 (Red Hat 11.2.1-9)]\n",
       "IPython 8.1.1\n",
       "OS Linux 5.16.18 200.fc35.x86_64 x86_64 with glibc2.34\n",
       "numpy 1.21.5\n",
       "matplotlib 3.5.1\n",
       "sympy 1.10\n",
       "Fri Apr 22 15:47:02 2022 CEST"
      ]
     },
     "execution_count": 1,
     "metadata": {},
     "output_type": "execute_result"
    }
   ],
   "source": [
    "%reload_ext version_information\n",
    "%version_information numpy, matplotlib, sympy"
   ]
  },
  {
   "cell_type": "code",
   "execution_count": 2,
   "metadata": {},
   "outputs": [],
   "source": [
    "import numpy as np\n",
    "%matplotlib inline\n",
    "import matplotlib.pyplot as plt\n",
    "import sympy as sp\n",
    "from numpy import sign\n",
    "from decimal import *\n",
    "from scipy.optimize import fsolve\n",
    "from sympy.solvers import solve, nsolve, solveset"
   ]
  },
  {
   "cell_type": "code",
   "execution_count": 3,
   "metadata": {},
   "outputs": [],
   "source": [
    "x = sp.Symbol('x')"
   ]
  },
  {
   "cell_type": "code",
   "execution_count": 4,
   "metadata": {},
   "outputs": [],
   "source": [
    "mporig = getcontext().prec\n",
    "roundorig = getcontext().rounding\n",
    "getcontext().rounding = ROUND_HALF_UP"
   ]
  },
  {
   "cell_type": "markdown",
   "metadata": {},
   "source": [
    "## Ejercicio 1.\n",
    "Demuestre que la ecuación  $x^3+4 x^2=10  $  tiene una única raíz en el intervalo $[1,2]$.  Aproxime dicha raíz con el método de bisección con al menos 3 cifras decimales exactas. ¿Cuántas iteraciones serán necesarias para conseguir 5 cifras decimales exactas (tol =$10^{-5}$)?  Aproxime también la raíz con el método de Newton-Raphson partiendo del extremo adecuado hasta que la diferencia en valor absoluto, entre dos aproximaciones consecutivas sea  inferior a  $10^{-3}$."
   ]
  },
  {
   "cell_type": "markdown",
   "metadata": {},
   "source": [
    "Para solucionar este ejercicio, primero derivaremos la función $f(x)=x^3+4x^2-10$ y veremos que es monótona en el intervalo $[1,2]$. Finalmente, usaremos el Teorema de Bolzano para ver que existe al menos una raíz, y por ser monótona $f$ entonces es única. "
   ]
  },
  {
   "cell_type": "markdown",
   "metadata": {},
   "source": [
    "1) Definimos la función en Python."
   ]
  },
  {
   "cell_type": "code",
   "execution_count": 5,
   "metadata": {},
   "outputs": [],
   "source": [
    "def f_ej1(x):\n",
    "    ''' función x^3+4x^2-10'''\n",
    "    return x**3+4*x**2-10"
   ]
  },
  {
   "cell_type": "markdown",
   "metadata": {},
   "source": [
    "2) Vemos el signo en  $a=1$ y $b=2$."
   ]
  },
  {
   "cell_type": "code",
   "execution_count": 6,
   "metadata": {},
   "outputs": [
    {
     "data": {
      "text/plain": [
       "(-1.0, 1.0)"
      ]
     },
     "execution_count": 6,
     "metadata": {},
     "output_type": "execute_result"
    }
   ],
   "source": [
    "a = 1.\n",
    "b = 2.\n",
    "sign(f_ej1(a)),sign(f_ej1(b))"
   ]
  },
  {
   "cell_type": "markdown",
   "metadata": {},
   "source": [
    "Por el Teorema de Bolzano, existe al menos una raíz en $[1,2]$. Veamos que es única.\n",
    "\n",
    "3) Calculamos la derivada."
   ]
  },
  {
   "cell_type": "code",
   "execution_count": 7,
   "metadata": {},
   "outputs": [
    {
     "name": "stdout",
     "output_type": "stream",
     "text": [
      "3*x**2 + 8*x\n"
     ]
    }
   ],
   "source": [
    "y = x**3+4*x**2-10\n",
    "print(y.diff(x))"
   ]
  },
  {
   "cell_type": "markdown",
   "metadata": {},
   "source": [
    "Vemos que $f'(x) = 3x^2 + 8x$, que evaluada en $[1,2]$ es estrictamente positiva, luego $f$ es estrictamente creciente, lo que implica que $f(x)=0$ existe y es única en $[1,2]$."
   ]
  },
  {
   "cell_type": "markdown",
   "metadata": {},
   "source": [
    "*Nota*: Otra forma de demostrarlo es dibujando el gráfico y viendo que efectivamente es así."
   ]
  },
  {
   "cell_type": "code",
   "execution_count": 8,
   "metadata": {},
   "outputs": [
    {
     "data": {
      "image/png": "[encoded data removed]",
      "text/plain": [
       "<Figure size 432x288 with 1 Axes>"
      ]
     },
     "metadata": {
      "needs_background": "light"
     },
     "output_type": "display_data"
    },
    {
     "data": {
      "text/plain": [
       "<sympy.plotting.plot.Plot at 0x7f7cd53c5cc0>"
      ]
     },
     "execution_count": 8,
     "metadata": {},
     "output_type": "execute_result"
    }
   ],
   "source": [
    "sp.plot(f_ej1(x),(x,a,b),xlim=(a,b),ylim=(-10,20))"
   ]
  },
  {
   "cell_type": "markdown",
   "metadata": {},
   "source": [
    "Ahora apliquemos el método de la bisección tal y como pide: "
   ]
  },
  {
   "cell_type": "code",
   "execution_count": 9,
   "metadata": {},
   "outputs": [
    {
     "name": "stdout",
     "output_type": "stream",
     "text": [
      "Solución exacta con  3  cifras significativas: 1.37\n",
      "Aproximación solicitada:  1.365\n",
      "Número de iteraciones:  16.0\n"
     ]
    },
    {
     "data": {
      "text/plain": [
       "16.0"
      ]
     },
     "execution_count": 9,
     "metadata": {},
     "output_type": "execute_result"
    }
   ],
   "source": [
    "def metodoBiseccion(f,a,b,cifras=16,prec=10**(-16),nmax=100,num_iter=False):\n",
    "    getcontext().prec = cifras+1\n",
    "    tol = 10**(-cifras)\n",
    "    niter = 0; sale =''\n",
    "    sucesionBiseccion = []\n",
    "    a,b = Decimal(a),Decimal(b)\n",
    "\n",
    "    for k in range(nmax):\n",
    "        niter = niter + 1;\n",
    "        c = a+(b-a)/2 # equivalente a c = (a+b)/2\n",
    "        sucesionBiseccion.append(c)\n",
    "\n",
    "        if abs(f(c)) < prec:\n",
    "            sale = 'precision'\n",
    "            break\n",
    "        if sign(f(a)) != sign(f(c)):\n",
    "            b = c\n",
    "        else:\n",
    "            a = c\n",
    "\n",
    "        if b-a < tol:\n",
    "            sale = 'tolerancia'\n",
    "            break\n",
    "\n",
    "    if sale == 'precision':\n",
    "        print('Posiblemente solución exacta: ',c)\n",
    "    elif niter < nmax:\n",
    "        print('Aproximación solicitada: ',c)\n",
    "    else:\n",
    "        print('Se llegó al número máximo de iteraciones',c)\n",
    "    if num_iter:\n",
    "        print('Número de iteraciones reales en metodoBiseccion: ',niter)\n",
    "\n",
    "    getcontext().prec = mporig\n",
    "    return sucesionBiseccion\n",
    "\n",
    "def numIterBiseccion(a,b,cifras):\n",
    "    tol = 10**(-cifras)\n",
    "    n = np.ceil(np.log((b-a)/tol)/np.log(2) - 1)\n",
    "    print('Número de iteraciones: ', n)\n",
    "    return n\n",
    "\n",
    "sol_exact = sp.solve(f_ej1(x),x)[2]\n",
    "print('Solución exacta con ', 3, ' cifras significativas:', sol_exact.evalf(n=3))\n",
    "metodoBiseccion(f_ej1,a,b,3)\n",
    "numIterBiseccion(a,b,5)"
   ]
  },
  {
   "cell_type": "code",
   "execution_count": 10,
   "metadata": {},
   "outputs": [
    {
     "name": "stdout",
     "output_type": "stream",
     "text": [
      "Solución exacta con  3  cifras significativas: 1.37\n",
      "Aproximación solicitada:  1.36\n"
     ]
    },
    {
     "data": {
      "text/plain": [
       "[Decimal('1.5'), Decimal('1.37'), Decimal('1.36'), Decimal('1.36')]"
      ]
     },
     "execution_count": 10,
     "metadata": {},
     "output_type": "execute_result"
    }
   ],
   "source": [
    "def newtonRaphson(f,df,x0,cifras=16,prec=10**(-16),nmax=100,num_iter=False):\n",
    "    getcontext().prec = cifras\n",
    "    tol = 10**(-cifras)\n",
    "    niter = 0; sale = ''\n",
    "    sucesionNewtonRaphson = []\n",
    "    x0 = Decimal(x0)\n",
    "\n",
    "    for k in range(nmax):\n",
    "        niter = niter + 1\n",
    "        x1 = x0 - f(x0)/Decimal(df(x0))\n",
    "        sucesionNewtonRaphson.append(x1)\n",
    "\n",
    "        if abs(x1-x0) < tol:\n",
    "            sale = 'tolerancia'\n",
    "            break\n",
    "        if abs(f(x1)) < prec:\n",
    "            sale = 'precision'\n",
    "            break\n",
    "        else:\n",
    "            x0 = x1\n",
    "\n",
    "    if sale == 'precision':\n",
    "        print('Posiblemente solución exacta: ',x1)\n",
    "    elif niter < nmax:\n",
    "        print('Aproximación solicitada: ',x1)\n",
    "    else:\n",
    "        print('Se llegó al número máximo de iteraciones: ',x1)\n",
    "    if num_iter:\n",
    "        print('Número de iteraciones reales en newtonRaphson: ',niter)\n",
    "        \n",
    "    return sucesionNewtonRaphson\n",
    "\n",
    "def df_ej1(x):\n",
    "    return 3*x**2+8*x\n",
    "\n",
    "print('Solución exacta con ', 3, ' cifras significativas:', sol_exact.evalf(n=3))\n",
    "newtonRaphson(f_ej1,df_ej1,b,cifras=3)"
   ]
  },
  {
   "cell_type": "markdown",
   "metadata": {},
   "source": [
    "# Ejercicio 2.\n",
    "2.- Encuentre una aproximación de la raíz cúbica de 25 con dos decimales exactos (tol =$10^{-2}$), usando el algoritmo de bisección."
   ]
  },
  {
   "cell_type": "markdown",
   "metadata": {},
   "source": [
    "Para ello, vamos a tomar una función, $g: \\mathbb{R} \\to \\mathbb{R}$ tal que $g(25)=0$. La ecuación que buscamos es, siendo $y$ la variable, $y-\\sqrt[3]{25}=0 \\Longleftrightarrow g(y) = y^3-25=0$."
   ]
  },
  {
   "cell_type": "code",
   "execution_count": 11,
   "metadata": {},
   "outputs": [
    {
     "name": "stdout",
     "output_type": "stream",
     "text": [
      "Solución exacta con  2  cifras significativas: 2.9\n",
      "Aproximación solicitada:  2.92\n"
     ]
    },
    {
     "data": {
      "text/plain": [
       "[Decimal('0'),\n",
       " Decimal('1.5'),\n",
       " Decimal('2.25'),\n",
       " Decimal('2.63'),\n",
       " Decimal('2.82'),\n",
       " Decimal('2.91'),\n",
       " Decimal('2.96'),\n",
       " Decimal('2.94'),\n",
       " Decimal('2.93'),\n",
       " Decimal('2.92')]"
      ]
     },
     "execution_count": 11,
     "metadata": {},
     "output_type": "execute_result"
    }
   ],
   "source": [
    "a = 0\n",
    "b = 0\n",
    "\n",
    "def f_ej2(y):\n",
    "    return y**3-25\n",
    "\n",
    "# Estimamos un intervalo válido de manera sencilla\n",
    "while f_ej2(a)*f_ej2(b) >= 0 and b < 1000:\n",
    "    a -= 1\n",
    "    b += 1\n",
    "\n",
    "sol_exact = sp.solve(f_ej2(x),x)[0]\n",
    "print('Solución exacta con ', 2, ' cifras significativas:', sol_exact.evalf(n=2))\n",
    "metodoBiseccion(f_ej2,a,b,cifras=2,nmax=100)"
   ]
  },
  {
   "cell_type": "markdown",
   "metadata": {},
   "source": [
    "# Ejercicio 3.\n",
    "3.- Use el método de Newton-Raphson para aproximar las soluciones de las siguientes ecuaciones con tolerancia $10^{-5}$ , partiendo de un valor adecuado, próximo a cada una de ellas en cada caso."
   ]
  },
  {
   "cell_type": "code",
   "execution_count": 12,
   "metadata": {},
   "outputs": [],
   "source": [
    "# Por el motivo descrito al comienzo, haremos el ajuste suponiendo que la raíz no tiene más de 1 cifra entera\n",
    "cifras = 5+1"
   ]
  },
  {
   "cell_type": "markdown",
   "metadata": {},
   "source": [
    "i) $x^3-x-1 = 0$  en $[1,2]$."
   ]
  },
  {
   "cell_type": "code",
   "execution_count": 13,
   "metadata": {},
   "outputs": [
    {
     "name": "stdout",
     "output_type": "stream",
     "text": [
      "Solución exacta con  5  cifras significativas: 1.32472\n",
      "Aproximación solicitada:  1.32472\n"
     ]
    },
    {
     "data": {
      "text/plain": [
       "[Decimal('1.34783'),\n",
       " Decimal('1.32520'),\n",
       " Decimal('1.32472'),\n",
       " Decimal('1.32472')]"
      ]
     },
     "execution_count": 13,
     "metadata": {},
     "output_type": "execute_result"
    }
   ],
   "source": [
    "def f_ej3_1(x):\n",
    "    return x**3-x-1\n",
    "\n",
    "def df_ej3_1(x):\n",
    "    return 3*x**2-1\n",
    "\n",
    "a,b = 1,2\n",
    "x0 = 1.5\n",
    "sol_exact = sp.solve(f_ej3_1(x),x)[2]\n",
    "print('Solución exacta con ', 5, ' cifras significativas:', sol_exact.evalf(n=cifras))\n",
    "newtonRaphson(f_ej3_1,df_ej3_1,x0,cifras)"
   ]
  },
  {
   "cell_type": "code",
   "execution_count": 14,
   "metadata": {},
   "outputs": [
    {
     "data": {
      "image/png": "[encoded data removed]",
      "text/plain": [
       "<Figure size 432x288 with 1 Axes>"
      ]
     },
     "metadata": {
      "needs_background": "light"
     },
     "output_type": "display_data"
    },
    {
     "data": {
      "text/plain": [
       "<sympy.plotting.plot.Plot at 0x7f7c8c3088e0>"
      ]
     },
     "execution_count": 14,
     "metadata": {},
     "output_type": "execute_result"
    }
   ],
   "source": [
    "sp.plot(f_ej3_1(x),(x,a,b),xlim=(a,b),ylim=(-5,5))"
   ]
  },
  {
   "cell_type": "markdown",
   "metadata": {},
   "source": [
    "ii) $3x=2+x^2-e^x$."
   ]
  },
  {
   "cell_type": "code",
   "execution_count": 15,
   "metadata": {},
   "outputs": [
    {
     "name": "stdout",
     "output_type": "stream",
     "text": [
      "Solución exacta con  5  cifras significativas: 0.25753\n",
      "Posiblemente solución exacta:  0.25754\n"
     ]
    },
    {
     "data": {
      "text/plain": [
       "[Decimal('-0.0869'),\n",
       " Decimal('0.25949'),\n",
       " Decimal('0.25771'),\n",
       " Decimal('0.25754')]"
      ]
     },
     "execution_count": 15,
     "metadata": {},
     "output_type": "execute_result"
    }
   ],
   "source": [
    "def f_ej3_2(x):\n",
    "    return x**2-3*x+2-np.exp(x)\n",
    "\n",
    "def f_ej3sym_2(x):\n",
    "    return x**2-3*x+2-sp.exp(x)\n",
    "\n",
    "def df_ej3_2(x):\n",
    "    return 2*x**2-3-np.exp(x)\n",
    "\n",
    "cifras = 5\n",
    "a,b = 0,2\n",
    "x0 = 1.5\n",
    "#sol_exact = sp.solve(f_2(x),x)[0] <-- No hay solución con solve, luego usaremos nsolve para encontrarla\n",
    "sol_exact = nsolve(f_ej3sym_2(x),x,x0)\n",
    "print('Solución exacta con ', 5, ' cifras significativas:', sol_exact.evalf(n=cifras))\n",
    "newtonRaphson(f_ej3_2,df_ej3_2,x0,cifras)"
   ]
  },
  {
   "cell_type": "code",
   "execution_count": 16,
   "metadata": {},
   "outputs": [
    {
     "data": {
      "image/png": "[encoded data removed]",
      "text/plain": [
       "<Figure size 432x288 with 1 Axes>"
      ]
     },
     "metadata": {
      "needs_background": "light"
     },
     "output_type": "display_data"
    },
    {
     "data": {
      "text/plain": [
       "<sympy.plotting.plot.Plot at 0x7f7c8c308ee0>"
      ]
     },
     "execution_count": 16,
     "metadata": {},
     "output_type": "execute_result"
    }
   ],
   "source": [
    "sp.plot(f_ej3sym_2(x),(x,-5,5),xlim=(-5,5),ylim=(-5,5))"
   ]
  },
  {
   "cell_type": "markdown",
   "metadata": {},
   "source": [
    "iii) $x^2+10\\, cos x+x=0$."
   ]
  },
  {
   "cell_type": "code",
   "execution_count": 17,
   "metadata": {},
   "outputs": [],
   "source": [
    "def f_ej3_3(x):\n",
    "    return x**2+10*Decimal(np.cos(float(x)))+x\n",
    "\n",
    "def f_ej3sym_3(x):\n",
    "    return x**2+10*sp.cos(x)+x\n",
    "\n",
    "def df_ej3_3(x):\n",
    "    return 2*x-10*Decimal(np.sin(float(x)))+1\n",
    "\n",
    "cifras = 5+1"
   ]
  },
  {
   "cell_type": "markdown",
   "metadata": {},
   "source": [
    "Como podemos ver en la próxima gráfica, hay dos soluciones: una contenida en el intervalo $[-4,-2]$ y otra contenida en $[-2,0]$. Por ello, obtengamos ambas soluciones eligiendo una semilla apropiada en cada intervalo."
   ]
  },
  {
   "cell_type": "code",
   "execution_count": 18,
   "metadata": {},
   "outputs": [
    {
     "data": {
      "image/png": "[encoded data removed]",
      "text/plain": [
       "<Figure size 432x288 with 1 Axes>"
      ]
     },
     "metadata": {
      "needs_background": "light"
     },
     "output_type": "display_data"
    },
    {
     "data": {
      "text/plain": [
       "<sympy.plotting.plot.Plot at 0x7f7c8c3abeb0>"
      ]
     },
     "execution_count": 18,
     "metadata": {},
     "output_type": "execute_result"
    }
   ],
   "source": [
    "sp.plot(f_ej3sym_3(x),(x,-5,5),xlim=(-5,5),ylim=(-10,10))"
   ]
  },
  {
   "cell_type": "code",
   "execution_count": 19,
   "metadata": {},
   "outputs": [
    {
     "name": "stdout",
     "output_type": "stream",
     "text": [
      "Solución exacta con  5  cifras significativas: -1.68694\n",
      "Posiblemente solución exacta:  -1.68694\n"
     ]
    },
    {
     "data": {
      "text/plain": [
       "[Decimal('-10'),\n",
       " Decimal('-6.66086'),\n",
       " Decimal('-1.21715'),\n",
       " Decimal('-1.68620'),\n",
       " Decimal('-1.68694')]"
      ]
     },
     "execution_count": 19,
     "metadata": {},
     "output_type": "execute_result"
    }
   ],
   "source": [
    "a,b = -2,0\n",
    "x0 = 0\n",
    "#sol_exact = sp.solve(f_2(x),x)[0] #<-- No hay solución con solve, luego usaremos nsolve para encontrarla\n",
    "sol_exact = nsolve(f_ej3sym_3(x),x,x0)\n",
    "print('Solución exacta con ', 5, ' cifras significativas:', sol_exact.evalf(n=cifras))\n",
    "newtonRaphson(f_ej3_3,df_ej3_3,x0,cifras)"
   ]
  },
  {
   "cell_type": "code",
   "execution_count": 20,
   "metadata": {},
   "outputs": [
    {
     "name": "stdout",
     "output_type": "stream",
     "text": [
      "Solución exacta con  5  cifras significativas: -3.56233\n",
      "Aproximación solicitada:  -3.56233\n"
     ]
    },
    {
     "data": {
      "text/plain": [
       "[Decimal('-3.62496'),\n",
       " Decimal('-3.56431'),\n",
       " Decimal('-3.56233'),\n",
       " Decimal('-3.56233')]"
      ]
     },
     "execution_count": 20,
     "metadata": {},
     "output_type": "execute_result"
    }
   ],
   "source": [
    "a,b = -4,-2\n",
    "x0 = -4\n",
    "#sol_exact = sp.solve(f_2(x),x)[0] #<-- No hay solución con solve, luego usaremos nsolve para encontrarla\n",
    "sol_exact = nsolve(f_ej3sym_3(x),x,x0)\n",
    "print('Solución exacta con ', 5, ' cifras significativas:', sol_exact.evalf(n=cifras))\n",
    "newtonRaphson(f_ej3_3,df_ej3_3,x0,cifras)"
   ]
  },
  {
   "cell_type": "markdown",
   "metadata": {},
   "source": [
    "# Ejercicio 4.\n",
    "4.- Para la función  $ f(x)= 3 x^2+e^x-1$, \n",
    "\n",
    "i) encuentre, mediante el método de bisección una aproximación de la raíz en $[0,1]$ con, al menos, cuatro decimales exactos (tol =$10^{-4}$), y determine el número de iteraciones realizadas;"
   ]
  },
  {
   "cell_type": "code",
   "execution_count": 21,
   "metadata": {},
   "outputs": [
    {
     "name": "stdout",
     "output_type": "stream",
     "text": [
      "Solución exacta con  4  cifras significativas: 0\n",
      "Aproximación solicitada:  0.00006104\n"
     ]
    },
    {
     "data": {
      "text/plain": [
       "[Decimal('0.5'),\n",
       " Decimal('0.25'),\n",
       " Decimal('0.125'),\n",
       " Decimal('0.0625'),\n",
       " Decimal('0.03125'),\n",
       " Decimal('0.015625'),\n",
       " Decimal('0.0078125'),\n",
       " Decimal('0.0039063'),\n",
       " Decimal('0.0019532'),\n",
       " Decimal('0.0009766'),\n",
       " Decimal('0.0004883'),\n",
       " Decimal('0.00024415'),\n",
       " Decimal('0.00012208'),\n",
       " Decimal('0.00006104')]"
      ]
     },
     "execution_count": 21,
     "metadata": {},
     "output_type": "execute_result"
    }
   ],
   "source": [
    "def f_ej4sym(x):\n",
    "    return 3*x**2+sp.exp(x)-1\n",
    "\n",
    "def f_ej4(x):\n",
    "    return 3*x**2+Decimal(np.exp(float(x)))-1\n",
    "\n",
    "sol_exact = nsolve(f_ej4sym(x),x,0)\n",
    "\n",
    "a = 0; b = 1\n",
    "cifras = 4\n",
    "\n",
    "print('Solución exacta con ', 4, ' cifras significativas:', sol_exact.evalf(n=2))\n",
    "metodoBiseccion(f_ej4,a,b,cifras)"
   ]
  },
  {
   "cell_type": "markdown",
   "metadata": {},
   "source": [
    "Veamos primero si podemos aplicar el método de la bisección. Para ello, primero debe garantizar el Teorema de Bolzano:"
   ]
  },
  {
   "cell_type": "code",
   "execution_count": 22,
   "metadata": {},
   "outputs": [
    {
     "name": "stdout",
     "output_type": "stream",
     "text": [
      "0\n"
     ]
    }
   ],
   "source": [
    "print(sign(f_ej4(a))*sign(f_ej4(b)))"
   ]
  },
  {
   "cell_type": "markdown",
   "metadata": {},
   "source": [
    "Como no se cumple que $f(a)f(b)<0$, no se cumple el Teorema de Bolzano luego no podemos aplicar el método de la bisección en $[0,1]$. Por otro lado, para ver el número de iteraciones que garantizan aproximarse con una tolerancia $\\epsilon = 10^{-4}$, tan sólo llamaremos a la función previamente definida para ello:"
   ]
  },
  {
   "cell_type": "code",
   "execution_count": 23,
   "metadata": {},
   "outputs": [
    {
     "name": "stdout",
     "output_type": "stream",
     "text": [
      "Número de iteraciones:  13.0\n"
     ]
    },
    {
     "data": {
      "text/plain": [
       "13.0"
      ]
     },
     "execution_count": 23,
     "metadata": {},
     "output_type": "execute_result"
    }
   ],
   "source": [
    "numIterBiseccion(a,b,cifras)"
   ]
  },
  {
   "cell_type": "markdown",
   "metadata": {},
   "source": [
    "*Nota*: Fácilmente podemos ver esto dibujando la gráfica."
   ]
  },
  {
   "cell_type": "code",
   "execution_count": 24,
   "metadata": {},
   "outputs": [
    {
     "data": {
      "image/png": "[encoded data removed]",
      "text/plain": [
       "<Figure size 432x288 with 1 Axes>"
      ]
     },
     "metadata": {
      "needs_background": "light"
     },
     "output_type": "display_data"
    },
    {
     "data": {
      "text/plain": [
       "<sympy.plotting.plot.Plot at 0x7f7c8c29c820>"
      ]
     },
     "execution_count": 24,
     "metadata": {},
     "output_type": "execute_result"
    }
   ],
   "source": [
    "sp.plot(f_ej4sym(x),(x,-b,b),xlim=(-0.2,0.2),ylim=(-0.5,0.5))"
   ]
  },
  {
   "cell_type": "markdown",
   "metadata": {},
   "source": [
    "ii) encuentre, mediante el método de Newton-Raphson, una aproximación de la raíz en $[0,1]$ con una tolerancia de $10^{-4}$, partiendo de $x_0=0$, y determine el número de iteraciones realizadas.  "
   ]
  },
  {
   "cell_type": "code",
   "execution_count": 25,
   "metadata": {},
   "outputs": [
    {
     "name": "stdout",
     "output_type": "stream",
     "text": [
      "Solución exacta con  4  cifras significativas: 0\n",
      "Aproximación solicitada:  0\n",
      "Número de iteraciones reales en newtonRaphson:  1\n"
     ]
    },
    {
     "data": {
      "text/plain": [
       "[Decimal('0')]"
      ]
     },
     "execution_count": 25,
     "metadata": {},
     "output_type": "execute_result"
    }
   ],
   "source": [
    "def df_ej4(x):\n",
    "    return 6*x+Decimal(np.exp(float(x)))\n",
    "\n",
    "x0 = 0.\n",
    "\n",
    "print('Solución exacta con ', 4, ' cifras significativas:', sol_exact.evalf(n=2))\n",
    "newtonRaphson(f_ej4,df_ej4,x0,cifras,num_iter=True)"
   ]
  },
  {
   "cell_type": "markdown",
   "metadata": {},
   "source": [
    "# Ejercicio 5.\n",
    "5.- Utilice las órdenes apropiadas de Python para aproximar todos los puntos donde se anulan las funciones siguientes (si es necesario, represéntelas gráficamente):"
   ]
  },
  {
   "cell_type": "markdown",
   "metadata": {},
   "source": [
    "*NOTA:* En este ejercicio, cuando se realiza el método de la bisección, siempre se verifica que $f(a)f(b)<0$."
   ]
  },
  {
   "cell_type": "markdown",
   "metadata": {},
   "source": [
    "i) $f(x)=x^7-x^4+2$"
   ]
  },
  {
   "cell_type": "code",
   "execution_count": 26,
   "metadata": {},
   "outputs": [
    {
     "name": "stdout",
     "output_type": "stream",
     "text": [
      "Solución con  16  cifras significativas: -1.000000000000000\n",
      "Solución con  16  cifras significativas: -0.7131021458512931 - 0.9882318882715605*I\n",
      "Solución con  16  cifras significativas: -0.7131021458512931 + 0.9882318882715605*I\n",
      "Solución con  16  cifras significativas: 0.1519993353909364 - 1.019455946690631*I\n",
      "Solución con  16  cifras significativas: 0.1519993353909364 + 1.019455946690631*I\n",
      "Solución con  16  cifras significativas: 1.061102810460357 - 0.376384046559108*I\n",
      "Solución con  16  cifras significativas: 1.061102810460357 + 0.376384046559108*I\n",
      "Aproximación solicitada:  0.99999999999999995\n",
      "Aproximación solicitada:  -0.99999999999999995\n",
      "Aproximación solicitada:  1.999999999999999\n",
      "Posiblemente solución exacta:  -1.000000000000000\n",
      "Aproximación solicitada:  -1\n",
      "Posiblemente solución exacta:  -1.000000000000000\n"
     ]
    },
    {
     "data": {
      "image/png": "[encoded data removed]",
      "text/plain": [
       "<Figure size 432x288 with 1 Axes>"
      ]
     },
     "metadata": {
      "needs_background": "light"
     },
     "output_type": "display_data"
    },
    {
     "data": {
      "text/plain": [
       "<sympy.plotting.plot.Plot at 0x7f7c8bfbe170>"
      ]
     },
     "execution_count": 26,
     "metadata": {},
     "output_type": "execute_result"
    }
   ],
   "source": [
    "def f_ej5_1(x):\n",
    "    return x**7-x**4+Decimal(2)\n",
    "\n",
    "def df_ej5_1(x):\n",
    "    return 7*x**6-4*x**3\n",
    "\n",
    "sols = sp.solve(f_ej5_1(x),x)\n",
    "for sol in sols:\n",
    "    print('Solución con ', 16, ' cifras significativas:', sol.evalf(n=16))\n",
    "\n",
    "metodoBiseccion(f_ej5_1,0,1)\n",
    "metodoBiseccion(f_ej5_1,-1,0)\n",
    "metodoBiseccion(f_ej5_1,1.3,2,cifras=15)\n",
    "newtonRaphson(f_ej5_1,df_ej5_1,x0=1)\n",
    "newtonRaphson(f_ej5_1,df_ej5_1,x0=-1)\n",
    "newtonRaphson(f_ej5_1,df_ej5_1,x0=1.6)\n",
    "\n",
    "sp.plot(f_ej5_1(x),(x,-10,10),xlim=(-2,2),ylim=(-5,5))"
   ]
  },
  {
   "cell_type": "markdown",
   "metadata": {},
   "source": [
    "ii) $f(x)=x^7+\\cos  x-3$."
   ]
  },
  {
   "cell_type": "code",
   "execution_count": 27,
   "metadata": {},
   "outputs": [
    {
     "name": "stdout",
     "output_type": "stream",
     "text": [
      "Posiblemente solución exacta:  1.1454598072700087\n",
      "Aproximación solicitada:  1.145459807270009\n"
     ]
    },
    {
     "data": {
      "image/png": "[encoded data removed]",
      "text/plain": [
       "<Figure size 432x288 with 1 Axes>"
      ]
     },
     "metadata": {
      "needs_background": "light"
     },
     "output_type": "display_data"
    },
    {
     "data": {
      "text/plain": [
       "<sympy.plotting.plot.Plot at 0x7f7c8c0bee30>"
      ]
     },
     "execution_count": 27,
     "metadata": {},
     "output_type": "execute_result"
    }
   ],
   "source": [
    "def f_ej5_2(x):\n",
    "    return x**7+Decimal(np.cos(float(x)))-Decimal(3)\n",
    "\n",
    "def f_ej5sym_2(x):\n",
    "    return x**7+sp.cos(x)-Decimal(3)\n",
    "\n",
    "def df_ej5_2(x):\n",
    "    return 7*x**6-Decimal(np.sin(float(x)))\n",
    "\n",
    "# sols = sp.solve(f_ej5sym_2(x),x) <-- No puede calcular las soluciones\n",
    "metodoBiseccion(f_ej5_2,a=0,b=5)\n",
    "newtonRaphson(f_ej5_2,df_ej5_2,x0=1.2)\n",
    "\n",
    "sp.plot(f_ej5sym_2(x),(x,-10,10),xlim=(-1,2),ylim=(-5,5))"
   ]
  },
  {
   "cell_type": "markdown",
   "metadata": {},
   "source": [
    "# Ejercicio 6.\n",
    "6.- Aplicar los métodos de aceleración de la convergencia de Aitken y Steffensen (según los apuntes) a las sucesiones obtenidas para los distintos métodos programados en esta práctica y comparar los resultados. Para aplicar el método de aceleración de Steffensen, recuerde que para transformar cualquier ecuación de la forma  $ f(x)=0 $  en un problema de puntos fijos  $ g(x)=x $, la forma más simple puede ser definir  $g(x)=x \\pm f(x)$."
   ]
  },
  {
   "cell_type": "code",
   "execution_count": 28,
   "metadata": {},
   "outputs": [],
   "source": [
    "def metodoAitken(aprox):\n",
    "    '''\n",
    "    Método de aceleración de convergencia de Aitken\n",
    "    '''\n",
    "    acelAitken = []\n",
    "    n = len(aprox)\n",
    "    \n",
    "    for k in range(n-2):\n",
    "        aproxacel = aprox[k]-(aprox[k+1]-aprox[k])**2/(aprox[k+2]-2*aprox[k+1]+aprox[k])\n",
    "        acelAitken.append(aproxacel)\n",
    "    \n",
    "    print('Aproximación por aceleración de Aitken en ', n, ' iteraciones:', acelAitken[len(acelAitken)-1])\n",
    "    return acelAitken\n",
    "\n",
    "def metodoSteffensen(g,x0,niter):\n",
    "    '''\n",
    "    Método de aceleración de convergencia de Steffensen\n",
    "    '''\n",
    "\n",
    "    aproxtemp = [x0,g(x0),g(g(x0))]\n",
    "    acelSteff = []\n",
    "\n",
    "    for i in range(niter):\n",
    "        x0 = aproxtemp[0]-(aproxtemp[1]-aproxtemp[0])**2/(aproxtemp[2]-2*aproxtemp[1]+aproxtemp[0])\n",
    "        aproxtemp = [x0,g(x0),g(g(x0))]\n",
    "        acelSteff = acelSteff + [aproxtemp[0]]\n",
    "\n",
    "    print('Aproximación por aceleración de Steffensen en ', niter, ' iteraciones:', acelSteff[len(acelSteff)-1])\n",
    "    return acelSteff"
   ]
  },
  {
   "cell_type": "markdown",
   "metadata": {},
   "source": [
    "Primero transformemos las funciones en problemas de punto fijo y compararemos los resultados:"
   ]
  },
  {
   "cell_type": "code",
   "execution_count": 29,
   "metadata": {},
   "outputs": [
    {
     "name": "stdout",
     "output_type": "stream",
     "text": [
      "Se llegó al número máximo de iteraciones 1.3652300134140969\n",
      "Número de iteraciones reales en metodoBiseccion:  100\n",
      "Posiblemente solución exacta:  1.365230013414097\n",
      "Número de iteraciones reales en newtonRaphson:  5\n",
      "Aproximación por aceleración de Aitken en  100  iteraciones: 1.365230013414097\n",
      "Aproximación por aceleración de Aitken en  5  iteraciones: 1.365230013414097\n",
      "Aproximación por aceleración de Steffensen en  10  iteraciones: 1.3652300134140969\n"
     ]
    }
   ],
   "source": [
    "# EJERCICIO 1\n",
    "def g_ej1(x):\n",
    "    return x - f_ej1(x)\n",
    "\n",
    "a,b = 1,2\n",
    "x0 = 1\n",
    "xn_ej1_biseccion = metodoBiseccion(f_ej1,a,b,num_iter=True)\n",
    "xn_ej1_nr = newtonRaphson(f_ej1,df_ej1,x0,num_iter=True)\n",
    "xn_ej1_aitken_biseccion = metodoAitken(xn_ej1_biseccion)\n",
    "xn_ej1_aitken_nr = metodoAitken(xn_ej1_nr)\n",
    "xn_ej1_steffensen = metodoSteffensen(g_ej1,x0,10)\n",
    "\n",
    "int_list = [max (xn_ej1_biseccion), max (xn_ej1_nr), max (xn_ej1_aitken_biseccion), max (xn_ej1_aitken_nr), max (xn_ej1_steffensen)]"
   ]
  },
  {
   "cell_type": "markdown",
   "metadata": {},
   "source": [
    "Comparemos visualmente las soluciones:"
   ]
  },
  {
   "cell_type": "code",
   "execution_count": 30,
   "metadata": {},
   "outputs": [
    {
     "data": {
      "image/png": "[encoded data removed]",
      "text/plain": [
       "<Figure size 432x288 with 1 Axes>"
      ]
     },
     "metadata": {
      "needs_background": "light"
     },
     "output_type": "display_data"
    }
   ],
   "source": [
    "fig, ax = plt.subplots();\n",
    "ax.plot([i for i in range(len(xn_ej1_biseccion))],xn_ej1_biseccion, label = \"y = metodoBiseccion(x)\");\n",
    "ax.plot([i for i in range(len(xn_ej1_nr))],xn_ej1_nr, label = \"y = newtonRaphson(x)\");\n",
    "ax.plot([i for i in range(len(xn_ej1_aitken_biseccion))],xn_ej1_aitken_biseccion, label = \"y = metodoAitkenBiseccion(x)\");\n",
    "ax.plot([i for i in range(len(xn_ej1_aitken_nr))],xn_ej1_aitken_nr, label = \"y = metodoAitkenNR(x)\");\n",
    "ax.plot([i for i in range(len(xn_ej1_steffensen))],xn_ej1_steffensen, label = \"y = metodoSteffensen(x)\");\n",
    "ax.legend(loc=1);\n",
    "ax.set_xlabel('Iteraciones')\n",
    "ax.set_ylabel('Valor de la aproximación')\n",
    "ax.set_title('Aproximaciones a f_ej1(x)=0')\n",
    "plt.ylim([1.2, 1.5])\n",
    "plt.xlim([0, 10])\n",
    "plt.show()\n"
   ]
  },
  {
   "cell_type": "markdown",
   "metadata": {},
   "source": [
    "Como podemos observar en la gráfica, los métodos que han conseguido una convergencia más rápida serían tanto el método de Newton-Raphson, como el de Newton-Raphson acelerado por Aitken, el cual consigue aproximar muy bien el resultado desde la primera iteración. Le sigue de cerca el método de la bisección acelerada por Aitken el de la bisección. Finalmente, vemos que el que peor ha funcionado es el método de Steffensen usado sobre un método de iteración funcional de punto fijo.\n",
    "\n",
    "Esto se debe a que los métodos de aceleración empleados sirven para mejorar la convergencia lineal, sin embargo, Newton-Raphson tiene una convergencia cuadrática, por lo que ofrece los mejores resultados para encontrar raíces simples."
   ]
  },
  {
   "cell_type": "markdown",
   "metadata": {},
   "source": [
    "# Ejercicio 7.\n",
    " 7.- Programar el método de Newton-Raphson acelerado, partiendo de cierto $x_0$ adecuado: $$x_{n+1}=x_n - m\\frac{f(x_n)}{f'(x_n)}, \\quad n=0,1,2,\\ldots$$ para el caso de una raíz múltiple (de multiplicidad $m\\in\\mathbb{N}$) de una ecuación del tipo $f(x)=0$ y comparar los resultados\n",
    "con los que se obtienen mediante el empleo de los métodos de aceleración habituales de Aitken y Steffensen (según los apuntes)."
   ]
  },
  {
   "cell_type": "code",
   "execution_count": 31,
   "metadata": {},
   "outputs": [],
   "source": [
    "def newtonRaphsonAcelerado(f,df,x0,m,cifras=16,prec=10**(-16),nmax=100,num_iter=False):\n",
    "    '''\n",
    "    Implementación del algoritmo de Newthon-Raphson acelerado\n",
    "    para raíces múltiples\n",
    "    '''\n",
    "    x0 = Decimal(x0); m = Decimal(m)\n",
    "    niter = 0; sale =''\n",
    "    iter_list = []\n",
    "    getcontext().prec = cifras\n",
    "   \n",
    "    tol = 10**(-cifras)\n",
    "    for k in range(nmax):\n",
    "        niter = niter + 1;\n",
    "        x1 = x0 - m*f(x0)/Decimal(df(x0))\n",
    "        iter_list.append(x1)\n",
    "        if abs(x1-x0) < tol:\n",
    "            sale = 'tolerancia'\n",
    "            break\n",
    "        if abs(f(x1)) < prec:\n",
    "            sale = 'precision'\n",
    "            break\n",
    "        else:\n",
    "            x0 = x1\n",
    "\n",
    "    if sale == 'precision':\n",
    "        print('Posiblemente solución exacta: ',x1)\n",
    "    elif niter < nmax:\n",
    "        print('Aproximación solicitada: ', x1)\n",
    "    else:\n",
    "        print('Se llegó al número máximo de iteraciones', x1)\n",
    "    \n",
    "    getcontext().prec = mporig\n",
    "    if num_iter:\n",
    "        print('Número de iteraciones reales en Newton-Raphson acelerado: ',niter)\n",
    "    print('Multiplicidad de la raíz: ',m)\n",
    "\n",
    "    return iter_list"
   ]
  },
  {
   "cell_type": "markdown",
   "metadata": {},
   "source": [
    "Para probar dicho método, tomaré la función $f(x)=(x-1)^3(x+1)^2(x+3)=x^6+2x^5-5x^4-4x^3+7x^2+2x-3$, pues posee raíces simples, dobles y múltiples que serán de gran utilidad para comparar resultados en este ejercicio."
   ]
  },
  {
   "cell_type": "code",
   "execution_count": 32,
   "metadata": {},
   "outputs": [
    {
     "name": "stdout",
     "output_type": "stream",
     "text": [
      "Raíz m=1:\n",
      "Posiblemente solución exacta:  1.250000000000000\n",
      "Número de iteraciones reales en newtonRaphson:  6\n",
      "Posiblemente solución exacta:  1.2500000000000000\n",
      "Número de iteraciones reales en Newton-Raphson acelerado:  6\n",
      "Multiplicidad de la raíz:  1\n",
      "\n",
      "Raíz m=2:\n",
      "Posiblemente solución exacta:  2.499999994489037\n",
      "Número de iteraciones reales en newtonRaphson:  27\n",
      "Posiblemente solución exacta:  2.499999999998831\n",
      "Número de iteraciones reales en Newton-Raphson acelerado:  4\n",
      "Multiplicidad de la raíz:  2\n",
      "\n",
      "Raíz m=3:\n",
      "Posiblemente solución exacta:  3.750002408814985\n",
      "Número de iteraciones reales en newtonRaphson:  29\n",
      "Posiblemente solución exacta:  3.750000250272676\n",
      "Número de iteraciones reales en Newton-Raphson acelerado:  3\n",
      "Multiplicidad de la raíz:  3\n"
     ]
    },
    {
     "data": {
      "image/png": "[encoded data removed]",
      "text/plain": [
       "<Figure size 432x288 with 1 Axes>"
      ]
     },
     "metadata": {
      "needs_background": "light"
     },
     "output_type": "display_data"
    },
    {
     "data": {
      "text/plain": [
       "<sympy.plotting.plot.Plot at 0x7f7c8bfbe2f0>"
      ]
     },
     "execution_count": 32,
     "metadata": {},
     "output_type": "execute_result"
    }
   ],
   "source": [
    "def f_ej7(x):\n",
    "    return (x-Decimal(1.25))*((x-Decimal(2.5))**2)*((x-Decimal(3.75))**3)\n",
    "\n",
    "def df_ej7(x):\n",
    "    return Decimal(6.0)*x**5 - Decimal(87.5)*x**4 + Decimal(500.0)*x**3 - Decimal(1394.53125)*x**2 + Decimal(1889.6484375)*x - Decimal(988.76953125)\n",
    "\n",
    "x0_1, x0_2, x0_3 = 1,2,4\n",
    "print('Raíz m=1:')\n",
    "newtonRaphson(f_ej7,df_ej7,x0_1,num_iter=True)\n",
    "newtonRaphsonAcelerado(f_ej7,df_ej7,x0_1,cifras=17,m=1,num_iter=True)\n",
    "print('\\nRaíz m=2:')\n",
    "newtonRaphson(f_ej7,df_ej7,x0_2,num_iter=True)\n",
    "newtonRaphsonAcelerado(f_ej7,df_ej7,x0_2,m=2,num_iter=True)\n",
    "print('\\nRaíz m=3:')\n",
    "newtonRaphson(f_ej7,df_ej7,x0_3,num_iter=True)\n",
    "xn_ej7_nra = newtonRaphsonAcelerado(f_ej7,df_ej7,x0_3,m=3,num_iter=True,nmax=1000)\n",
    "sp.plot(f_ej7(x))\n",
    "\n"
   ]
  },
  {
   "cell_type": "markdown",
   "metadata": {},
   "source": [
    "Como podemos ver, este nuevo método mejora sustancialmente la velocidad de convergencia cuando se trata de una raíz múltiple. Ahora comparémoslo con los métodos de aceleración de Aitken y Steffensen:"
   ]
  },
  {
   "cell_type": "code",
   "execution_count": 33,
   "metadata": {},
   "outputs": [
    {
     "name": "stdout",
     "output_type": "stream",
     "text": [
      "Aproximación por aceleración de Aitken en  3  iteraciones: 3.749987618381641290370371483\n",
      "Aproximación por aceleración de Steffensen en  10  iteraciones: 3.753500119816468475670897307\n"
     ]
    },
    {
     "data": {
      "text/plain": [
       "[Decimal('3.879932298109445516990014855'),\n",
       " Decimal('3.835658032792054488530066100'),\n",
       " Decimal('3.807526461656000416253413510'),\n",
       " Decimal('3.788742342710449315574118791'),\n",
       " Decimal('3.776060744540760599508845590'),\n",
       " Decimal('3.767494779830419094285291221'),\n",
       " Decimal('3.761722285033051553547621544'),\n",
       " Decimal('3.757842740279513365774550485'),\n",
       " Decimal('3.755241373654727806986869252'),\n",
       " Decimal('3.753500119816468475670897307')]"
      ]
     },
     "execution_count": 33,
     "metadata": {},
     "output_type": "execute_result"
    }
   ],
   "source": [
    "def g_ej7(x):\n",
    "    return x - f_ej7(x)\n",
    "\n",
    "metodoAitken(xn_ej7_nra)\n",
    "metodoSteffensen(g_ej7,x0_3,10)"
   ]
  },
  {
   "cell_type": "markdown",
   "metadata": {},
   "source": [
    "Como podemos ver, Aitken converge mejor que la sucesión original y que Steffensen. El problema es que muchas veces debemos tener **mucho** cuidado con la semilla que tomemos, pues la raíz a la que converja nuestro método puede cambiar radicalmente."
   ]
  },
  {
   "cell_type": "markdown",
   "metadata": {},
   "source": [
    "# Ejercicio 8.\n",
    "8.- Programar el conocido algoritmo de Horner para la evaluación de un polinomio y emplearlo de forma reiterativa para el cálculo del desarrollo de Taylor de orden $ n$ de un polinomio cualquiera. Aprovecharlo también para programar una versión especial del método de Newton-Raphson para polinomios, evaluando tanto  $ p(x_k ) $ como $ p'(x_k)$ mediante el citado algoritmo y aplicarlo para aproximar alguna de las raíces reales del siguiente polinomio\n",
    "\n",
    "$$p(x)=d_0 + d_1 x + d_2 x^2 + d_3 x^3+ d_4 x^4 + d_5 x^5 + d_6 x^6 + d_7 x^7 $$\n",
    "(siendo $d_0, d_1, \\ldots, d_7$ los dígitos ordenados de su DNI, pasaporte o tarjeta de residente).\n",
    "\n",
    "Programar y construir también una sucesión de Sturm para dicho polinomio."
   ]
  },
  {
   "cell_type": "code",
   "execution_count": 34,
   "metadata": {},
   "outputs": [
    {
     "data": {
      "text/plain": [
       "Decimal('19598')"
      ]
     },
     "execution_count": 34,
     "metadata": {},
     "output_type": "execute_result"
    }
   ],
   "source": [
    "DNI = [1,2,3,4,5,6,7,8]\n",
    "\n",
    "def p(x,coefs):\n",
    "    return sum([Decimal(coefs[i])*x**i for i in range(len(coefs))])\n",
    "\n",
    "def mi_polinomio(x):\n",
    "    x = Decimal(x)\n",
    "    return Decimal(2) + Decimal(4)*x + Decimal(4)*x**2 + x**3 + x**4 + Decimal(2)*x**5 + Decimal(2)*x**6 + Decimal(8)*x**7\n",
    "\n",
    "def dp(x):\n",
    "    return 4 + 8*x + 3*x**2 + 4*x**3 + 10*x**4 + 12*x**5 + 56*x**6\n",
    "\n",
    "def algoritmoHorner(x0,p):\n",
    "    '''\n",
    "    Implementación del algoritmo de Horner\n",
    "    '''\n",
    "    x0 = Decimal(x0)\n",
    "    p.reverse()\n",
    "    q = [p[0]]\n",
    "    resto = 0\n",
    "    \n",
    "    for i in range(1,len(p)):\n",
    "        resto = p[i]+q[i-1]*x0\n",
    "        q.append(resto)\n",
    "    \n",
    "    resto = q.pop()\n",
    "    q.reverse()\n",
    "\n",
    "    return resto, q\n",
    "\n",
    "def hornerTaylor(x,x0,p,orden):\n",
    "    '''\n",
    "    Implementación de la obtención del polinomio de Taylor\n",
    "    usando el algoritmo de Horner para el cálculo de los coeficientes\n",
    "    '''\n",
    "    coefs = p\n",
    "    x = Decimal(x)\n",
    "    resultado = Decimal(0)\n",
    "\n",
    "    for i in range(orden):\n",
    "        r, coefs = algoritmoHorner(x0,coefs)\n",
    "        resultado += r * (x-x0)**i\n",
    "\n",
    "    return resultado\n",
    "\n",
    "hornerTaylor(3,2,DNI,orden=len(DNI))\n"
   ]
  },
  {
   "cell_type": "code",
   "execution_count": 35,
   "metadata": {},
   "outputs": [
    {
     "data": {
      "image/png": "[encoded data removed]",
      "text/plain": [
       "<Figure size 432x288 with 1 Axes>"
      ]
     },
     "metadata": {
      "needs_background": "light"
     },
     "output_type": "display_data"
    },
    {
     "name": "stdout",
     "output_type": "stream",
     "text": [
      "[-1.06636816+1.06875939j -1.06636816-1.06875939j -1.34260126+0.j\n",
      " -0.0932829 +1.11102948j -0.0932829 -1.11102948j  0.83095169+0.6008156j\n",
      "  0.83095169-0.6008156j ]\n",
      "Aproximación solicitada:  -1.342601258444345\n",
      "Número de iteraciones reales en newtonRaphsonHorner:  9\n"
     ]
    },
    {
     "data": {
      "text/plain": [
       "[Decimal('-1.857142857142857'),\n",
       " Decimal('-1.627714043381176'),\n",
       " Decimal('-1.458235847126949'),\n",
       " Decimal('-1.366923776720673'),\n",
       " Decimal('-1.343850553541834'),\n",
       " Decimal('-1.342604687917873'),\n",
       " Decimal('-1.342601258470245'),\n",
       " Decimal('-1.342601258444345'),\n",
       " Decimal('-1.342601258444345')]"
      ]
     },
     "execution_count": 35,
     "metadata": {},
     "output_type": "execute_result"
    }
   ],
   "source": [
    "def newtonRaphsonHorner(coefs,x0,cifras=16,prec=10**(-16),nmax=100,num_iter=False):\n",
    "    '''\n",
    "    Implementación del algoritmo de Newthon-Raphson para \n",
    "    el caso de un polinomio usando el algoritmo de Horner\n",
    "    '''\n",
    "    getcontext().prec = cifras\n",
    "    tol = 10**(-cifras)\n",
    "    niter = 0; sale = ''\n",
    "    orden = 2; dp = 0\n",
    "    sucesionNewtonRaphson = [];\n",
    "    x0 = Decimal(x0)      \n",
    "\n",
    "    for k in range(nmax):\n",
    "        niter = niter + 1\n",
    "       # Hacemos dp a partir del algoritmo de Horner\n",
    "        p, der_coefs = algoritmoHorner(x0,coefs)\n",
    "        dp, der_coefs = algoritmoHorner(x0,der_coefs)\n",
    "        # Calculamos la aproximación\n",
    "        x1 = x0 - p/dp\n",
    "        p, der_coefs = algoritmoHorner(x1,coefs)\n",
    "        sucesionNewtonRaphson.append(x1)\n",
    "\n",
    "        if abs(x1-x0) < tol:\n",
    "            sale = 'tolerancia'\n",
    "            break\n",
    "        if abs(p) < prec:\n",
    "            sale = 'precision'\n",
    "            break\n",
    "        else:\n",
    "            x0 = x1\n",
    "            \n",
    "        der_coefs = coefs\n",
    "\n",
    "    if sale == 'precision':\n",
    "        print('Posiblemente solución exacta: ',x1)\n",
    "    elif niter < nmax:\n",
    "        print('Aproximación solicitada: ',x1)\n",
    "    else:\n",
    "        print('Se llegó al número máximo de iteraciones: ',x1)\n",
    "    if num_iter:\n",
    "        print('Número de iteraciones reales en newtonRaphsonHorner: ',niter)\n",
    "        \n",
    "    return sucesionNewtonRaphson\n",
    "\n",
    "DNI_R = DNI[::-1]   # Invertimos el polinomio para evaluarlo en numpy\n",
    "sp.plot(p(x,DNI),x)\n",
    "print(np.roots(DNI_R))\n",
    "newtonRaphsonHorner(DNI,-1,num_iter=True)"
   ]
  },
  {
   "cell_type": "markdown",
   "metadata": {},
   "source": [
    "Ahora obtengamos la sucesión de Sturm para mi polinomio:"
   ]
  },
  {
   "cell_type": "code",
   "execution_count": 36,
   "metadata": {},
   "outputs": [
    {
     "data": {
      "text/plain": [
       "[Poly(2.0*x**7 + 4.0*x**6 + 4.0*x**5 + 1.0*x**4 + 1.0*x**3 + 2.0*x**2 + 2.0*x + 8.0, x, domain='RR'),\n",
       " Poly(14.0*x**6 + 24.0*x**5 + 20.0*x**4 + 4.0*x**3 + 3.0*x**2 + 4.0*x + 2.0, x, domain='RR'),\n",
       " Poly(-0.163265306122449*x**5 + 0.387755102040817*x**4 - 0.408163265306122*x**3 - 1.30612244897959*x**2 - 1.55102040816327*x - 7.91836734693878, x, domain='RR'),\n",
       " Poly(-120.96875*x**4 + 251.125*x**3 + 587.999999999999*x**2 + 1218.875*x + 2774.625, x, domain='RR'),\n",
       " Poly(1.10039926882466*x**3 + 2.71385080229817*x**2 + 4.80383507352628*x + 6.79849186910784, x, domain='RR'),\n",
       " Poly(239.015477980997*x**2 + 432.457919896258*x + 620.071103829689, x, domain='RR'),\n",
       " Poly(-0.641198527280495*x - 4.92318313478669, x, domain='RR'),\n",
       " Poly(-11390.3313618994, x, domain='RR')]"
      ]
     },
     "execution_count": 36,
     "metadata": {},
     "output_type": "execute_result"
    }
   ],
   "source": [
    "def sturm(polinomio,x):\n",
    "    '''\n",
    "    Método para obtener una sucesión de Sturm para un polinomio\n",
    "    '''\n",
    "    \n",
    "    p0 = polinomio\n",
    "    p1 = sp.Poly(sp.diff(polinomio,x))\n",
    "    \n",
    "    sucesion = [p0,p1]\n",
    "    p = p0 % p1\n",
    "    p = sp.Poly(-p)\n",
    "    while((sp.degree(p,x) != -sp.oo) or (p == p0)):\n",
    "        sucesion.append(p)\n",
    "        p0,p1 = p1,p\n",
    "        p = p0 % p1\n",
    "        p = sp.Poly(-p)\n",
    "    \n",
    "    return sucesion\n",
    "\n",
    "pol = sp.Poly(p(x,DNI),x)\n",
    "sturm(pol,x)"
   ]
  }
 ],
 "metadata": {
  "interpreter": {
   "hash": "e7370f93d1d0cde622a1f8e1c04877d8463912d04d973331ad4851f04de6915a"
  },
  "kernelspec": {
   "display_name": "Python 3 (ipykernel)",
   "language": "python",
   "name": "python3"
  },
  "language_info": {
   "codemirror_mode": {
    "name": "ipython",
    "version": 3
   },
   "file_extension": ".py",
   "mimetype": "text/x-python",
   "name": "python",
   "nbconvert_exporter": "python",
   "pygments_lexer": "ipython3",
   "version": "3.10.4"
  }
 },
 "nbformat": 4,
 "nbformat_minor": 2
}
