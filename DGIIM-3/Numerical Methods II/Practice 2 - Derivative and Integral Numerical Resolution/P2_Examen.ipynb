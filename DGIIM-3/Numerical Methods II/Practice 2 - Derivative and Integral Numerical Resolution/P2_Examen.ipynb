{
 "cells": [
  {
   "cell_type": "markdown",
   "metadata": {},
   "source": [
    "# Examen Prácrica 2\n",
    "## Pablo Olivares Martínez"
   ]
  },
  {
   "cell_type": "code",
   "execution_count": 6,
   "metadata": {},
   "outputs": [
    {
     "data": {
      "application/json": {
       "Software versions": [
        {
         "module": "Python",
         "version": "3.10.4 64bit [GCC 12.0.1 20220308 (Red Hat 12.0.1-0)]"
        },
        {
         "module": "IPython",
         "version": "8.1.1"
        },
        {
         "module": "OS",
         "version": "Linux 5.17.6 300.fc36.x86_64 x86_64 with glibc2.35"
        },
        {
         "module": "sympy",
         "version": "1.10"
        }
       ]
      },
      "text/html": [
       "<table><tr><th>Software</th><th>Version</th></tr><tr><td>Python</td><td>3.10.4 64bit [GCC 12.0.1 20220308 (Red Hat 12.0.1-0)]</td></tr><tr><td>IPython</td><td>8.1.1</td></tr><tr><td>OS</td><td>Linux 5.17.6 300.fc36.x86_64 x86_64 with glibc2.35</td></tr><tr><td>sympy</td><td>1.10</td></tr><tr><td colspan='2'>Mon May 16 17:55:43 2022 CEST</td></tr></table>"
      ],
      "text/latex": [
       "\\begin{tabular}{|l|l|}\\hline\n",
       "{\\bf Software} & {\\bf Version} \\\\ \\hline\\hline\n",
       "Python & 3.10.4 64bit [GCC 12.0.1 20220308 (Red Hat 12.0.1-0)] \\\\ \\hline\n",
       "IPython & 8.1.1 \\\\ \\hline\n",
       "OS & Linux 5.17.6 300.fc36.x86\\_64 x86\\_64 with glibc2.35 \\\\ \\hline\n",
       "sympy & 1.10 \\\\ \\hline\n",
       "\\hline \\multicolumn{2}{|l|}{Mon May 16 17:55:43 2022 CEST} \\\\ \\hline\n",
       "\\end{tabular}\n"
      ],
      "text/plain": [
       "Software versions\n",
       "Python 3.10.4 64bit [GCC 12.0.1 20220308 (Red Hat 12.0.1-0)]\n",
       "IPython 8.1.1\n",
       "OS Linux 5.17.6 300.fc36.x86_64 x86_64 with glibc2.35\n",
       "sympy 1.10\n",
       "Mon May 16 17:55:43 2022 CEST"
      ]
     },
     "execution_count": 6,
     "metadata": {},
     "output_type": "execute_result"
    }
   ],
   "source": [
    "# Cargando el fichero version_information.py\n",
    "# alojado el directorio de trabajo actual\n",
    "# podremos comprobar las versiones concretas\n",
    "# tanto del intérprete de Python, como de los\n",
    "# módulos empleados.\n",
    "\n",
    "%reload_ext version_information\n",
    "%version_information sympy"
   ]
  },
  {
   "cell_type": "code",
   "execution_count": 7,
   "metadata": {},
   "outputs": [],
   "source": [
    "import sympy as sp\n",
    "from scipy.integrate import quad"
   ]
  },
  {
   "cell_type": "markdown",
   "metadata": {},
   "source": [
    "### Ejercicio 1."
   ]
  },
  {
   "cell_type": "code",
   "execution_count": 8,
   "metadata": {},
   "outputs": [
    {
     "data": {
      "text/plain": [
       "(3.0, 24, 1, 8)"
      ]
     },
     "execution_count": 8,
     "metadata": {},
     "output_type": "execute_result"
    }
   ],
   "source": [
    "DNI = [1,2,3,4,5,6,7,8]\n",
    "s = sum(DNI)\n",
    "m = s/float(len(DNI))\n",
    "a, b = min(DNI), max(DNI)\n",
    "m, s, a, b"
   ]
  },
  {
   "cell_type": "code",
   "execution_count": 9,
   "metadata": {},
   "outputs": [],
   "source": [
    "def simpson_int(f,a,b,m):\n",
    "    '''fórmula compuesta de Simpson'''\n",
    "    h= (b-a)/(2*m)\n",
    "    P = sum([f(a+2*i*h) for i in range(1,m)])\n",
    "    I = sum([f(a+(2*i-1)*h) for i in range(1,m+1)])\n",
    "    E = f(a)+f(b)\n",
    "    return h/3*(E+2*P+4*I)"
   ]
  },
  {
   "cell_type": "code",
   "execution_count": 10,
   "metadata": {},
   "outputs": [
    {
     "name": "stdout",
     "output_type": "stream",
     "text": [
      "n = 1. Iteracion n: 1433.6*log(8) + 41980.7927366749, Iteracion n-1: 2867.2*log(8) + 39000.0709718557, dif : 2980.72176481917 - 1433.6*log(8)\n",
      "n = 2. Iteracion n: 716.8*log(8) + 43471.3131888356, Iteracion n-1 : 1433.6*log(8) + 41980.7927366749, dif: 1490.52045216064 - 716.8*log(8)\n",
      "n = 3. Iteracion n: 358.4*log(8) + 44216.5835772581, Iteracion n-1 : 716.8*log(8) + 43471.3131888356, dif: 745.270388422592 - 358.4*log(8)\n",
      "n = 4. Iteracion n: 179.2*log(8) + 44589.2194101486, Iteracion n-1 : 358.4*log(8) + 44216.5835772581, dif: 372.635832890461 - 179.2*log(8)\n",
      "n = 5. Iteracion n: 89.6*log(8) + 44775.53736657, Iteracion n-1 : 179.2*log(8) + 44589.2194101486, dif: 186.317956421415 - 89.6*log(8)\n",
      "n = 6. Iteracion n: 44.8*log(8) + 44868.6963472802, Iteracion n-1 : 89.6*log(8) + 44775.53736657, dif: 93.15898071017 - 44.8*log(8)\n",
      "Solución final simbólica:  44.8*log(8) + 44868.6963472802\n",
      "Solución final numérica:  44961.8553283475\n",
      "Diferencia final entre las iteraciones  5  y  6 :  3.57082171831280e-7\n",
      "Número de intervalos necesarios para obtener la diferencia menor a  1e-06 :  640\n",
      "Solución real evaluada con quad:  44961.85532832365 Error de nuestra aprox frente a la real:  2.38069333136082e-8\n"
     ]
    }
   ],
   "source": [
    "def f(x):\n",
    "    return s*x**m*sp.log(x)\n",
    "\n",
    "n = 10\n",
    "e = 10**(-6)\n",
    "n = 0\n",
    "nxx = 10*2**(n)\n",
    "\n",
    "simpson_anterior = simpson_int(f,a,b,int(nxx/2))\n",
    "n = n+1\n",
    "nxx = 10*2**(n)\n",
    "simpson_actual = simpson_int(f,a,b,int(nxx/2))\n",
    "print('n = {}. Iteracion n: {}, Iteracion n-1: {}, dif : {}'.format(n,simpson_actual,simpson_anterior,simpson_actual-simpson_anterior))\n",
    "while abs(sp.N(simpson_actual) - sp.N(simpson_anterior)) >= e:\n",
    "    simpson_anterior = simpson_actual\n",
    "    n = n+1 ; nxx = 10*2**(n)\n",
    "    simpson_actual = simpson_int(f,a,b,int(nxx/2))\n",
    "    print('n = {}. Iteracion n: {}, Iteracion n-1 : {}, dif: {}'.format(n,simpson_actual,simpson_anterior,simpson_actual-simpson_anterior))\n",
    "\n",
    "print('Solución final simbólica: ', simpson_actual)\n",
    "print('Solución final numérica: ', sp.N(simpson_actual))\n",
    "print('Diferencia final entre las iteraciones ', n-1, ' y ', n, ': ', abs(sp.N(simpson_actual) - sp.N(simpson_anterior)))\n",
    "print('Número de intervalos necesarios para obtener la diferencia menor a ', e, ': ', nxx)\n",
    "print('Solución real evaluada con quad: ', quad(f,a,b)[0], 'Error de nuestra aprox frente a la real: ', abs(quad(f,a,b)[0] - sp.N(simpson_actual)))\n"
   ]
  }
 ],
 "metadata": {
  "interpreter": {
   "hash": "e7370f93d1d0cde622a1f8e1c04877d8463912d04d973331ad4851f04de6915a"
  },
  "kernelspec": {
   "display_name": "Python 3.10.4 64-bit",
   "language": "python",
   "name": "python3"
  },
  "language_info": {
   "codemirror_mode": {
    "name": "ipython",
    "version": 3
   },
   "file_extension": ".py",
   "mimetype": "text/x-python",
   "name": "python",
   "nbconvert_exporter": "python",
   "pygments_lexer": "ipython3",
   "version": "3.10.5"
  },
  "orig_nbformat": 4
 },
 "nbformat": 4,
 "nbformat_minor": 2
}
