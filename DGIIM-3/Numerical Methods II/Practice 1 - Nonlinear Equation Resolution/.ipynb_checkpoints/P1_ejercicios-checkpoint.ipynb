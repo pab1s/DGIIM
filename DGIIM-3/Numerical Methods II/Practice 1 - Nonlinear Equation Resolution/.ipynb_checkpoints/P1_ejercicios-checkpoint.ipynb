{
 "cells": [
  {
   "cell_type": "markdown",
   "metadata": {},
   "source": [
    "# Práctica 1: Resolución de ecuaciones no lineales\n",
    "\n",
    "## Importación de módulos"
   ]
  },
  {
   "cell_type": "code",
   "execution_count": 2,
   "metadata": {},
   "outputs": [
    {
     "data": {
      "application/json": {
       "Software versions": [
        {
         "module": "Python",
         "version": "3.10.3 64bit [GCC 11.2.1 20220127 (Red Hat 11.2.1-9)]"
        },
        {
         "module": "IPython",
         "version": "8.1.1"
        },
        {
         "module": "OS",
         "version": "Linux 5.16.16 200.fc35.x86_64 x86_64 with glibc2.34"
        },
        {
         "module": "numpy",
         "version": "1.21.5"
        },
        {
         "module": "matplotlib",
         "version": "3.5.1"
        },
        {
         "module": "sympy",
         "version": "1.10"
        }
       ]
      },
      "text/html": [
       "<table><tr><th>Software</th><th>Version</th></tr><tr><td>Python</td><td>3.10.3 64bit [GCC 11.2.1 20220127 (Red Hat 11.2.1-9)]</td></tr><tr><td>IPython</td><td>8.1.1</td></tr><tr><td>OS</td><td>Linux 5.16.16 200.fc35.x86_64 x86_64 with glibc2.34</td></tr><tr><td>numpy</td><td>1.21.5</td></tr><tr><td>matplotlib</td><td>3.5.1</td></tr><tr><td>sympy</td><td>1.10</td></tr><tr><td colspan='2'>Thu Mar 31 00:12:32 2022 CEST</td></tr></table>"
      ],
      "text/latex": [
       "\\begin{tabular}{|l|l|}\\hline\n",
       "{\\bf Software} & {\\bf Version} \\\\ \\hline\\hline\n",
       "Python & 3.10.3 64bit [GCC 11.2.1 20220127 (Red Hat 11.2.1-9)] \\\\ \\hline\n",
       "IPython & 8.1.1 \\\\ \\hline\n",
       "OS & Linux 5.16.16 200.fc35.x86\\_64 x86\\_64 with glibc2.34 \\\\ \\hline\n",
       "numpy & 1.21.5 \\\\ \\hline\n",
       "matplotlib & 3.5.1 \\\\ \\hline\n",
       "sympy & 1.10 \\\\ \\hline\n",
       "\\hline \\multicolumn{2}{|l|}{Thu Mar 31 00:12:32 2022 CEST} \\\\ \\hline\n",
       "\\end{tabular}\n"
      ],
      "text/plain": [
       "Software versions\n",
       "Python 3.10.3 64bit [GCC 11.2.1 20220127 (Red Hat 11.2.1-9)]\n",
       "IPython 8.1.1\n",
       "OS Linux 5.16.16 200.fc35.x86_64 x86_64 with glibc2.34\n",
       "numpy 1.21.5\n",
       "matplotlib 3.5.1\n",
       "sympy 1.10\n",
       "Thu Mar 31 00:12:32 2022 CEST"
      ]
     },
     "execution_count": 2,
     "metadata": {},
     "output_type": "execute_result"
    }
   ],
   "source": [
    "%reload_ext version_information\n",
    "%version_information numpy, matplotlib, sympy"
   ]
  },
  {
   "cell_type": "code",
   "execution_count": 3,
   "metadata": {},
   "outputs": [],
   "source": [
    "import numpy as np\n",
    "%matplotlib inline\n",
    "import matplotlib.pyplot as plt\n",
    "import sympy as sp\n",
    "from numpy import sign\n",
    "from decimal import *\n",
    "from scipy.optimize import fsolve\n",
    "from sympy.solvers import solve, nsolve, solveset"
   ]
  },
  {
   "cell_type": "code",
   "execution_count": 4,
   "metadata": {},
   "outputs": [],
   "source": [
    "x = sp.Symbol('x')"
   ]
  },
  {
   "cell_type": "code",
   "execution_count": 5,
   "metadata": {},
   "outputs": [],
   "source": [
    "mporig = getcontext().prec\n",
    "roundorig = getcontext().rounding\n",
    "getcontext().rounding = ROUND_HALF_UP"
   ]
  },
  {
   "cell_type": "markdown",
   "metadata": {},
   "source": [
    "## Ejercicio 1.\n",
    "Demuestre que la ecuación  $x^3+4 x^2=10  $  tiene una única raíz en el intervalo $[1,2]$.  Aproxime dicha raíz con el método de bisección con al menos 3 cifras decimales exactas. ¿Cuántas iteraciones serán necesarias para conseguir 5 cifras decimales exactas (tol =$10^{-5}$)?  Aproxime también la raíz con el método de Newton-Raphson partiendo del extremo adecuado hasta que la diferencia en valor absoluto, entre dos aproximaciones consecutivas sea  inferior a  $10^{-3}$."
   ]
  },
  {
   "cell_type": "markdown",
   "metadata": {},
   "source": [
    "Para solucionar este ejercicio, primero derivaremos la función $f(x)=x^3+4x^2-10$ y veremos que es monótona en el intervalo $[1,2]$. Finalmente, usaremos el Teorema de Bolzano para ver que existe al menos una raíz, y por ser monótona $f$ entonces es única. "
   ]
  },
  {
   "cell_type": "markdown",
   "metadata": {},
   "source": [
    "1) Definimos la función en Python."
   ]
  },
  {
   "cell_type": "code",
   "execution_count": 6,
   "metadata": {},
   "outputs": [],
   "source": [
    "def f(x):\n",
    "    ''' función x^3+4x^2-10'''\n",
    "    return x**3+4*x**2-10"
   ]
  },
  {
   "cell_type": "markdown",
   "metadata": {},
   "source": [
    "2) Vemos el signo en  $a=1$ y $b=2$."
   ]
  },
  {
   "cell_type": "code",
   "execution_count": 7,
   "metadata": {},
   "outputs": [
    {
     "data": {
      "text/plain": [
       "(-1.0, 1.0)"
      ]
     },
     "execution_count": 7,
     "metadata": {},
     "output_type": "execute_result"
    }
   ],
   "source": [
    "a = 1.\n",
    "b = 2.\n",
    "sign(f(a)),sign(f(b))"
   ]
  },
  {
   "cell_type": "markdown",
   "metadata": {},
   "source": [
    "Por el Teorema de Bolzano, existe al menos una raíz en $[1,2]$. Veamos que es única.\n",
    "\n",
    "3) Calculamos la derivada."
   ]
  },
  {
   "cell_type": "code",
   "execution_count": 8,
   "metadata": {},
   "outputs": [
    {
     "name": "stdout",
     "output_type": "stream",
     "text": [
      "3*x**2 + 8*x\n"
     ]
    }
   ],
   "source": [
    "y = x**3+4*x**2-10\n",
    "print(y.diff(x))"
   ]
  },
  {
   "cell_type": "markdown",
   "metadata": {},
   "source": [
    "Vemos que $f'(x) = 3x^2 + 8x$, que evaluada en $[1,2]$ es estrictamente positiva, luego $f$ es estrictamente creciente, lo que implica que $f(x)=0$ existe y es única en $[1,2]$."
   ]
  },
  {
   "cell_type": "markdown",
   "metadata": {},
   "source": [
    "*Nota*: Otra forma de demostrarlo es dibujando el gráfico y viendo que efectivamente es así."
   ]
  },
  {
   "cell_type": "code",
   "execution_count": 9,
   "metadata": {},
   "outputs": [
    {
     "data": {
      "image/png": "[encoded data removed]",
      "text/plain": [
       "<Figure size 432x288 with 1 Axes>"
      ]
     },
     "metadata": {
      "needs_background": "light"
     },
     "output_type": "display_data"
    },
    {
     "data": {
      "text/plain": [
       "<sympy.plotting.plot.Plot at 0x7f444591ee90>"
      ]
     },
     "execution_count": 9,
     "metadata": {},
     "output_type": "execute_result"
    }
   ],
   "source": [
    "sp.plot(f(x),(x,a,b),xlim=(a,b),ylim=(-10,20))"
   ]
  },
  {
   "cell_type": "markdown",
   "metadata": {},
   "source": [
    "Ahora apliquemos el método de la bisección tal y como pide: "
   ]
  },
  {
   "cell_type": "code",
   "execution_count": 17,
   "metadata": {},
   "outputs": [
    {
     "name": "stdout",
     "output_type": "stream",
     "text": [
      "Solución exacta con  3  cifras significativas 1.37\n",
      "Aproximación solicitada:  1.36\n",
      "Número de iteraciones:  17.0\n"
     ]
    },
    {
     "data": {
      "text/plain": [
       "17.0"
      ]
     },
     "execution_count": 17,
     "metadata": {},
     "output_type": "execute_result"
    }
   ],
   "source": [
    "def metodoBiseccion(f,a,b,cifras,prec=10**(-16),nmax=100):\n",
    "    getcontext().prec = cifras\n",
    "    tol = 10**(-cifras+1)\n",
    "    niter = 0; sale =''\n",
    "    a,b = Decimal(a),Decimal(b)\n",
    "\n",
    "    for k in range(nmax):\n",
    "        niter = niter + 1;\n",
    "        c = a+(b-a)/2 # equivalente a c = (a+b)/2\n",
    "        if abs(f(c)) < prec:\n",
    "            sale = 'precision'\n",
    "            break\n",
    "        if sign(f(a)) != sign(f(c)):\n",
    "            b = c\n",
    "        else:\n",
    "            a = c\n",
    "        if b-a < tol:\n",
    "            sale = 'tolerancia'\n",
    "            break\n",
    "\n",
    "    if sale == 'precision':\n",
    "        print('Posiblemente solución exacta: ',c)\n",
    "    elif niter < nmax:\n",
    "        print('Aproximación solicitada: ',c)\n",
    "    else:\n",
    "        print('Se llegó al número máximo de iteraciones')\n",
    "\n",
    "    getcontext().prec = mporig\n",
    "    return c\n",
    "\n",
    "def numIterBiseccion(a,b,cifras):\n",
    "    tol = 10**(-cifras)\n",
    "    n = np.ceil(np.log((b-a)/tol)/np.log(2) - 1)\n",
    "    print('Número de iteraciones: ', n)\n",
    "    return n\n",
    "\n",
    "sol_exact = sp.solve(f(x),x)[2]\n",
    "print('Solución exacta con ', 3, ' cifras significativas', sol_exact.evalf(n=3))\n",
    "metodoBiseccion(f,a,b,3)\n",
    "numIterBiseccion(a,b,5)"
   ]
  },
  {
   "cell_type": "code",
   "execution_count": 11,
   "metadata": {},
   "outputs": [
    {
     "name": "stdout",
     "output_type": "stream",
     "text": [
      "Solución exacta con  3  cifras significativas 1.37\n",
      "Aproximación solicitada:  1.36\n"
     ]
    },
    {
     "data": {
      "text/plain": [
       "Decimal('1.36')"
      ]
     },
     "execution_count": 11,
     "metadata": {},
     "output_type": "execute_result"
    }
   ],
   "source": [
    "def newtonRaphson(f,df, x0,prec=10**(-16),cifras=16,nmax=100):\n",
    "    tol = 10**(-cifras)\n",
    "    niter = 0; sale = ''\n",
    "    x0 = Decimal(x0)\n",
    "    getcontext().prec = cifras\n",
    "\n",
    "    for k in range(nmax):\n",
    "        niter = niter + 1\n",
    "        x1 = x0 - f(x0)/df(x0)\n",
    "        if abs(x1-x0) < tol:\n",
    "            sale = 'tolerancia'\n",
    "            break\n",
    "        if abs(f(x1)) < prec:\n",
    "            sale = 'precision'\n",
    "            break\n",
    "        else:\n",
    "            x0 = x1\n",
    "\n",
    "    if sale == 'precision':\n",
    "        print('Posiblemente solución exacta: ',x1)\n",
    "    elif niter < nmax:\n",
    "        print('Aproximación solicitada: ',x1)\n",
    "    else:\n",
    "        print('Se llegó al número máximo de iteraciones')\n",
    "    return x1\n",
    "\n",
    "def df(x):\n",
    "    return 3*x**2+8*x\n",
    "\n",
    "print('Solución exacta con ', 3, ' cifras significativas', sol_exact.evalf(n=3))\n",
    "newtonRaphson(f,df,b,cifras=3)"
   ]
  },
  {
   "cell_type": "markdown",
   "metadata": {},
   "source": [
    "# Ejercicio 2.\n",
    "2.- Encuentre una aproximación de la raíz cúbica de 25 con dos decimales exactos (tol =$10^{-2}$), usando el algoritmo de bisección."
   ]
  },
  {
   "cell_type": "code",
   "execution_count": 12,
   "metadata": {},
   "outputs": [
    {
     "name": "stdout",
     "output_type": "stream",
     "text": [
      "Solución exacta con  2  cifras significativas 2.9\n",
      "Se llegó al número máximo de iteraciones\n"
     ]
    },
    {
     "data": {
      "text/plain": [
       "Decimal('3.0')"
      ]
     },
     "execution_count": 12,
     "metadata": {},
     "output_type": "execute_result"
    }
   ],
   "source": [
    "a = 2\n",
    "b = 3\n",
    "def g(y):\n",
    "    return y**3-25\n",
    "\n",
    "while g(a)*g(b) >= 0:\n",
    "    a *= 2 + 1\n",
    "    b *= 2 - 1\n",
    "\n",
    "sol_exact = sp.solve(g(x),x)[0]\n",
    "print('Solución exacta con ', 2, ' cifras significativas', sol_exact.evalf(n=2))\n",
    "metodoBiseccion(g,a,b,cifras=2,nmax=100)"
   ]
  },
  {
   "cell_type": "markdown",
   "metadata": {},
   "source": [
    "# Ejercicio 3. PENDIENTE\n",
    "3.- Use el método de Newton-Raphson para aproximar las soluciones de las siguientes ecuaciones con tolerancia $10^{-5}$ , partiendo de un valor adecuado, próximo a cada una de ellas en cada caso.\n",
    "\n",
    "i) $x^3-x-1 = 0$  en $[1,2]$.\n",
    "\n",
    "ii) $3x=2+x^2-e^x$.\n",
    "\n",
    "iii) $x^2+10\\, cos x+x=0$.\n"
   ]
  },
  {
   "cell_type": "code",
   "execution_count": 13,
   "metadata": {},
   "outputs": [
    {
     "name": "stdout",
     "output_type": "stream",
     "text": [
      "-1 5\n",
      "1.0 -7.38905609893065\n",
      "10.0 1.838531634528576\n"
     ]
    }
   ],
   "source": [
    "def f_1(x):\n",
    "    return x**3-x-1\n",
    "\n",
    "def df_1(x):\n",
    "    return 3*x**2-1\n",
    "\n",
    "def f_2(x):\n",
    "    return x**2-3*x+2-np.exp(x)\n",
    "\n",
    "def df_2(x):\n",
    "    return 2*x**2-3-np.exp(x)\n",
    "\n",
    "def f_3(x):\n",
    "    return x**2+10*np.cos(x)+x\n",
    "\n",
    "def df_3(x):\n",
    "    return 2*x-10*np.sin(x)+1\n",
    "\n",
    "a = 0; b = 2\n",
    "print(f_1(a), f_1(b))\n",
    "print(f_2(a), f_2(b))\n",
    "print(f_3(a), f_3(b))\n"
   ]
  },
  {
   "cell_type": "markdown",
   "metadata": {},
   "source": [
    "# Ejercicio 4.\n",
    "4.- Para la función  $ f(x)= 3 x^2+e^x-1$, \n",
    "\n",
    "i) encuentre, mediante el método de bisección una aproximación de la raíz en $[0,1]$ con, al menos, cuatro decimales exactos (tol =$10^{-4}$), y determine el número de iteraciones realizadas;\n",
    "\n",
    "ii) encuentre, mediante el método de Newton-Raphson, una aproximación de la raíz en $[0,1]$ con una tolerancia de $10^{-4}$, partiendo de $x_0=0$, y determine el número de iteraciones realizadas.  "
   ]
  },
  {
   "cell_type": "code",
   "execution_count": 13,
   "metadata": {},
   "outputs": [
    {
     "data": {
      "image/png": "[encoded data removed]",
      "text/plain": [
       "<Figure size 432x288 with 1 Axes>"
      ]
     },
     "metadata": {
      "needs_background": "light"
     },
     "output_type": "display_data"
    },
    {
     "name": "stdout",
     "output_type": "stream",
     "text": [
      "Solución exacta con  2  cifras significativas 0\n",
      "Aproximación solicitada:  0.0000611\n"
     ]
    }
   ],
   "source": [
    "def f_4(x):\n",
    "    return 3*x**2+sp.exp(x)-1\n",
    "\n",
    "def df_4(x):\n",
    "    return 6*x+np.exp(x)\n",
    "\n",
    "sp.plot(f_4(x),(x,a,b),xlim=(a,b),ylim=(-10,20))\n",
    "\n",
    "a = 0; b = 1\n",
    "sol_exact = nsolve(f_4(x),x,0)\n",
    "print('Solución exacta con ', 2, ' cifras significativas', sol_exact.evalf(n=2))\n",
    "metodoBiseccion(f_4,a,b,cifras=4,nmax=100)\n",
    "newtonRaphson(f_4,df_4,5,cifras=12,nmax=100)"
   ]
  }
 ],
 "metadata": {
  "interpreter": {
   "hash": "e7370f93d1d0cde622a1f8e1c04877d8463912d04d973331ad4851f04de6915a"
  },
  "kernelspec": {
   "display_name": "Python 3 (ipykernel)",
   "language": "python",
   "name": "python3"
  },
  "language_info": {
   "codemirror_mode": {
    "name": "ipython",
    "version": 3
   },
   "file_extension": ".py",
   "mimetype": "text/x-python",
   "name": "python",
   "nbconvert_exporter": "python",
   "pygments_lexer": "ipython3",
   "version": "3.10.3"
  }
 },
 "nbformat": 4,
 "nbformat_minor": 2
}
