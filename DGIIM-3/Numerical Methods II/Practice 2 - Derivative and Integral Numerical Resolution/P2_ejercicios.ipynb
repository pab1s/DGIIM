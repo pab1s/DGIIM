{
 "cells": [
  {
   "cell_type": "markdown",
   "metadata": {},
   "source": []
  },
  {
   "cell_type": "markdown",
   "metadata": {},
   "source": [
    "# Práctica 2: Derivación e Integración Numérica\n",
    "## Pablo Olivares Martínez"
   ]
  },
  {
   "cell_type": "code",
   "execution_count": 1,
   "metadata": {},
   "outputs": [],
   "source": [
    "import numpy as np\n",
    "import sympy as sp\n",
    "from scipy.integrate import quad\n",
    "import matplotlib.pyplot as plt\n",
    "import matplotlib.patches as patches\n",
    "from tabulate import tabulate\n",
    "from random import random"
   ]
  },
  {
   "cell_type": "markdown",
   "metadata": {},
   "source": [
    "**1.- Obtenga mediante interpolación en el espacio $\\mathbb{P}_2$ una fórmula para aproximar $f''(a)$ del tipo combinación\n",
    "de $f(a-h)$, $f(a)$ y $f(a+h)$.**"
   ]
  },
  {
   "cell_type": "markdown",
   "metadata": {},
   "source": [
    "Para resolver este ejercicio, aplicaremos la idea del polinomio de interpolación de Newton interpolando datos a partir de Lagrange para obtener la segunda derivada en $a$, es decir $f''(a)$, a partir de los nodos $f(a-h)$, $f(a)$ y $f(a+h)$."
   ]
  },
  {
   "cell_type": "code",
   "execution_count": 2,
   "metadata": {},
   "outputs": [],
   "source": [
    "def central_2nd_diff(f,a,h):\n",
    "    z = sp.Symbol('z')\n",
    "    x = [a-h,a,a+h]\n",
    "    y = [f(x[0]),f(x[1]),f(x[2])]\n",
    "    p0 = y[0]\n",
    "    p1 = p0 + (z-x[0])/(x[1]-x[0])*(y[1]-y[0])\n",
    "    D = sp.Symbol('D')\n",
    "    p2 = p1 + (z-x[0])*(z-x[1])*D\n",
    "    sol2=sp.solve(p2.subs({z:x[2]})-y[2],D)\n",
    "    D = sol2[0]\n",
    "    p2 = p1 + (z-x[0])*(z-x[1])*D\n",
    "    return sp.diff(p2,z,2)"
   ]
  },
  {
   "cell_type": "markdown",
   "metadata": {},
   "source": [
    "Comprobemos si nuestra función es correcta:"
   ]
  },
  {
   "cell_type": "code",
   "execution_count": 3,
   "metadata": {},
   "outputs": [
    {
     "data": {
      "text/latex": [
       "$\\displaystyle \\frac{- 2 f{\\left(a \\right)} + f{\\left(a - h \\right)} + f{\\left(a + h \\right)}}{h^{2}}$"
      ],
      "text/plain": [
       "(-2*f(a) + f(a - h) + f(a + h))/h**2"
      ]
     },
     "execution_count": 3,
     "metadata": {},
     "output_type": "execute_result"
    }
   ],
   "source": [
    "f = sp.Function('f')\n",
    "a,h = sp.symbols('a,h')\n",
    "central_2nd_diff(f,a,h)"
   ]
  },
  {
   "cell_type": "markdown",
   "metadata": {},
   "source": [
    "**2.- Con la fórmula obtenida en el ejercicio 1, halle una tabla de aproximaciones y errores de $f_1''(2.5)$, siendo $f_1(x)=x^x$, para $h=10^{-i},\\; i=1,\\ldots,5.$**"
   ]
  },
  {
   "cell_type": "markdown",
   "metadata": {},
   "source": [
    "Primero definimos la función y su derivada segunda:"
   ]
  },
  {
   "cell_type": "code",
   "execution_count": 4,
   "metadata": {},
   "outputs": [
    {
     "data": {
      "text/latex": [
       "$\\displaystyle x^{x} \\left(\\left(\\log{\\left(x \\right)} + 1\\right)^{2} + \\frac{1}{x}\\right)$"
      ],
      "text/plain": [
       "x**x*((log(x) + 1)**2 + 1/x)"
      ]
     },
     "execution_count": 4,
     "metadata": {},
     "output_type": "execute_result"
    }
   ],
   "source": [
    "def f1(x):\n",
    "    return x**x\n",
    "\n",
    "def df2_f1(x):\n",
    "    return sp.diff(f1(x),x,2)\n",
    "\n",
    "x = sp.Symbol('x')\n",
    "df2_f1(x)"
   ]
  },
  {
   "cell_type": "markdown",
   "metadata": {},
   "source": [
    "Ahora calculemos las aproximaciones y los errores y dispongámoslos en una tabla:"
   ]
  },
  {
   "cell_type": "code",
   "execution_count": 5,
   "metadata": {},
   "outputs": [
    {
     "name": "stdout",
     "output_type": "stream",
     "text": [
      "Solución de la derivada segunda de f2:  40.2416648563875\n",
      "     h    Aprox        Error\n",
      "------  -------  -----------\n",
      "0.1     40.4206  0.178903\n",
      "0.01    40.2435  0.00178537\n",
      "0.001   40.2417  1.78497e-05\n",
      "0.0001  40.2417  7.87646e-07\n",
      "1e-05   40.2417  5.96287e-06\n"
     ]
    }
   ],
   "source": [
    "x0 = 2.5\n",
    "df2_sol = df2_f1(x).subs({x:x0})\n",
    "hi = [10**(-i) for i in range(1,6)]\n",
    "df2_sols = [central_2nd_diff(f1,x0,hi[i]) for i in range(len(hi))]\n",
    "print('Solución de la derivada segunda de f2: ', df2_sol)\n",
    "print(tabulate([[hi[i], df2_sols[i], abs(df2_sols[i]-df2_sol)] for i in range(5)], headers=[\"h\", \"Aprox\", \"Error\"]))"
   ]
  },
  {
   "cell_type": "markdown",
   "metadata": {},
   "source": [
    "**3.- Sea $f_2(x)=\\frac{x^2+40}{x+\\sqrt{5x}+7}$. Calcule una tabla que recoja las derivadas de $f_2$ en $x_i=1,2,\\ldots,10$, utilizando alguna de las fórmulas de derivación numérica de primer orden obtenidas al inicio de la práctica, con $h=10^{-3}$, y muestre al mismo tiempo el error cometido en cada punto. Repita el ejercicio con la fórmula centrada obtenida para la derivada primera y, finalmente, para la obtenida en el ejercicio 1 (con respecto a la segunda derivada).**"
   ]
  },
  {
   "cell_type": "markdown",
   "metadata": {},
   "source": [
    "Vamos a empezar definiendo la función $f_2$ y la fórmula de diferencia progresiva para la derivada:"
   ]
  },
  {
   "cell_type": "code",
   "execution_count": 6,
   "metadata": {},
   "outputs": [
    {
     "data": {
      "text/latex": [
       "$\\displaystyle \\frac{x^{2} + 40}{\\sqrt{5} \\sqrt{x} + x + 7}$"
      ],
      "text/plain": [
       "(x**2 + 40)/(sqrt(5)*sqrt(x) + x + 7)"
      ]
     },
     "execution_count": 6,
     "metadata": {},
     "output_type": "execute_result"
    }
   ],
   "source": [
    "def progressive_diff(f,a,h):\n",
    "    z = sp.Symbol('z')\n",
    "    x = [a,a+h]\n",
    "    y = [f(x[0]),f(x[1])]\n",
    "    p = (y[1]-y[0])/(x[1]-x[0])*(z-x[0])+y[0]\n",
    "    return sp.diff(p,z)\n",
    "\n",
    "def f2(x):\n",
    "    return (x**2+40)/(x+sp.sqrt(5*x)+7)\n",
    "\n",
    "f2(x)"
   ]
  },
  {
   "cell_type": "markdown",
   "metadata": {},
   "source": [
    "Ahora, calculemos la tabla correspondiente para $f_2$:"
   ]
  },
  {
   "cell_type": "code",
   "execution_count": 7,
   "metadata": {},
   "outputs": [
    {
     "name": "stdout",
     "output_type": "stream",
     "text": [
      "Derivada primera de f2:  2*x/(sqrt(5)*sqrt(x) + x + 7) + (-1 - sqrt(5)/(2*sqrt(x)))*(x**2 + 40)/(sqrt(5)*sqrt(x) + x + 7)**2\n",
      "  x    Solución       Aprox        Error\n",
      "---  ----------  ----------  -----------\n",
      "  1  -0.633414   -0.633076   0.000337991\n",
      "  2  -0.20373    -0.203588   0.00014158\n",
      "  3   0.0135537   0.0136378  8.41579e-05\n",
      "  4   0.152356    0.152414   5.74472e-05\n",
      "  5   0.250865    0.250907   4.23073e-05\n",
      "  6   0.325234    0.325267   3.27156e-05\n",
      "  7   0.383753    0.383779   2.61843e-05\n",
      "  8   0.431202    0.431223   2.15041e-05\n",
      "  9   0.470567    0.470585   1.802e-05\n",
      " 10   0.503824    0.503839   1.53477e-05\n"
     ]
    }
   ],
   "source": [
    "h = 10**(-3)\n",
    "df_f2 = sp.diff(f2(x),x)\n",
    "aprox_df_f2 = [progressive_diff(f2,i,h) for i in range(1,11)]\n",
    "sols_df_f2 = [df_f2.subs({x:i+1}) for i in range(10)]\n",
    "\n",
    "print('Derivada primera de f2: ', df_f2)\n",
    "print(tabulate([[i+1, sols_df_f2[i], sp.N(aprox_df_f2[i]), sp.N(abs(aprox_df_f2[i]-sols_df_f2[i]))] for i in range(len(sols_df_f2))], headers=[\"x\", \"Solución\", \"Aprox\", \"Error\"]))"
   ]
  },
  {
   "cell_type": "markdown",
   "metadata": {},
   "source": [
    "De la misma forma para la fórmula centrada:"
   ]
  },
  {
   "cell_type": "code",
   "execution_count": 8,
   "metadata": {},
   "outputs": [
    {
     "name": "stdout",
     "output_type": "stream",
     "text": [
      "Derivada primera de f2:  2*x/(sqrt(5)*sqrt(x) + x + 7) + (-1 - sqrt(5)/(2*sqrt(x)))*(x**2 + 40)/(sqrt(5)*sqrt(x) + x + 7)**2\n",
      "  x    Solución       Aprox        Error\n",
      "---  ----------  ----------  -----------\n",
      "  1  -0.633414   -0.633414   1.41949e-07\n",
      "  2  -0.20373    -0.20373    2.98525e-08\n",
      "  3   0.0135537   0.0135537  1.22134e-08\n",
      "  4   0.152356    0.152356   6.4666e-09\n",
      "  5   0.250865    0.250865   3.92631e-09\n",
      "  6   0.325234    0.325234   2.59763e-09\n",
      "  7   0.383753    0.383753   1.82138e-09\n",
      "  8   0.431202    0.431202   1.33417e-09\n",
      "  9   0.470567    0.470567   1.0098e-09\n",
      " 10   0.503824    0.503824   7.84804e-10\n"
     ]
    }
   ],
   "source": [
    "def central_diff(f,a,h):\n",
    "    z = sp.Symbol('z')\n",
    "    x = [a-h,a+h]\n",
    "    y = [f(x[0]),f(x[1])]\n",
    "    p = (y[1]-y[0])/(x[1]-x[0])*(z-x[0])+y[0]\n",
    "    return sp.diff(p,z).subs({z:a})\n",
    "\n",
    "aprox_df_f2 = [central_diff(f2,i,h) for i in range(1,11)]\n",
    "print('Derivada primera de f2: ', df_f2)\n",
    "print(tabulate([[i+1, sols_df_f2[i], sp.N(aprox_df_f2[i]), sp.N(abs(aprox_df_f2[i]-sols_df_f2[i]))] for i in range(len(sols_df_f2))], headers=[\"x\", \"Solución\", \"Aprox\", \"Error\"]))"
   ]
  },
  {
   "cell_type": "markdown",
   "metadata": {},
   "source": [
    "Y también para la fórmula de la derivada segunda obtenida en el primer ejercicio:"
   ]
  },
  {
   "cell_type": "code",
   "execution_count": 9,
   "metadata": {},
   "outputs": [
    {
     "name": "stdout",
     "output_type": "stream",
     "text": [
      "Derivada segunda de f2:  4*x*(-1 - sqrt(5)/(2*sqrt(x)))/(sqrt(5)*sqrt(x) + x + 7)**2 + (-2 - sqrt(5)/sqrt(x))*(-1 - sqrt(5)/(2*sqrt(x)))*(x**2 + 40)/(sqrt(5)*sqrt(x) + x + 7)**3 + 2/(sqrt(5)*sqrt(x) + x + 7) + sqrt(5)*(x**2 + 40)/(4*x**(3/2)*(sqrt(5)*sqrt(x) + x + 7)**2)\n",
      "  x    Solución      Aprox        Error\n",
      "---  ----------  ---------  -----------\n",
      "  1   0.676265   0.676265   2.88368e-07\n",
      "  2   0.28322    0.28322    1.93622e-08\n",
      "  3   0.16834    0.16834    2.48071e-09\n",
      "  4   0.114907   0.114907   2.99306e-08\n",
      "  5   0.0846224  0.0846224  1.09258e-10\n",
      "  6   0.0654364  0.0654364  3.47382e-09\n",
      "  7   0.0523722  0.0523722  4.36122e-09\n",
      "  8   0.0430109  0.043011   2.19585e-08\n",
      "  9   0.036042   0.036042   4.68631e-08\n",
      " 10   0.030697   0.030697   1.39075e-08\n"
     ]
    }
   ],
   "source": [
    "aprox_df2_f2 = [central_2nd_diff(f2,i,h) for i in range(1,11)]\n",
    "sols_df2_f2 = [sp.diff(f2(x),x,2).subs({x:i+1}) for i in range(10)]\n",
    "print('Derivada segunda de f2: ', df_f2.diff(x))\n",
    "print(tabulate([[i+1, sols_df2_f2[i], sp.N(aprox_df2_f2[i]), sp.N(abs(aprox_df2_f2[i]-sols_df2_f2[i]))] for i in range(len(sols_df2_f2))], headers=[\"x\", \"Solución\", \"Aprox\", \"Error\"]))"
   ]
  },
  {
   "cell_type": "markdown",
   "metadata": {},
   "source": [
    "**4.- Divida el intervalo $[1,2]$ en 100 partes iguales y aplique las fórmulas del rectángulo, Simpson y trapecio compuestas para aproximar la integral en dicho intervalo de $f_1$. Compare dichos resultados.**"
   ]
  },
  {
   "cell_type": "markdown",
   "metadata": {},
   "source": [
    "Para ello, primero defino todas las funciones pertinentes para poder aplicar dichas fórmulas. Esto es, `linea()`, `parabola()` y funciones para pintar las correspondientes gráficas."
   ]
  },
  {
   "cell_type": "code",
   "execution_count": 10,
   "metadata": {},
   "outputs": [],
   "source": [
    "xL,yL,xM,yM,xR,yR = sp.symbols('xL,yL,xM,yM,xR,yR')\n",
    "dyL,dyR = sp.symbols('dyL,dyR')\n",
    "\n",
    "def linea(z,xL,yL,xR,yR):\n",
    "    \"\"\"línea uniendo los puntos (xL,yL) y (xR,yR)\"\"\"\n",
    "    return (z-xL)/(xR-xL)*yR+(xR-z)/(xR-xL)*yL\n",
    "\n",
    "def parabola(x,xL,yL,xM,yM,xR,yR):\n",
    "    '''fórmula de la parábola que une los puntos (xL,yL), (xM,yM) y (xR,yR)'''\n",
    "    return yL -(x-xL)*(x-xM)*(xL*yM-xL*yR-xM*yL+xM*yR+xR*yL-xR*yM)/(xL**2*xM-xL**2*xR-xL*xM**2+xL*xR**2+xM**2*xR-xM*xR**2)+(x-xL)*(yL-yM)/(xL-xM)\n",
    "\n",
    "def pintaIntegralRectangulo(f,a,b,nx):\n",
    "    nxx = 100\n",
    "    xx = np.linspace(float(a),float(b),nxx)\n",
    "    yy = f(xx)\n",
    "    x = np.linspace(a,b,nx); y = f(x)\n",
    "    x0 = (x[1:]+x[:-1])/2; y0 = f(x0)\n",
    "\n",
    "    fig,ax = plt.subplots(figsize=(8,8))\n",
    "    ax.plot(x0,y0,'ro')\n",
    "    ax.plot(xx,yy,'k',label='función del integrando')\n",
    "    for k in range(1,nx):\n",
    "        zz = np.linspace(float(x[k-1]),float(x[k]),nxx)\n",
    "        yk = [linea(z,x[k-1],(y[k-1]+y[k])/2,x[k],(y[k-1]+y[k])/2) for z in zz]\n",
    "        ax.fill_between(zz,0,yk);\n",
    "\n",
    "    ax.legend(loc=9)\n",
    "    ax.set_xlabel('$x$',fontsize=18)\n",
    "    ax.set_ylabel('$y$',fontsize=18)\n",
    "    ax.set_title('Fórmula compuesta de los rectángulos del punto medio');\n",
    "\n",
    "def pintaIntegralTrapecio(f,a,b,nx):\n",
    "    nxx = 100\n",
    "    xx = np.linspace(float(a),float(b),nxx)\n",
    "    yy = f(xx)\n",
    "    x = np.linspace(a,b,nx); y = f(x)\n",
    "\n",
    "    fig,ax = plt.subplots(figsize=(8,8))\n",
    "    ax.plot(x,y,'ro')\n",
    "    ax.plot(xx,yy,'k',label='función del integrando')\n",
    "    for k in range(1,nx):\n",
    "        zz = np.linspace(float(x[k-1]),float(x[k]),nxx)\n",
    "        yk = [linea(z,x[k-1],y[k-1],x[k],y[k]) for z in zz]\n",
    "        ax.fill_between(zz,0,yk);\n",
    "\n",
    "    ax.legend(loc=9)\n",
    "    ax.set_xlabel('$x$',fontsize=18)\n",
    "    ax.set_ylabel('$y$',fontsize=18)\n",
    "    ax.set_title('Fórmula del trapecio compuesta')\n",
    "\n",
    "def pintaIntegralSimpson(f,a,b,m):\n",
    "    nx=2*m; nxx = 100;  # fórmula de Simpson compuesta\n",
    "    xx = np.linspace(float(a),float(b),nxx+1)\n",
    "    yy = f(xx)\n",
    "    x = np.linspace(a,b,nx+1); y = f(x)\n",
    "    fig,ax = plt.subplots(figsize=(8,8))\n",
    "    ax.plot(x,y,'ro')\n",
    "    ax.plot(xx,yy,'k',label='función del integrando')\n",
    "\n",
    "    for k in range(1,m+1):\n",
    "        zz = np.linspace(float(x[2*(k-1)]),float(x[2*k]),nxx)\n",
    "        yk = [parabola(z,x[2*(k-1)],y[2*(k-1)],x[2*k-1],y[2*k-1],x[2*k],y[2*k]) for z in zz]\n",
    "        ax.fill_between(zz,0,yk);\n",
    "\n",
    "    ax.legend(loc=9)\n",
    "    ax.set_xlabel('$x$',fontsize=18)\n",
    "    ax.set_ylabel('$y$',fontsize=18)\n",
    "    ax.set_title('Fórmula de Simpson compuesta');"
   ]
  },
  {
   "cell_type": "markdown",
   "metadata": {},
   "source": [
    "Una vez hechos los preparativos previos, vamos a declarar las fórmulas en funciones, comparémoslas con la solución real y pintemos los correspondientes resultados:"
   ]
  },
  {
   "cell_type": "code",
   "execution_count": 11,
   "metadata": {},
   "outputs": [],
   "source": [
    "a, b = 1, 2\n",
    "n = 100\n",
    "m = n//2\n",
    "\n",
    "def center_rectangle_int(f,a,b,nx):\n",
    "    '''fórmula compuesta de los rectangulos centrados'''\n",
    "    h = (b-a)/nx\n",
    "    return h*sum([f(a+i*h) for i in range(1,nx)])\n",
    "\n",
    "def trapezoid_int(f,a,b,nx):\n",
    "    '''fórmula compuesta de los trapecios'''\n",
    "    h = (b-a)/nx\n",
    "    return h*(f(a)+f(b))/2+h*sum([f(a+i*h) for i in range(1,nx)])\n",
    "\n",
    "def simpson_int(f,a,b,m):\n",
    "    '''fórmula compuesta de Simpson'''\n",
    "    h= (b-a)/(2*m)\n",
    "    P = sum([f(a+2*i*h) for i in range(1,m)])\n",
    "    I = sum([f(a+(2*i-1)*h) for i in range(1,m+1)])\n",
    "    E = f(a)+f(b)\n",
    "    return h/3*(E+2*P+4*I)"
   ]
  },
  {
   "cell_type": "code",
   "execution_count": 12,
   "metadata": {},
   "outputs": [
    {
     "name": "stdout",
     "output_type": "stream",
     "text": [
      "Integral de f1 calculada con quad:  2.050446234534731\n",
      "Método Rectangulo compuesto: integral de f1 con n=100: 2.02549433908556\n",
      "Error de la fórmula compuesta del rectángulo centrado: -0.0249518954491741\n",
      "Método Trapecio compuesto: integral de f1 con n=100: 2.05049433908556\n",
      "Error de la fórmula compuesta del trapecio: 4.81045508258227e-5\n",
      "Método Simpson compuesto: integral de f1 con m=50: 2.05044623595543\n",
      "Error de la fórmula compuesta de Simpson: 1.42069467301553e-9\n"
     ]
    },
    {
     "data": {
      "image/png": "[encoded data removed]",
      "text/plain": [
       "<Figure size 576x576 with 1 Axes>"
      ]
     },
     "metadata": {
      "needs_background": "light"
     },
     "output_type": "display_data"
    },
    {
     "data": {
      "image/png": "[encoded data removed]",
      "text/plain": [
       "<Figure size 576x576 with 1 Axes>"
      ]
     },
     "metadata": {
      "needs_background": "light"
     },
     "output_type": "display_data"
    },
    {
     "data": {
      "image/png": "[encoded data removed]",
      "text/plain": [
       "<Figure size 576x576 with 1 Axes>"
      ]
     },
     "metadata": {
      "needs_background": "light"
     },
     "output_type": "display_data"
    }
   ],
   "source": [
    "print('Integral de f1 calculada con quad: ',quad(f1,a,b)[0])\n",
    "print('Método Rectangulo compuesto: integral de f1 con n=100: ' + str(sp.N(center_rectangle_int(f1,a,b,n))))\n",
    "print('Error de la fórmula compuesta del rectángulo centrado: ' + str(sp.N(center_rectangle_int(f1,a,b,n)-quad(f1,a,b,)[0])))\n",
    "pintaIntegralRectangulo(f1,a,b,n)\n",
    "print('Método Trapecio compuesto: integral de f1 con n=100: ' + str(sp.N(trapezoid_int(f1,a,b,n))))\n",
    "print('Error de la fórmula compuesta del trapecio: ' + str(sp.N(trapezoid_int(f1,a,b,n)-quad(f1,a,b)[0])))\n",
    "pintaIntegralTrapecio(f1,a,b,n)\n",
    "print('Método Simpson compuesto: integral de f1 con m=50: ' + str(sp.N(simpson_int(f1,a,b,m))))\n",
    "print('Error de la fórmula compuesta de Simpson: ' + str(sp.N(simpson_int(f1,a,b,m)-quad(f1,a,b)[0])))\n",
    "pintaIntegralSimpson(f1,a,b,m)"
   ]
  },
  {
   "cell_type": "markdown",
   "metadata": {},
   "source": [
    "**5.- Repita el ejercicio 4 para $f_2$.**"
   ]
  },
  {
   "cell_type": "code",
   "execution_count": 13,
   "metadata": {},
   "outputs": [
    {
     "name": "stdout",
     "output_type": "stream",
     "text": [
      "Integral de f2 calculada con quad:  3.77658111776791\n",
      "Método Rectangulo compuesto: integral de f2 con n=100: 3.73846875991387\n",
      "Error de la fórmula compuesta del rectángulo centrado: -0.0381123578540379\n",
      "Método Trapecio compuesto: integral de f2 con n=100: 3.77658469845732\n",
      "Error de la fórmula compuesta del trapecio: 3.58068941030965e-6\n",
      "Método Simpson compuesto: integral de f2 con m=50: 3.77658111780527\n",
      "Error de la fórmula compuesta de Simpson: 3.73621134031055e-11\n"
     ]
    },
    {
     "data": {
      "image/png": "[encoded data removed]",
      "text/plain": [
       "<Figure size 576x576 with 1 Axes>"
      ]
     },
     "metadata": {
      "needs_background": "light"
     },
     "output_type": "display_data"
    },
    {
     "data": {
      "image/png": "[encoded data removed]",
      "text/plain": [
       "<Figure size 576x576 with 1 Axes>"
      ]
     },
     "metadata": {
      "needs_background": "light"
     },
     "output_type": "display_data"
    },
    {
     "data": {
      "image/png": "[encoded data removed]",
      "text/plain": [
       "<Figure size 576x576 with 1 Axes>"
      ]
     },
     "metadata": {
      "needs_background": "light"
     },
     "output_type": "display_data"
    }
   ],
   "source": [
    "def f2num(x):\n",
    "    return (x**2+40)/(x+np.sqrt(5*x)+7)\n",
    "\n",
    "print('Integral de f2 calculada con quad: ',quad(f2num,a,b)[0])\n",
    "print('Método Rectangulo compuesto: integral de f2 con n=100: ' + str(sp.N(center_rectangle_int(f2num,a,b,n))))\n",
    "print('Error de la fórmula compuesta del rectángulo centrado: ' + str(sp.N(center_rectangle_int(f2num,a,b,n)-quad(f2num,a,b,)[0])))\n",
    "pintaIntegralRectangulo(f2num,a,b,n)\n",
    "print('Método Trapecio compuesto: integral de f2 con n=100: ' + str(sp.N(trapezoid_int(f2num,a,b,n))))\n",
    "print('Error de la fórmula compuesta del trapecio: ' + str(sp.N(trapezoid_int(f2num,a,b,n)-quad(f2num,a,b)[0])))\n",
    "pintaIntegralTrapecio(f2num,a,b,n)\n",
    "print('Método Simpson compuesto: integral de f2 con m=50: ' + str(sp.N(simpson_int(f2num,a,b,m))))\n",
    "print('Error de la fórmula compuesta de Simpson: ' + str(sp.N(simpson_int(f2num,a,b,m)-quad(f2num,a,b)[0])))\n",
    "pintaIntegralSimpson(f2num,a,b,m)"
   ]
  },
  {
   "cell_type": "markdown",
   "metadata": {},
   "source": [
    "**6.- Sea $f_3(x)=x^{15} e^x$ en $[0,2]$. Vamos a dividir el intervalo en $10\\times 2^n$ subintervalos, es decir, $10,\\,20,\\,40,\\, 80,\\ldots $ y a aplicar la fórmula de Simpson compuesta hasta que la diferencia entre dos aproximaciones consecutivas (por ejemplo, podrían ser con $20$ y $40$ subintervalos) sea menor que $10^{-2}$, dando en tal caso por buena la última aproximación obtenida. Programe y calcule dicha aproximación. Compare ambas aproximaciones con el valor exacto.**"
   ]
  },
  {
   "cell_type": "markdown",
   "metadata": {},
   "source": [
    "A la hora de hacer este ejercicio, primero definamos $f(x)$ y las variables a utilizar:"
   ]
  },
  {
   "cell_type": "code",
   "execution_count": 14,
   "metadata": {},
   "outputs": [],
   "source": [
    "def f(x):\n",
    "    return x**15*sp.exp(x)\n",
    "\n",
    "a, b = 0, 2\n",
    "n = 10\n",
    "e = 10**(-2)\n",
    "n = 0\n",
    "nxx = 10*2**(n)"
   ]
  },
  {
   "cell_type": "markdown",
   "metadata": {},
   "source": [
    "Ahora sigamos con el algoritmo. Éste va a calcular en cada iteración la diferencia entre el actual resultado de calcular la integral con $10 \\cdot 2^n$ intervalos y el anterior, con $10 \\cdot 2^{n-1}$ intervalos. Si la diferencia es menor que $e$, entonces devuelve la solución."
   ]
  },
  {
   "cell_type": "code",
   "execution_count": 15,
   "metadata": {},
   "outputs": [
    {
     "name": "stdout",
     "output_type": "stream",
     "text": [
      "n = 1. Iteracion n: 1092.26666666667*exp(2) + 19058.2112379277, Iteracion n-1: 11821.1255147462 + 2184.53333333333*exp(2), dif : 7237.08572318152 - 1092.26666666667*exp(2)\n",
      "n = 2. Iteracion n: 546.133333333333*exp(2) + 23031.6200772253, Iteracion n-1 : 1092.26666666667*exp(2) + 19058.2112379277, dif: 3973.40883929756 - 546.133333333333*exp(2)\n",
      "n = 3. Iteracion n: 273.066666666667*exp(2) + 25045.2709148069, Iteracion n-1 : 546.133333333333*exp(2) + 23031.6200772253, dif: 2013.65083758167 - 273.066666666667*exp(2)\n",
      "n = 4. Iteracion n: 136.533333333333*exp(2) + 26053.8670897938, Iteracion n-1 : 273.066666666667*exp(2) + 25045.2709148069, dif: 1008.5961749869 - 136.533333333333*exp(2)\n",
      "n = 5. Iteracion n: 68.2666666666667*exp(2) + 26558.2772558958, Iteracion n-1 : 136.533333333333*exp(2) + 26053.8670897938, dif: 504.410166101938 - 68.2666666666667*exp(2)\n",
      "n = 6. Iteracion n: 34.1333333333333*exp(2) + 26810.4893660477, Iteracion n-1 : 68.2666666666667*exp(2) + 26558.2772558958, dif: 252.212110151941 - 34.1333333333333*exp(2)\n"
     ]
    }
   ],
   "source": [
    "simpson_anterior = simpson_int(f,a,b,int(nxx/2))\n",
    "n = n+1\n",
    "nxx = 10*2**(n)\n",
    "simpson_actual = simpson_int(f,a,b,int(nxx/2))\n",
    "print('n = {}. Iteracion n: {}, Iteracion n-1: {}, dif : {}'.format(n,simpson_actual,simpson_anterior,simpson_actual-simpson_anterior))\n",
    "while abs(sp.N(simpson_actual) - sp.N(simpson_anterior)) >= e:\n",
    "    simpson_anterior = simpson_actual\n",
    "    n = n+1 ; nxx = 10*2**(n)\n",
    "    simpson_actual = simpson_int(f,a,b,int(nxx/2))\n",
    "    print('n = {}. Iteracion n: {}, Iteracion n-1 : {}, dif: {}'.format(n,simpson_actual,simpson_anterior,simpson_actual-simpson_anterior))"
   ]
  },
  {
   "cell_type": "markdown",
   "metadata": {},
   "source": [
    "Ahora veamos los resultados obtenidos:"
   ]
  },
  {
   "cell_type": "code",
   "execution_count": 16,
   "metadata": {},
   "outputs": [
    {
     "name": "stdout",
     "output_type": "stream",
     "text": [
      "Solución final simbólica:  34.1333333333333*exp(2) + 26810.4893660477\n",
      "Solución final numérica:  27062.7024808912\n",
      "Diferencia final entre las iteraciones  5  y  6 :  0.00100469155950123\n",
      "Número de intervalos necesarios para obtener la diferencia menor a  0.01 :  640\n",
      "Solución real evaluada con quad:  27062.70241389961 Error de nuestra aprox actual frente a la real:  6.69916043989360e-5\n",
      "Solución real evaluada con quad:  27062.70241389961 Error de nuestra aprox anterior frente a la real:  0.00107168316390016\n"
     ]
    }
   ],
   "source": [
    "print('Solución final simbólica: ', simpson_actual)\n",
    "print('Solución final numérica: ', sp.N(simpson_actual))\n",
    "print('Diferencia final entre las iteraciones ', n-1, ' y ', n, ': ', abs(sp.N(simpson_actual) - sp.N(simpson_anterior)))\n",
    "print('Número de intervalos necesarios para obtener la diferencia menor a ', e, ': ', nxx)\n",
    "print('Solución real evaluada con quad: ', quad(f,a,b)[0], 'Error de nuestra aprox actual frente a la real: ', abs(quad(f,a,b)[0] - sp.N(simpson_actual)))\n",
    "print('Solución real evaluada con quad: ', quad(f,a,b)[0], 'Error de nuestra aprox anterior frente a la real: ', abs(quad(f,a,b)[0] - sp.N(simpson_anterior)))"
   ]
  },
  {
   "cell_type": "markdown",
   "metadata": {},
   "source": [
    "**7.- Calcule las fórmulas gaussianas con $2$ y $3$ nodos,en el intervalo $[-1,1]$, siendo la función peso el valor absoluto de la variable. Aplíquelas para aproximar la función $x\\; e^x$ en $[-1,1]$ y compare los resultados con el valor exacto (organizando los cálculos de forma adecuada).**"
   ]
  },
  {
   "cell_type": "markdown",
   "metadata": {},
   "source": [
    "Primero definimos las funciones a utilizar. La función peso, $w(x)$, es la que indica el enunciado mientras que la cuadratura gaussiana se ha declarado de la misma forma que en los apuntes."
   ]
  },
  {
   "cell_type": "code",
   "execution_count": 17,
   "metadata": {},
   "outputs": [],
   "source": [
    "def w(x):\n",
    "    return abs(x)\n",
    "\n",
    "def gaussian_quadrature(f,w,a,b,n):\n",
    "    '''fórmula de la cuadratura gaussiana para la integral con peso\n",
    "    no idénticamente 1'''\n",
    "    z = sp.Symbol('z')\n",
    "    x = sp.Symbol('x')\n",
    "    grexact = 2*n-1\n",
    "    p = sp.symbols('p1:'+ str(n+1))\n",
    "    c = sp.symbols('c1:'+ str(n+1))\n",
    "    nodos = list(p)\n",
    "    coefs = list(c)\n",
    "    incogs = coefs + nodos\n",
    "\n",
    "    ecs = [np.dot([(z**i).subs({z:nodos[j]}) for j in range(n)],coefs)-sp.integrate(w(x)*x**i,(x,a,b)) for i in range(grexact+1)]\n",
    "    solsGauss = sp.solve(ecs,incogs)\n",
    "\n",
    "    for i in range(n):\n",
    "        coefs[i] = solsGauss[0][i]\n",
    "        nodos[i] = solsGauss[0][i+n]\n",
    "\n",
    "    return np.dot([f(nodos[i]) for i in range(n)],coefs)"
   ]
  },
  {
   "cell_type": "markdown",
   "metadata": {},
   "source": [
    "Ahora calculemos y veamos los resultados:"
   ]
  },
  {
   "cell_type": "code",
   "execution_count": 18,
   "metadata": {},
   "outputs": [
    {
     "name": "stdout",
     "output_type": "stream",
     "text": [
      "Valor de la integral de x*e^x en [-1,1]: 0.735758882342885\n",
      "Cuadratura gaussiana para x*e^x con n=2: 0.542720820636303\n",
      "Error respecto a la integral de x*e^x con 2 nodos: 0.193038061706581\n",
      "Cuadratura gaussiana para x*e^x con n=3: 0.557437075708894\n",
      "Error respecto a la integral de x*e^x con 3 nodos: 0.178321806633991\n"
     ]
    }
   ],
   "source": [
    "a = -1\n",
    "b = 1\n",
    "sol = sp.N(sp.integrate(x*sp.exp(x),(x,a,b)))\n",
    "sol_n2 = sp.N(gaussian_quadrature(lambda x:x*sp.exp(x), w, a, b, 2))\n",
    "sol_n3 = sp.N(gaussian_quadrature(lambda x:x*sp.exp(x), w, a, b, 3))\n",
    "\n",
    "print('Valor de la integral de x*e^x en [-1,1]: ' + str(sol))\n",
    "print('Cuadratura gaussiana para x*e^x con n=2: ' + str(sol_n2))\n",
    "print('Error respecto a la integral de x*e^x con 2 nodos: ' + str(abs(sol_n2-sol)))\n",
    "print('Cuadratura gaussiana para x*e^x con n=3: ' + str(sol_n3))\n",
    "print('Error respecto a la integral de x*e^x con 3 nodos: ' + str(abs(sol_n3-sol)))"
   ]
  },
  {
   "cell_type": "markdown",
   "metadata": {},
   "source": [
    "**8.- Programar las técnicas de integración de Romberg y adaptativa, para después aplicarlas a la aproximación de la siguiente integral**\n",
    "$$\\int_a^b p(x)\\, dx$$\n",
    "siendo  $\\;a=\\displaystyle\\min_{0\\leq i\\leq 7}{d_i}$, $\\;b=\\displaystyle\\max_{0\\leq i\\leq 7}{d_i}$ y \n",
    "$$p(x)=d_0 + d_1 x + d_2 x^2 + d_3 x^3+ d_4 x^4 + d_5 x^5 + d_6 x^6 + d_7 x^7 $$\n",
    "**(siendo $d_0, d_1, \\ldots, d_7$ los dígitos de su DNI, pasaporte o tarjeta de residente).**"
   ]
  },
  {
   "cell_type": "markdown",
   "metadata": {},
   "source": [
    "De la misma forma que llevamos realizando toda la práctica, primero voy a definir las funciones y acto seguido calcular su valor con los métodos declarados. La implementación realizada se ha hecho siguiendo los apuntes de teoría."
   ]
  },
  {
   "cell_type": "code",
   "execution_count": 19,
   "metadata": {},
   "outputs": [],
   "source": [
    "def romberg_int(f,a,b,N):\n",
    "    '''Método de Romberg para integrar una función f en el intervalo [a,b]'''\n",
    "    R = np.zeros((N+1,N+1))\n",
    "    \n",
    "    for j in range(0,N+1):\n",
    "        R[j][0] = trapezoid_int(f, a, b, 2**j)\n",
    "        for k in range(1, j+1):\n",
    "            R[j][k] = (4**k*R[j][k-1]-R[j-1][k-1])/(4**k-1)\n",
    "    \n",
    "    return R[N][N]\n",
    "\n",
    "def simple_simpson_int(f,a,b):\n",
    "    '''fórmula simple de Simpson'''\n",
    "    return (b-a)*(f(a)+4*f((a+b)/2)+f(b))/6\n",
    "\n",
    "S = simple_simpson_int\n",
    "\n",
    "def adaptative_int(f,a,b,tol=10**(-16)):\n",
    "    '''Implementacion del metodo de la integral adaptativa'''\n",
    "    m = (a+b)/2\n",
    "    s2 = S(f,a,m) + S(f,m,b)\n",
    "    \n",
    "    if abs(S(f,a,b) - s2) < tol:\n",
    "        return s2\n",
    "    else:\n",
    "        return adaptative_int(f,a,m,tol/2)+adaptative_int(f,m,b,tol/2)"
   ]
  },
  {
   "cell_type": "markdown",
   "metadata": {},
   "source": [
    "Ahora calculemos la integral de $p(x)$ y comparemos su error:"
   ]
  },
  {
   "cell_type": "code",
   "execution_count": 20,
   "metadata": {},
   "outputs": [
    {
     "name": "stdout",
     "output_type": "stream",
     "text": [
      "Integral real obtenida con quad:  2492523.483333333\n",
      "Integral aproximada por la fórmula de Romberg:  2492523.4833333334\n",
      "Error del método de Romberg respecto a la integral real:  4.656612873077393e-10\n",
      "Integral aproximada por la fórmula adaptativa:  2492523.4833333623\n",
      "Error del método adaptativo respecto a la integral real:  2.9336661100387573e-08\n"
     ]
    }
   ],
   "source": [
    "N = 10  # Pongo N=10 de manera arbitraria, pero también podríamos poner\n",
    "        # un criterio de parada en función del error relativo  \n",
    "tol = 10**(-6)\n",
    "DNI = [2,4,4,1,1,2,8]\n",
    "a,b = min(DNI),max(DNI)\n",
    "p = lambda x: sum(DNI[i]*x**i for i in range(len(DNI)))\n",
    "\n",
    "print('Integral real obtenida con quad: ', quad(p,a,b)[0])\n",
    "print('Integral aproximada por la fórmula de Romberg: ', romberg_int(p,a,b,N))\n",
    "print('Error del método de Romberg respecto a la integral real: ', abs(quad(p,a,b)[0] - romberg_int(p,a,b,N)))\n",
    "print('Integral aproximada por la fórmula adaptativa: ', adaptative_int(p,a,b,tol))\n",
    "print('Error del método adaptativo respecto a la integral real: ', abs(quad(p,a,b)[0] - adaptative_int(p,a,b,tol)))"
   ]
  }
 ],
 "metadata": {
  "interpreter": {
   "hash": "e7370f93d1d0cde622a1f8e1c04877d8463912d04d973331ad4851f04de6915a"
  },
  "kernelspec": {
   "display_name": "Python 3 (ipykernel)",
   "language": "python",
   "name": "python3"
  },
  "language_info": {
   "codemirror_mode": {
    "name": "ipython",
    "version": 3
   },
   "file_extension": ".py",
   "mimetype": "text/x-python",
   "name": "python",
   "nbconvert_exporter": "python",
   "pygments_lexer": "ipython3",
   "version": "3.10.4"
  }
 },
 "nbformat": 4,
 "nbformat_minor": 2
}
