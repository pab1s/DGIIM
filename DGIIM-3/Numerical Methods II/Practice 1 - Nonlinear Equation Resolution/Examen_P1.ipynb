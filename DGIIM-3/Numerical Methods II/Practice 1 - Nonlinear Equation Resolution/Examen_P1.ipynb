{
 "cells": [
  {
   "cell_type": "markdown",
   "metadata": {},
   "source": [
    "# Examen Práctica 1.\n",
    "## Pablo Olivares Martínez"
   ]
  },
  {
   "cell_type": "code",
   "execution_count": 268,
   "metadata": {},
   "outputs": [
    {
     "data": {
      "application/json": {
       "Software versions": [
        {
         "module": "Python",
         "version": "3.10.3 64bit [GCC 11.2.1 20220127 (Red Hat 11.2.1-9)]"
        },
        {
         "module": "IPython",
         "version": "8.1.1"
        },
        {
         "module": "OS",
         "version": "Linux 5.16.18 200.fc35.x86_64 x86_64 with glibc2.34"
        },
        {
         "module": "numpy",
         "version": "1.21.5"
        },
        {
         "module": "matplotlib",
         "version": "3.5.1"
        },
        {
         "module": "sympy",
         "version": "1.10"
        }
       ]
      },
      "text/html": [
       "<table><tr><th>Software</th><th>Version</th></tr><tr><td>Python</td><td>3.10.3 64bit [GCC 11.2.1 20220127 (Red Hat 11.2.1-9)]</td></tr><tr><td>IPython</td><td>8.1.1</td></tr><tr><td>OS</td><td>Linux 5.16.18 200.fc35.x86_64 x86_64 with glibc2.34</td></tr><tr><td>numpy</td><td>1.21.5</td></tr><tr><td>matplotlib</td><td>3.5.1</td></tr><tr><td>sympy</td><td>1.10</td></tr><tr><td colspan='2'>Mon Apr 04 18:19:16 2022 CEST</td></tr></table>"
      ],
      "text/latex": [
       "\\begin{tabular}{|l|l|}\\hline\n",
       "{\\bf Software} & {\\bf Version} \\\\ \\hline\\hline\n",
       "Python & 3.10.3 64bit [GCC 11.2.1 20220127 (Red Hat 11.2.1-9)] \\\\ \\hline\n",
       "IPython & 8.1.1 \\\\ \\hline\n",
       "OS & Linux 5.16.18 200.fc35.x86\\_64 x86\\_64 with glibc2.34 \\\\ \\hline\n",
       "numpy & 1.21.5 \\\\ \\hline\n",
       "matplotlib & 3.5.1 \\\\ \\hline\n",
       "sympy & 1.10 \\\\ \\hline\n",
       "\\hline \\multicolumn{2}{|l|}{Mon Apr 04 18:19:16 2022 CEST} \\\\ \\hline\n",
       "\\end{tabular}\n"
      ],
      "text/plain": [
       "Software versions\n",
       "Python 3.10.3 64bit [GCC 11.2.1 20220127 (Red Hat 11.2.1-9)]\n",
       "IPython 8.1.1\n",
       "OS Linux 5.16.18 200.fc35.x86_64 x86_64 with glibc2.34\n",
       "numpy 1.21.5\n",
       "matplotlib 3.5.1\n",
       "sympy 1.10\n",
       "Mon Apr 04 18:19:16 2022 CEST"
      ]
     },
     "execution_count": 268,
     "metadata": {},
     "output_type": "execute_result"
    }
   ],
   "source": [
    "%reload_ext version_information\n",
    "%version_information numpy, matplotlib, sympy"
   ]
  },
  {
   "cell_type": "code",
   "execution_count": 269,
   "metadata": {},
   "outputs": [],
   "source": [
    "import numpy as np\n",
    "%matplotlib inline\n",
    "import matplotlib.pyplot as plt\n",
    "import sympy as sp\n",
    "from numpy import sign\n",
    "from decimal import *\n",
    "from scipy.optimize import fsolve\n",
    "from sympy.solvers import solve, nsolve, solveset"
   ]
  },
  {
   "cell_type": "code",
   "execution_count": 270,
   "metadata": {},
   "outputs": [],
   "source": [
    "x = sp.Symbol('x')\n",
    "mporig = getcontext().prec\n",
    "roundorig = getcontext().rounding\n",
    "getcontext().rounding = ROUND_HALF_UP"
   ]
  },
  {
   "cell_type": "markdown",
   "metadata": {},
   "source": [
    "## Ejercicio"
   ]
  },
  {
   "cell_type": "code",
   "execution_count": 271,
   "metadata": {},
   "outputs": [],
   "source": [
    "DNI = [1,2,3,4,5,6,7,8]\n",
    "DNIdec = [Decimal(i) for i in DNI]\n",
    "S = float(sum(DNI))\n",
    "M = S / len(DNI)\n",
    "\n",
    "Sdec = sum(DNIdec)\n",
    "Mdec = Sdec / len(DNIdec)\n",
    "\n",
    "def f(x):\n",
    "    return x**3+M*x+S\n"
   ]
  },
  {
   "cell_type": "markdown",
   "metadata": {},
   "source": [
    "### Apartado 1: Función de punto fijo $g(x)=x-f(x)$ y su representación gráfica."
   ]
  },
  {
   "cell_type": "code",
   "execution_count": 272,
   "metadata": {},
   "outputs": [
    {
     "data": {
      "image/png": "[encoded data removed]",
      "text/plain": [
       "<Figure size 432x288 with 1 Axes>"
      ]
     },
     "metadata": {
      "needs_background": "light"
     },
     "output_type": "display_data"
    },
    {
     "data": {
      "text/plain": [
       "<sympy.plotting.plot.Plot at 0x7f98f3414610>"
      ]
     },
     "execution_count": 272,
     "metadata": {},
     "output_type": "execute_result"
    }
   ],
   "source": [
    "def g(x):\n",
    "    return x - f(x)\n",
    "\n",
    "sp.plot(g(x),x,x, xlim = (-3,3), ylim = (-3,3))"
   ]
  },
  {
   "cell_type": "markdown",
   "metadata": {},
   "source": [
    "### Apartado 2: Gráfica de solución acotada en intervalo de longitud 1."
   ]
  },
  {
   "cell_type": "code",
   "execution_count": 273,
   "metadata": {},
   "outputs": [
    {
     "name": "stdout",
     "output_type": "stream",
     "text": [
      "Se llegó al número máximo de iteraciones -2.5396839711824779\n",
      "Número de iteraciones reales en metodoBiseccion:  100\n",
      "-2.5396839711824779\n"
     ]
    },
    {
     "data": {
      "text/plain": [
       "[<matplotlib.lines.Line2D at 0x7f98f34b1270>]"
      ]
     },
     "execution_count": 273,
     "metadata": {},
     "output_type": "execute_result"
    },
    {
     "data": {
      "image/png": "[encoded data removed]",
      "text/plain": [
       "<Figure size 432x288 with 1 Axes>"
      ]
     },
     "metadata": {
      "needs_background": "light"
     },
     "output_type": "display_data"
    }
   ],
   "source": [
    "def fnum(x):\n",
    "    return x**3+Mdec*x+Sdec\n",
    "\n",
    "def metodoBiseccion(f,a,b,cifras=16,prec=10**(-16),nmax=100,num_iter=False):\n",
    "    getcontext().prec = cifras+1\n",
    "    tol = 10**(-cifras)\n",
    "    niter = 0; sale =''\n",
    "    sucesionBiseccion = []\n",
    "    a,b = Decimal(a),Decimal(b)\n",
    "\n",
    "    for k in range(nmax):\n",
    "        niter = niter + 1;\n",
    "        c = a+(b-a)/2 # equivalente a c = (a+b)/2\n",
    "        sucesionBiseccion.append(c)\n",
    "\n",
    "        if abs(f(c)) < prec:\n",
    "            sale = 'precision'\n",
    "            break\n",
    "        if np.sign(f(a)) != np.sign(f(c)):\n",
    "            b = c\n",
    "        else:\n",
    "            a = c\n",
    "\n",
    "        if b-a < tol:\n",
    "            sale = 'tolerancia'\n",
    "            break\n",
    "\n",
    "    if sale == 'precision':\n",
    "        print('Posiblemente solución exacta: ',c)\n",
    "    elif niter < nmax:\n",
    "        print('Aproximación solicitada: ',c)\n",
    "    else:\n",
    "        print('Se llegó al número máximo de iteraciones',c)\n",
    "    if num_iter:\n",
    "        print('Número de iteraciones reales en metodoBiseccion: ',niter)\n",
    "\n",
    "    getcontext().prec = mporig\n",
    "    return sucesionBiseccion\n",
    "\n",
    "a,b = -3,-2\n",
    "biseccion = metodoBiseccion(fnum,a,b,num_iter=True)\n",
    "print(biseccion[len(biseccion)-1])\n",
    "num_items = [i for i in range(len(biseccion))]\n",
    "plt.plot(num_items,biseccion)"
   ]
  },
  {
   "cell_type": "markdown",
   "metadata": {},
   "source": [
    "### Apartado 3: $tol = 10^{-1}$"
   ]
  },
  {
   "cell_type": "code",
   "execution_count": 274,
   "metadata": {},
   "outputs": [
    {
     "name": "stdout",
     "output_type": "stream",
     "text": [
      "Número máximo de iteraciones:  3.0\n",
      "Posiblemente solución exacta:  -2.5\n",
      "Número de iteraciones reales en metodoBiseccion:  1\n"
     ]
    }
   ],
   "source": [
    "def numIterBiseccion(a,b,cifras):\n",
    "    tol = 10**(-cifras)\n",
    "    n = np.ceil(np.log((b-a)/tol)/np.log(2) - 1)\n",
    "    print('Número máximo de iteraciones: ', n)\n",
    "    return n\n",
    "\n",
    "cifras = 1\n",
    "#Este es el máximo número de iteraciones que haremos para obtener la aproximación\n",
    "numIterBiseccion(a,b,cifras)\n",
    "solBiseccion = metodoBiseccion(fnum,a,b,cifras,num_iter=True)\n"
   ]
  },
  {
   "cell_type": "markdown",
   "metadata": {},
   "source": [
    "### Apartado 4: 10 iteraciones en Newton-Raphson con $x_0=-2,5$"
   ]
  },
  {
   "cell_type": "code",
   "execution_count": 275,
   "metadata": {},
   "outputs": [
    {
     "name": "stdout",
     "output_type": "stream",
     "text": [
      "Posiblemente solución exacta:  -2.539683971182478\n"
     ]
    }
   ],
   "source": [
    "def newtonRaphson(f,df,x0,cifras=16,prec=10**(-16),nmax=100,num_iter=False):\n",
    "    getcontext().prec = cifras\n",
    "    tol = 10**(-cifras)\n",
    "    niter = 0; sale = ''\n",
    "    sucesionNewtonRaphson = []\n",
    "    x0 = Decimal(x0)\n",
    "\n",
    "    for k in range(nmax):\n",
    "        niter = niter + 1\n",
    "        x1 = x0 - f(x0)/Decimal(df(x0))\n",
    "        sucesionNewtonRaphson.append(x1)\n",
    "\n",
    "        if abs(x1-x0) < tol:\n",
    "            sale = 'tolerancia'\n",
    "            break\n",
    "        if abs(f(x1)) < prec:\n",
    "            sale = 'precision'\n",
    "            break\n",
    "        else:\n",
    "            x0 = x1\n",
    "\n",
    "    if sale == 'precision':\n",
    "        print('Posiblemente solución exacta: ',x1)\n",
    "    elif niter < nmax:\n",
    "        print('Aproximación solicitada: ',x1)\n",
    "    else:\n",
    "        print('Se llegó al número máximo de iteraciones: ',x1)\n",
    "    if num_iter:\n",
    "        print('Número de iteraciones reales en newtonRaphson: ',niter)\n",
    "        \n",
    "    return sucesionNewtonRaphson\n",
    "\n",
    "#Definimos df\n",
    "def df(x):\n",
    "    return 3*x**2+Mdec\n",
    "\n",
    "x0 = solBiseccion[0]\n",
    "solNR = newtonRaphson(fnum,df,x0,cifras=16)\n"
   ]
  },
  {
   "cell_type": "markdown",
   "metadata": {},
   "source": [
    "### Apartado 5: Comparación resultados"
   ]
  },
  {
   "cell_type": "code",
   "execution_count": 276,
   "metadata": {},
   "outputs": [
    {
     "name": "stdout",
     "output_type": "stream",
     "text": [
      "Solución real obtenida con solve:  -2.53968397118248\n",
      "Solución real obtenida con el método de la bisección:  -2.5396839711824779 // ERROR:  0\n",
      "Solución real obtenida con el método de la bisección con tol = 10^(-1):  -2.5 // ERROR:  0.0396839711824777\n",
      "Solución real obtenida con el método de Newton-Raphson:  -2.539683971182478 // ERROR:  4.44089209850063e-16\n"
     ]
    }
   ],
   "source": [
    "print('Solución real obtenida con solve: ', sp.solve(f(x),x)[0])\n",
    "print('Solución real obtenida con el método de la bisección: ', biseccion[len(biseccion)-1], '// ERROR: ', abs(biseccion[len(biseccion)-1]-sp.solve(f(x),x)[0]))\n",
    "print('Solución real obtenida con el método de la bisección con tol = 10^(-1): ', x0, '// ERROR: ', abs(x0-sp.solve(f(x),x)[0]))\n",
    "print('Solución real obtenida con el método de Newton-Raphson: ', solNR[len(solNR)-1], '// ERROR: ',abs(solNR[len(solNR)-1]-sp.solve(f(x),x)[0]))"
   ]
  },
  {
   "cell_type": "markdown",
   "metadata": {},
   "source": [
    "Como podemos ver, el resultado que mejor se acerca a la solución exacta es la de Newton-Raphson, la cual vemos que coincide en todos los dígitos en común con la solución ofrecida por solve(). Esto se debe a su velocidad de convergencia cuadrática para soluciones de raíz simple."
   ]
  }
 ],
 "metadata": {
  "interpreter": {
   "hash": "e7370f93d1d0cde622a1f8e1c04877d8463912d04d973331ad4851f04de6915a"
  },
  "kernelspec": {
   "display_name": "Python 3.10.3 64-bit",
   "language": "python",
   "name": "python3"
  },
  "language_info": {
   "codemirror_mode": {
    "name": "ipython",
    "version": 3
   },
   "file_extension": ".py",
   "mimetype": "text/x-python",
   "name": "python",
   "nbconvert_exporter": "python",
   "pygments_lexer": "ipython3",
   "version": "3.10.4"
  },
  "orig_nbformat": 4
 },
 "nbformat": 4,
 "nbformat_minor": 2
}
