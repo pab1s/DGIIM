{
 "cells": [
  {
   "cell_type": "markdown",
   "metadata": {},
   "source": [
    "# Examen práctico Tema 3\n",
    "> Pablo Olivares Martínez"
   ]
  },
  {
   "cell_type": "markdown",
   "metadata": {},
   "source": [
    "Primero importamos las librerías:"
   ]
  },
  {
   "cell_type": "code",
   "execution_count": 15,
   "metadata": {},
   "outputs": [],
   "source": [
    "import sympy as sp\n",
    "import numpy as np\n",
    "from tabulate import tabulate\n",
    "%matplotlib inline\n",
    "import matplotlib.pyplot as plt"
   ]
  },
  {
   "cell_type": "markdown",
   "metadata": {},
   "source": [
    "Para la realización del ejercicio se nos pide resolver el PVI $y'(t) = \\frac{t-y(t)}{2}$ para $t \\in [0,1]$ y $y(0)=1$ utilizando los métodos del punto medio, Heun y Runge-Kutta de orden 2 para finalmente compararlos con la solución exacta. Entonces primero vamos a definir la función y obtener su solución exacta:"
   ]
  },
  {
   "cell_type": "code",
   "execution_count": 4,
   "metadata": {},
   "outputs": [],
   "source": [
    "a, b = 0, 1\n",
    "ya = 1\n",
    "eulerExpl, eulerImpl, eulerImplAprox = [], [], []\n",
    "t, y0, z = sp.symbols('t, y_0,  z')\n",
    "\n",
    "def f(t,z):\n",
    "    return (t-z)/float(2)"
   ]
  },
  {
   "cell_type": "code",
   "execution_count": 6,
   "metadata": {},
   "outputs": [],
   "source": [
    "# Definimos y como una función simbólica\n",
    "y = sp.Function('y')\n",
    "# Declaramos la EDO\n",
    "edo = y(t).diff(t)-f(t,y(t))\n",
    "# La igualamos a 0\n",
    "sp.Eq(edo,0)\n",
    "# Resolvemos simbólicamente la EDO\n",
    "edo_sol = sp.dsolve(edo)\n",
    "# Imponemos las condiciones iniciales\n",
    "ics = {y(0): y0}\n",
    "# De esta manera haríamos la sustituciones correspondientes\n",
    "edo_sol.rhs.subs(t, 0),edo_sol.lhs.subs(t, 0).subs(ics)\n",
    "# Ecuación asociada al PVI\n",
    "CI_eq = sp.Eq(edo_sol.lhs.subs(t, 0).subs(ics),edo_sol.rhs.subs(t, 0))\n",
    "# Solución del PVI\n",
    "CI_sol = sp.solve(CI_eq)\n",
    "# Única solución exacta de nuestro PVI \n",
    "sol_exacta = edo_sol.rhs.subs(CI_sol[0]).subs({y0:ya})"
   ]
  },
  {
   "cell_type": "markdown",
   "metadata": {},
   "source": [
    "Ahora almacenaremos las soluciones exactas en un array para posteriores comparaciones:"
   ]
  },
  {
   "cell_type": "code",
   "execution_count": 7,
   "metadata": {},
   "outputs": [],
   "source": [
    "y_x = sp.lambdify(t, sol_exacta, 'numpy')\n",
    "xx = np.linspace(a,b,100)"
   ]
  },
  {
   "cell_type": "markdown",
   "metadata": {},
   "source": [
    "Una vez hecho esto, comenzaré implementando el método del punto medio y de Heun. Para ello, definiré una función para cada una de ellas:"
   ]
  },
  {
   "cell_type": "code",
   "execution_count": 8,
   "metadata": {},
   "outputs": [],
   "source": [
    "def integrateEulerMejorado(F,x0,y0,xfinal,N):    \n",
    "    X = np.linspace(x0,xfinal,N+1)\n",
    "    Y = [y0]; h = (xfinal-x0)/N; h2 = h/2\n",
    "    for n in range(N):\n",
    "        Y.append(Y[n] + h*F(X[n]+h2,Y[n]+h2*F(X[n],Y[n])))\n",
    "    return np.array(X),np.array(Y)"
   ]
  },
  {
   "cell_type": "code",
   "execution_count": 9,
   "metadata": {},
   "outputs": [],
   "source": [
    "def integrateHeun(F,x0,y0,xfinal,N):    \n",
    "    X = np.linspace(x0,xfinal,N+1)\n",
    "    Y = [y0]; h = (xfinal-x0)/N; h2 = h/2\n",
    "    for n in range(N):\n",
    "        Y.append(Y[n] + h2*(F(X[n],Y[n]) + F(X[n+1],Y[n]+h*F(X[n],Y[n]))))\n",
    "    return np.array(X),np.array(Y)"
   ]
  },
  {
   "cell_type": "markdown",
   "metadata": {},
   "source": [
    "Como nos pide que lo calculemos con $h=0'1$ y he definido la función según $N$ que es el número de iteraciones que queremos, haré un sencillo cálculo para conseguir dicho $h$ a partir de $N$. Como el intervalo es el $[0,1]$, necesitaremos $N  = \\frac{1-0}{h} = 10$ iteraciones. Hecho esto, realicemos los cálculos:"
   ]
  },
  {
   "cell_type": "code",
   "execution_count": 25,
   "metadata": {},
   "outputs": [],
   "source": [
    "N = 10\n",
    "errorEulerMejorado, errorEulerHeun = ['Error max Euler mejorado'], ['Error max Euler-Heun']\n",
    "\n",
    "eulerMejorado = {'xx': integrateEulerMejorado(f,a,ya,b,N)[0], 'yy': integrateEulerMejorado(f,a,ya,b,N)[1]}\n",
    "eulerHeun = {'xx': integrateHeun(f,a,ya,b,N)[0], 'yy': integrateHeun(f,a,ya,b,N)[1]}\n",
    "errorEulerMejorado.append(max(abs(eulerMejorado['yy']-y_x(eulerMejorado['xx']))))\n",
    "errorEulerHeun.append(max(abs(eulerHeun['yy']-y_x(eulerHeun['xx']))))"
   ]
  },
  {
   "cell_type": "markdown",
   "metadata": {},
   "source": [
    "Ahora imprimiremos los resultados:"
   ]
  },
  {
   "cell_type": "code",
   "execution_count": 17,
   "metadata": {},
   "outputs": [
    {
     "name": "stdout",
     "output_type": "stream",
     "text": [
      "--------------------  -----------\n",
      "Error Euler mejorado  0.000393624\n",
      "Error Euler-Heun      0.000393624\n",
      "--------------------  -----------\n"
     ]
    },
    {
     "data": {
      "text/plain": [
       "({'xx': array([0. , 0.1, 0.2, 0.3, 0.4, 0.5, 0.6, 0.7, 0.8, 0.9, 1. ]),\n",
       "  'yy': array([1.        , 0.95375   , 0.91462969, 0.88229149, 0.85640478,\n",
       "         0.83665505, 0.82274311, 0.81438439, 0.81130815, 0.81325688,\n",
       "         0.8199856 ])},\n",
       " {'xx': array([0. , 0.1, 0.2, 0.3, 0.4, 0.5, 0.6, 0.7, 0.8, 0.9, 1. ]),\n",
       "  'yy': array([1.        , 0.95375   , 0.91462969, 0.88229149, 0.85640478,\n",
       "         0.83665505, 0.82274311, 0.81438439, 0.81130815, 0.81325688,\n",
       "         0.8199856 ])})"
      ]
     },
     "execution_count": 17,
     "metadata": {},
     "output_type": "execute_result"
    }
   ],
   "source": [
    "print(tabulate([errorEulerMejorado, errorEulerHeun]))\n",
    "eulerMejorado, eulerHeun"
   ]
  },
  {
   "cell_type": "markdown",
   "metadata": {},
   "source": [
    "Veamos también una comparación visual:"
   ]
  },
  {
   "cell_type": "code",
   "execution_count": 23,
   "metadata": {},
   "outputs": [
    {
     "data": {
      "image/png": "[encoded data removed]",
      "text/plain": [
       "<Figure size 576x288 with 1 Axes>"
      ]
     },
     "metadata": {
      "needs_background": "light"
     },
     "output_type": "display_data"
    }
   ],
   "source": [
    "fig, ax = plt.subplots(figsize=(8, 4))\n",
    "ax.plot(eulerMejorado['xx'],eulerMejorado['yy'], 'yo',label = \"aprox. mét. Euler mejorado N={}\".format(N))\n",
    "ax.plot(eulerHeun['xx'],eulerHeun['yy'], 'co',label = \"aprox. mét. Euler-Heun N={}\".format(N))\n",
    "ax.plot(xx, y_x(xx), label=\"sol. exacta\")\n",
    "ax.set_title(r\"Sol. exacta:  $y(t)=%s$\" % sp.latex(sol_exacta), fontsize=18)\n",
    "ax.set_xlabel(r\"$t$\", fontsize=18)\n",
    "ax.set_ylabel(r\"$y$\", fontsize=18)\n",
    "ax.legend()\n",
    "fig.tight_layout()"
   ]
  },
  {
   "cell_type": "markdown",
   "metadata": {},
   "source": [
    "Como podemos observar, estos dos métodos ofrecen el mismo resultado para todos los valores."
   ]
  },
  {
   "cell_type": "markdown",
   "metadata": {},
   "source": [
    "Ahora vamos a implementar el método de Runge-Kutta de orden 2 solicitado en el examen:"
   ]
  },
  {
   "cell_type": "code",
   "execution_count": 24,
   "metadata": {},
   "outputs": [],
   "source": [
    "def integrateRK2(F,x0,y0,xfinal,N):\n",
    "    \n",
    "    X = np.linspace(x0,xfinal,N+1)\n",
    "    Y = [y0]; h = (xfinal-x0)/N\n",
    "    for n in range(N):\n",
    "        Y.append(Y[n] + (h/4)*(F(X[n],Y[n]) + 3*F(X[n] + (2/3)*h,Y[n]+(2/3)*h*F(X[n],Y[n]))))\n",
    "    return np.array(X),np.array(Y)"
   ]
  },
  {
   "cell_type": "markdown",
   "metadata": {},
   "source": [
    "Comparémoslo con los anteriores resultados:"
   ]
  },
  {
   "cell_type": "code",
   "execution_count": 29,
   "metadata": {},
   "outputs": [
    {
     "name": "stdout",
     "output_type": "stream",
     "text": [
      "------------------------  -----------\n",
      "Error max Euler mejorado  0.000393624\n",
      "Error max Euler-Heun      0.000393624\n",
      "Error max RK2             0.000393624\n",
      "------------------------  -----------\n"
     ]
    },
    {
     "data": {
      "text/plain": [
       "{'xx': array([0. , 0.1, 0.2, 0.3, 0.4, 0.5, 0.6, 0.7, 0.8, 0.9, 1. ]),\n",
       " 'yy': array([1.        , 0.95375   , 0.91462969, 0.88229149, 0.85640478,\n",
       "        0.83665505, 0.82274311, 0.81438439, 0.81130815, 0.81325688,\n",
       "        0.8199856 ])}"
      ]
     },
     "execution_count": 29,
     "metadata": {},
     "output_type": "execute_result"
    }
   ],
   "source": [
    "errorRK2 = ['Error max RK2']\n",
    "RK2 = {'xx': integrateRK2(f,a,ya,b,N)[0], 'yy': integrateRK2(f,a,ya,b,N)[1]}\n",
    "errorRK2.append(max(abs(RK2['yy']-y_x(RK2['xx']))))\n",
    "print(tabulate([errorEulerMejorado, errorEulerHeun,errorRK2]))\n",
    "RK2"
   ]
  },
  {
   "cell_type": "code",
   "execution_count": 33,
   "metadata": {},
   "outputs": [
    {
     "data": {
      "image/png": "[encoded data removed]",
      "text/plain": [
       "<Figure size 576x288 with 1 Axes>"
      ]
     },
     "metadata": {
      "needs_background": "light"
     },
     "output_type": "display_data"
    }
   ],
   "source": [
    "fig, ax = plt.subplots(figsize=(8, 4))\n",
    "ax.plot(eulerMejorado['xx'],eulerMejorado['yy'], 'yo',label = \"aprox. mét. Euler mejorado N={}\".format(N))\n",
    "ax.plot(eulerHeun['xx'],eulerHeun['yy'], 'co',label = \"aprox. mét. Euler-Heun N={}\".format(N))\n",
    "ax.plot(RK2['xx'],RK2['yy'], 'bo',label = \"aprox. mét. RK2 N={}\".format(N))\n",
    "ax.plot(xx, y_x(xx), label=\"sol. exacta\")\n",
    "ax.set_title(r\"Sol. exacta:  $y(t)=%s$\" % sp.latex(sol_exacta), fontsize=18)\n",
    "ax.set_xlabel(r\"$t$\", fontsize=18)\n",
    "ax.set_ylabel(r\"$y$\", fontsize=18)\n",
    "ax.legend()\n",
    "fig.tight_layout()"
   ]
  },
  {
   "cell_type": "markdown",
   "metadata": {},
   "source": [
    "Como podemos ver, no es sólo que el error máximo sea el mismo, sino que las tres funciones se comportan igual. Esto se debe a que los tres métodos son de orden 2, por lo que los errores serán del mismo orden e incluso ser los mismos."
   ]
  },
  {
   "cell_type": "code",
   "execution_count": 30,
   "metadata": {},
   "outputs": [
    {
     "name": "stdout",
     "output_type": "stream",
     "text": [
      "78.2 µs ± 2.8 µs per loop (mean ± std. dev. of 7 runs, 10,000 loops each)\n"
     ]
    }
   ],
   "source": [
    "%%timeit\n",
    "integrateRK2(f,a,ya,b,N)"
   ]
  },
  {
   "cell_type": "code",
   "execution_count": 31,
   "metadata": {},
   "outputs": [
    {
     "name": "stdout",
     "output_type": "stream",
     "text": [
      "65.4 µs ± 619 ns per loop (mean ± std. dev. of 7 runs, 10,000 loops each)\n"
     ]
    }
   ],
   "source": [
    "%%timeit\n",
    "integrateEulerMejorado(f,a,ya,b,N)"
   ]
  },
  {
   "cell_type": "code",
   "execution_count": 32,
   "metadata": {},
   "outputs": [
    {
     "name": "stdout",
     "output_type": "stream",
     "text": [
      "69.4 µs ± 638 ns per loop (mean ± std. dev. of 7 runs, 10,000 loops each)\n"
     ]
    }
   ],
   "source": [
    "%%timeit\n",
    "integrateHeun(f,a,ya,b,N)"
   ]
  },
  {
   "cell_type": "markdown",
   "metadata": {},
   "source": [
    "Dado que los tres dan resultados idénticos, la única forma restante para compararlos es mediante coste computacional. como podemos ver, el coste computacional de los métodos es similar, siendo un poco peor el de Runge-Kutta de orden 2 y un poco más rápido el de Euler mejorado."
   ]
  }
 ],
 "metadata": {
  "interpreter": {
   "hash": "e7370f93d1d0cde622a1f8e1c04877d8463912d04d973331ad4851f04de6915a"
  },
  "kernelspec": {
   "display_name": "Python 3.10.4 64-bit",
   "language": "python",
   "name": "python3"
  },
  "language_info": {
   "codemirror_mode": {
    "name": "ipython",
    "version": 3
   },
   "file_extension": ".py",
   "mimetype": "text/x-python",
   "name": "python",
   "nbconvert_exporter": "python",
   "pygments_lexer": "ipython3",
   "version": "3.10.4"
  },
  "orig_nbformat": 4
 },
 "nbformat": 4,
 "nbformat_minor": 2
}
