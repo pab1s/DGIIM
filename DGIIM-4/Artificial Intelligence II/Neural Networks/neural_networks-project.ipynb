{
 "cells": [
  {
   "attachments": {},
   "cell_type": "markdown",
   "metadata": {},
   "source": [
    "# Artificial Neural Networks Project\n",
    "## Predicting the probability of a patient having a heart disease\n",
    "### Pablo Olivares Martínez\n",
    "In this project, we will use the provided dataset (attached as a CSV file) of 100 records of patients, each with 9 features and the target variable (whether the patient has a heart disease or not). We will use this dataset to train a neural network to predict the probability of a patient having a heart disease."
   ]
  },
  {
   "cell_type": "code",
   "execution_count": 1,
   "metadata": {},
   "outputs": [
    {
     "name": "stderr",
     "output_type": "stream",
     "text": [
      "2023-01-19 00:32:49.427286: I tensorflow/core/platform/cpu_feature_guard.cc:193] This TensorFlow binary is optimized with oneAPI Deep Neural Network Library (oneDNN) to use the following CPU instructions in performance-critical operations:  AVX2 FMA\n",
      "To enable them in other operations, rebuild TensorFlow with the appropriate compiler flags.\n",
      "2023-01-19 00:32:49.580699: W tensorflow/compiler/xla/stream_executor/platform/default/dso_loader.cc:64] Could not load dynamic library 'libcudart.so.11.0'; dlerror: libcudart.so.11.0: cannot open shared object file: No such file or directory\n",
      "2023-01-19 00:32:49.580726: I tensorflow/compiler/xla/stream_executor/cuda/cudart_stub.cc:29] Ignore above cudart dlerror if you do not have a GPU set up on your machine.\n",
      "2023-01-19 00:32:50.688925: W tensorflow/compiler/xla/stream_executor/platform/default/dso_loader.cc:64] Could not load dynamic library 'libnvinfer.so.7'; dlerror: libnvinfer.so.7: cannot open shared object file: No such file or directory\n",
      "2023-01-19 00:32:50.689068: W tensorflow/compiler/xla/stream_executor/platform/default/dso_loader.cc:64] Could not load dynamic library 'libnvinfer_plugin.so.7'; dlerror: libnvinfer_plugin.so.7: cannot open shared object file: No such file or directory\n",
      "2023-01-19 00:32:50.689081: W tensorflow/compiler/tf2tensorrt/utils/py_utils.cc:38] TF-TRT Warning: Cannot dlopen some TensorRT libraries. If you would like to use Nvidia GPU with TensorRT, please make sure the missing libraries mentioned above are installed properly.\n"
     ]
    }
   ],
   "source": [
    "# Import the libraries\n",
    "import pandas as pd # data processing, CSV file I/O (e.g. pd.read_csv)\n",
    "from sklearn import preprocessing\n",
    "from sklearn.model_selection import train_test_split\n",
    "from sklearn.preprocessing import StandardScaler\n",
    "\n",
    "import keras\n",
    "from keras.models import Sequential\n",
    "from keras.layers import Dense\n",
    "\n",
    "\n",
    "from sklearn.metrics import confusion_matrix, classification_report\n",
    "\n",
    "import numpy as np # linear algebra\n",
    "import seaborn as sns # visualization\n",
    "import matplotlib.pyplot as plt\n",
    "\n",
    "# Visualization libraries\n",
    "import networkx as nx\n",
    "from keras.utils import plot_model\n",
    "from IPython.display import SVG\n",
    "from keras.utils.vis_utils import model_to_dot"
   ]
  },
  {
   "attachments": {},
   "cell_type": "markdown",
   "metadata": {},
   "source": [
    "First, let's read the dataset and take a look at it:"
   ]
  },
  {
   "cell_type": "code",
   "execution_count": 2,
   "metadata": {},
   "outputs": [
    {
     "name": "stdout",
     "output_type": "stream",
     "text": [
      "<class 'pandas.core.frame.DataFrame'>\n",
      "RangeIndex: 100 entries, 0 to 99\n",
      "Data columns (total 10 columns):\n",
      " #   Column                    Non-Null Count  Dtype  \n",
      "---  ------                    --------------  -----  \n",
      " 0   Age ( years)              100 non-null    int64  \n",
      " 1   Gender (Male = 1)         100 non-null    int64  \n",
      " 2   BMI                       100 non-null    float64\n",
      " 3   Diastolic Blood pressure  100 non-null    int64  \n",
      " 4   cholesterol level         100 non-null    int64  \n",
      " 5   smoke (yes =1)            100 non-null    int64  \n",
      " 6   alchohol (yes = 1)        100 non-null    int64  \n",
      " 7   active (yes=1)            100 non-null    int64  \n",
      " 8   Fasting Blood sugar       100 non-null    int64  \n",
      " 9   cardio(yes=1)             100 non-null    int64  \n",
      "dtypes: float64(1), int64(9)\n",
      "memory usage: 7.9 KB\n"
     ]
    },
    {
     "data": {
      "text/html": [
       "<div>\n",
       "<style scoped>\n",
       "    .dataframe tbody tr th:only-of-type {\n",
       "        vertical-align: middle;\n",
       "    }\n",
       "\n",
       "    .dataframe tbody tr th {\n",
       "        vertical-align: top;\n",
       "    }\n",
       "\n",
       "    .dataframe thead th {\n",
       "        text-align: right;\n",
       "    }\n",
       "</style>\n",
       "<table border=\"1\" class=\"dataframe\">\n",
       "  <thead>\n",
       "    <tr style=\"text-align: right;\">\n",
       "      <th></th>\n",
       "      <th>Age ( years)</th>\n",
       "      <th>Gender (Male = 1)</th>\n",
       "      <th>BMI</th>\n",
       "      <th>Diastolic Blood pressure</th>\n",
       "      <th>cholesterol level</th>\n",
       "      <th>smoke (yes =1)</th>\n",
       "      <th>alchohol (yes = 1)</th>\n",
       "      <th>active (yes=1)</th>\n",
       "      <th>Fasting Blood sugar</th>\n",
       "      <th>cardio(yes=1)</th>\n",
       "    </tr>\n",
       "  </thead>\n",
       "  <tbody>\n",
       "    <tr>\n",
       "      <th>count</th>\n",
       "      <td>100.000000</td>\n",
       "      <td>100.000000</td>\n",
       "      <td>100.000000</td>\n",
       "      <td>100.000000</td>\n",
       "      <td>100.000000</td>\n",
       "      <td>100.000000</td>\n",
       "      <td>100.000000</td>\n",
       "      <td>100.000000</td>\n",
       "      <td>100.000000</td>\n",
       "      <td>100.00000</td>\n",
       "    </tr>\n",
       "    <tr>\n",
       "      <th>mean</th>\n",
       "      <td>38.640000</td>\n",
       "      <td>1.410000</td>\n",
       "      <td>0.002724</td>\n",
       "      <td>106.420000</td>\n",
       "      <td>1.270000</td>\n",
       "      <td>0.090000</td>\n",
       "      <td>0.070000</td>\n",
       "      <td>0.820000</td>\n",
       "      <td>110.850000</td>\n",
       "      <td>0.21000</td>\n",
       "    </tr>\n",
       "    <tr>\n",
       "      <th>std</th>\n",
       "      <td>1.772517</td>\n",
       "      <td>0.494311</td>\n",
       "      <td>0.000620</td>\n",
       "      <td>132.649929</td>\n",
       "      <td>0.583528</td>\n",
       "      <td>0.287623</td>\n",
       "      <td>0.256432</td>\n",
       "      <td>0.386123</td>\n",
       "      <td>27.898219</td>\n",
       "      <td>0.40936</td>\n",
       "    </tr>\n",
       "    <tr>\n",
       "      <th>min</th>\n",
       "      <td>30.000000</td>\n",
       "      <td>1.000000</td>\n",
       "      <td>0.001600</td>\n",
       "      <td>65.000000</td>\n",
       "      <td>1.000000</td>\n",
       "      <td>0.000000</td>\n",
       "      <td>0.000000</td>\n",
       "      <td>0.000000</td>\n",
       "      <td>61.000000</td>\n",
       "      <td>0.00000</td>\n",
       "    </tr>\n",
       "    <tr>\n",
       "      <th>25%</th>\n",
       "      <td>39.000000</td>\n",
       "      <td>1.000000</td>\n",
       "      <td>0.002300</td>\n",
       "      <td>85.000000</td>\n",
       "      <td>1.000000</td>\n",
       "      <td>0.000000</td>\n",
       "      <td>0.000000</td>\n",
       "      <td>1.000000</td>\n",
       "      <td>79.000000</td>\n",
       "      <td>0.00000</td>\n",
       "    </tr>\n",
       "    <tr>\n",
       "      <th>50%</th>\n",
       "      <td>39.000000</td>\n",
       "      <td>1.000000</td>\n",
       "      <td>0.002650</td>\n",
       "      <td>85.000000</td>\n",
       "      <td>1.000000</td>\n",
       "      <td>0.000000</td>\n",
       "      <td>0.000000</td>\n",
       "      <td>1.000000</td>\n",
       "      <td>120.500000</td>\n",
       "      <td>0.00000</td>\n",
       "    </tr>\n",
       "    <tr>\n",
       "      <th>75%</th>\n",
       "      <td>39.000000</td>\n",
       "      <td>2.000000</td>\n",
       "      <td>0.003000</td>\n",
       "      <td>95.000000</td>\n",
       "      <td>1.000000</td>\n",
       "      <td>0.000000</td>\n",
       "      <td>0.000000</td>\n",
       "      <td>1.000000</td>\n",
       "      <td>131.000000</td>\n",
       "      <td>0.00000</td>\n",
       "    </tr>\n",
       "    <tr>\n",
       "      <th>max</th>\n",
       "      <td>39.000000</td>\n",
       "      <td>2.000000</td>\n",
       "      <td>0.004900</td>\n",
       "      <td>1049.000000</td>\n",
       "      <td>3.000000</td>\n",
       "      <td>1.000000</td>\n",
       "      <td>1.000000</td>\n",
       "      <td>1.000000</td>\n",
       "      <td>154.000000</td>\n",
       "      <td>1.00000</td>\n",
       "    </tr>\n",
       "  </tbody>\n",
       "</table>\n",
       "</div>"
      ],
      "text/plain": [
       "       Age ( years)   Gender (Male = 1)         BMI  Diastolic Blood pressure  \\\n",
       "count     100.000000         100.000000  100.000000                100.000000   \n",
       "mean       38.640000           1.410000    0.002724                106.420000   \n",
       "std         1.772517           0.494311    0.000620                132.649929   \n",
       "min        30.000000           1.000000    0.001600                 65.000000   \n",
       "25%        39.000000           1.000000    0.002300                 85.000000   \n",
       "50%        39.000000           1.000000    0.002650                 85.000000   \n",
       "75%        39.000000           2.000000    0.003000                 95.000000   \n",
       "max        39.000000           2.000000    0.004900               1049.000000   \n",
       "\n",
       "       cholesterol level  smoke (yes =1)  alchohol (yes = 1)  active (yes=1)  \\\n",
       "count         100.000000      100.000000          100.000000      100.000000   \n",
       "mean            1.270000        0.090000            0.070000        0.820000   \n",
       "std             0.583528        0.287623            0.256432        0.386123   \n",
       "min             1.000000        0.000000            0.000000        0.000000   \n",
       "25%             1.000000        0.000000            0.000000        1.000000   \n",
       "50%             1.000000        0.000000            0.000000        1.000000   \n",
       "75%             1.000000        0.000000            0.000000        1.000000   \n",
       "max             3.000000        1.000000            1.000000        1.000000   \n",
       "\n",
       "       Fasting Blood sugar  cardio(yes=1)  \n",
       "count           100.000000      100.00000  \n",
       "mean            110.850000        0.21000  \n",
       "std              27.898219        0.40936  \n",
       "min              61.000000        0.00000  \n",
       "25%              79.000000        0.00000  \n",
       "50%             120.500000        0.00000  \n",
       "75%             131.000000        0.00000  \n",
       "max             154.000000        1.00000  "
      ]
     },
     "execution_count": 2,
     "metadata": {},
     "output_type": "execute_result"
    }
   ],
   "source": [
    "df = pd.read_csv(r'Dataset_ student work .csv')\n",
    "df.info()\n",
    "df.describe()"
   ]
  },
  {
   "attachments": {},
   "cell_type": "markdown",
   "metadata": {},
   "source": [
    "Next step is to split the dataset into training and test sets. We will use 80% of the data for training and 20% for testing."
   ]
  },
  {
   "cell_type": "code",
   "execution_count": 3,
   "metadata": {},
   "outputs": [],
   "source": [
    "# Split X (features) and Y (target)\n",
    "X = df.iloc[:, :-1]\n",
    "y = df.iloc[:, -1]\n",
    "\n",
    "# Split the data into training and testing sets\n",
    "X_train, X_test, y_train, y_test = train_test_split(X, y, test_size = 0.2, random_state = 0)"
   ]
  },
  {
   "attachments": {},
   "cell_type": "markdown",
   "metadata": {},
   "source": [
    "Now we are going to build the neural network. We will use the Sequential model from Keras. We will use 3 layers, with 4, 3 and 1 neurons respectively. We will use the sigmoid activation function for the output layer, and the ReLU activation function for the other two layers."
   ]
  },
  {
   "cell_type": "code",
   "execution_count": 4,
   "metadata": {},
   "outputs": [
    {
     "name": "stderr",
     "output_type": "stream",
     "text": [
      "2023-01-19 00:32:52.780302: I tensorflow/compiler/xla/stream_executor/cuda/cuda_gpu_executor.cc:981] successful NUMA node read from SysFS had negative value (-1), but there must be at least one NUMA node, so returning NUMA node zero\n",
      "2023-01-19 00:32:52.780813: W tensorflow/compiler/xla/stream_executor/platform/default/dso_loader.cc:64] Could not load dynamic library 'libcudart.so.11.0'; dlerror: libcudart.so.11.0: cannot open shared object file: No such file or directory\n",
      "2023-01-19 00:32:52.780968: W tensorflow/compiler/xla/stream_executor/platform/default/dso_loader.cc:64] Could not load dynamic library 'libcublas.so.11'; dlerror: libcublas.so.11: cannot open shared object file: No such file or directory\n",
      "2023-01-19 00:32:52.781075: W tensorflow/compiler/xla/stream_executor/platform/default/dso_loader.cc:64] Could not load dynamic library 'libcublasLt.so.11'; dlerror: libcublasLt.so.11: cannot open shared object file: No such file or directory\n",
      "2023-01-19 00:32:52.781191: W tensorflow/compiler/xla/stream_executor/platform/default/dso_loader.cc:64] Could not load dynamic library 'libcufft.so.10'; dlerror: libcufft.so.10: cannot open shared object file: No such file or directory\n",
      "2023-01-19 00:32:52.781331: W tensorflow/compiler/xla/stream_executor/platform/default/dso_loader.cc:64] Could not load dynamic library 'libcurand.so.10'; dlerror: libcurand.so.10: cannot open shared object file: No such file or directory\n",
      "2023-01-19 00:32:52.781435: W tensorflow/compiler/xla/stream_executor/platform/default/dso_loader.cc:64] Could not load dynamic library 'libcusolver.so.11'; dlerror: libcusolver.so.11: cannot open shared object file: No such file or directory\n",
      "2023-01-19 00:32:52.781544: W tensorflow/compiler/xla/stream_executor/platform/default/dso_loader.cc:64] Could not load dynamic library 'libcusparse.so.11'; dlerror: libcusparse.so.11: cannot open shared object file: No such file or directory\n",
      "2023-01-19 00:32:52.781646: W tensorflow/compiler/xla/stream_executor/platform/default/dso_loader.cc:64] Could not load dynamic library 'libcudnn.so.8'; dlerror: libcudnn.so.8: cannot open shared object file: No such file or directory\n",
      "2023-01-19 00:32:52.781664: W tensorflow/core/common_runtime/gpu/gpu_device.cc:1934] Cannot dlopen some GPU libraries. Please make sure the missing libraries mentioned above are installed properly if you would like to use GPU. Follow the guide at https://www.tensorflow.org/install/gpu for how to download and setup the required libraries for your platform.\n",
      "Skipping registering GPU devices...\n",
      "2023-01-19 00:32:52.781998: I tensorflow/core/platform/cpu_feature_guard.cc:193] This TensorFlow binary is optimized with oneAPI Deep Neural Network Library (oneDNN) to use the following CPU instructions in performance-critical operations:  AVX2 FMA\n",
      "To enable them in other operations, rebuild TensorFlow with the appropriate compiler flags.\n"
     ]
    }
   ],
   "source": [
    "# Create an empty model\n",
    "classifier = Sequential()\n",
    "\n",
    "# Add the layers to the model\n",
    "# Input layer and the first hidden layer\n",
    "classifier.add(Dense(units = 4, activation = 'relu',\n",
    "                     kernel_initializer='glorot_uniform', input_dim = 9))\n",
    "# Second hidden layer\n",
    "classifier.add(Dense(units = 3, activation = 'relu'))\n",
    "\n",
    "# Output layer\n",
    "classifier.add(Dense(units = 1, activation = 'sigmoid'))\n"
   ]
  },
  {
   "attachments": {},
   "cell_type": "markdown",
   "metadata": {},
   "source": [
    "Now to compile the model, we will use the binary crossentropy loss function, and the Adam optimizer. We will also use the accuracy metric. "
   ]
  },
  {
   "cell_type": "code",
   "execution_count": 5,
   "metadata": {},
   "outputs": [],
   "source": [
    "classifier.compile(optimizer = 'adam', loss = 'binary_crossentropy', metrics = ['accuracy'])"
   ]
  },
  {
   "attachments": {},
   "cell_type": "markdown",
   "metadata": {},
   "source": [
    "Finally, we will train the model for 10 epochs, with a batch size of 10. This means that the model will be trained using 10 samples at a time, and it will be trained for 10 epochs. Then we will evaluate the model on the test set."
   ]
  },
  {
   "cell_type": "code",
   "execution_count": 6,
   "metadata": {},
   "outputs": [
    {
     "name": "stdout",
     "output_type": "stream",
     "text": [
      "Epoch 1/10\n",
      "8/8 [==============================] - 1s 3ms/step - loss: 3.4298 - accuracy: 0.8250\n",
      "Epoch 2/10\n",
      "8/8 [==============================] - 0s 2ms/step - loss: 2.8365 - accuracy: 0.8250\n",
      "Epoch 3/10\n",
      "8/8 [==============================] - 0s 3ms/step - loss: 2.1592 - accuracy: 0.8250\n",
      "Epoch 4/10\n",
      "8/8 [==============================] - 0s 2ms/step - loss: 1.5372 - accuracy: 0.7750\n",
      "Epoch 5/10\n",
      "8/8 [==============================] - 0s 2ms/step - loss: 1.1979 - accuracy: 0.7375\n",
      "Epoch 6/10\n",
      "8/8 [==============================] - 0s 2ms/step - loss: 1.2574 - accuracy: 0.6125\n",
      "Epoch 7/10\n",
      "8/8 [==============================] - 0s 2ms/step - loss: 1.1760 - accuracy: 0.7625\n",
      "Epoch 8/10\n",
      "8/8 [==============================] - 0s 2ms/step - loss: 1.1816 - accuracy: 0.7625\n",
      "Epoch 9/10\n",
      "8/8 [==============================] - 0s 2ms/step - loss: 1.1795 - accuracy: 0.7625\n",
      "Epoch 10/10\n",
      "8/8 [==============================] - 0s 2ms/step - loss: 1.1587 - accuracy: 0.7625\n"
     ]
    },
    {
     "data": {
      "text/plain": [
       "<keras.callbacks.History at 0x7f539c4dfd60>"
      ]
     },
     "execution_count": 6,
     "metadata": {},
     "output_type": "execute_result"
    }
   ],
   "source": [
    "classifier.fit(X_train, y_train, batch_size = 10, epochs = 10)"
   ]
  },
  {
   "cell_type": "code",
   "execution_count": 7,
   "metadata": {},
   "outputs": [
    {
     "name": "stdout",
     "output_type": "stream",
     "text": [
      "1/1 [==============================] - 0s 228ms/step\n"
     ]
    }
   ],
   "source": [
    "# Predicting the Test set results\n",
    "y_pred = classifier.predict(X_test)\n",
    "y_pred = pd.DataFrame(y_pred)\n",
    "y_pred = round(y_pred)"
   ]
  },
  {
   "attachments": {},
   "cell_type": "markdown",
   "metadata": {},
   "source": [
    "Let's see the results through a confusion matrix and a classification report:"
   ]
  },
  {
   "cell_type": "code",
   "execution_count": 8,
   "metadata": {},
   "outputs": [
    {
     "name": "stdout",
     "output_type": "stream",
     "text": [
      "Classification Report :\n",
      "               precision    recall  f1-score   support\n",
      "\n",
      "           0       0.62      0.77      0.69        13\n",
      "           1       0.25      0.14      0.18         7\n",
      "\n",
      "    accuracy                           0.55        20\n",
      "   macro avg       0.44      0.46      0.44        20\n",
      "weighted avg       0.49      0.55      0.51        20\n",
      "\n",
      "\n",
      "\n",
      "Confusion Matrix :\n",
      " [[10  3]\n",
      " [ 6  1]]\n"
     ]
    }
   ],
   "source": [
    "# Making the Confusion Matrix\n",
    "cm = confusion_matrix(y_test, y_pred)\n",
    "\n",
    "# Classification report of the model\n",
    "cr = classification_report(y_test, y_pred)\n",
    "\n",
    "print('Classification Report :\\n', cr)\n",
    "print('\\n')\n",
    "print('Confusion Matrix :\\n', cm)"
   ]
  },
  {
   "attachments": {},
   "cell_type": "markdown",
   "metadata": {},
   "source": [
    "Here is a graphical representation of the model:"
   ]
  },
  {
   "cell_type": "code",
   "execution_count": 9,
   "metadata": {},
   "outputs": [
    {
     "data": {
      "image/png": "[encoded data removed]",
      "text/plain": [
       "<IPython.core.display.Image object>"
      ]
     },
     "execution_count": 9,
     "metadata": {},
     "output_type": "execute_result"
    }
   ],
   "source": [
    "plot_model(classifier, to_file='classifier.png', show_shapes=True, show_layer_names=True)"
   ]
  },
  {
   "cell_type": "code",
   "execution_count": 10,
   "metadata": {},
   "outputs": [
    {
     "data": {
      "image/png": "[encoded data removed]",
      "text/plain": [
       "<Figure size 432x288 with 1 Axes>"
      ]
     },
     "metadata": {},
     "output_type": "display_data"
    }
   ],
   "source": [
    "# Creating a graph object\n",
    "graph = nx.DiGraph()\n",
    "\n",
    "# Adding nodes to the graph\n",
    "for i, layer in enumerate(classifier.layers):\n",
    "    graph.add_node(i, label=layer.name)\n",
    "\n",
    "# Adding edges to the graph\n",
    "for i, layer in enumerate(classifier.layers):\n",
    "    for node in layer._outbound_nodes:\n",
    "        graph.add_edge(i, node.outbound_layer.name)\n",
    "\n",
    "# Plotting the graph\n",
    "nx.draw(graph, with_labels=True)\n",
    "plt.show()"
   ]
  },
  {
   "attachments": {},
   "cell_type": "markdown",
   "metadata": {},
   "source": [
    "### Exercise 1\n",
    "Compare the performance of the model with different number of hidden neurons."
   ]
  },
  {
   "attachments": {},
   "cell_type": "markdown",
   "metadata": {},
   "source": [
    "To do this, we will repeat the steps above, but changing the number of neurons in the hidden layers. We will use 6 neurons in the first hidden layer and 4 neurons in the second hidden layer. We will use 10 epochs and a batch size of 10."
   ]
  },
  {
   "cell_type": "code",
   "execution_count": 11,
   "metadata": {},
   "outputs": [
    {
     "name": "stdout",
     "output_type": "stream",
     "text": [
      "Epoch 1/10\n",
      "8/8 [==============================] - 1s 2ms/step - loss: 2.4284 - accuracy: 0.8250\n",
      "Epoch 2/10\n",
      "8/8 [==============================] - 0s 2ms/step - loss: 2.0074 - accuracy: 0.8250\n",
      "Epoch 3/10\n",
      "8/8 [==============================] - 0s 2ms/step - loss: 1.6156 - accuracy: 0.8250\n",
      "Epoch 4/10\n",
      "8/8 [==============================] - 0s 2ms/step - loss: 1.3701 - accuracy: 0.8250\n",
      "Epoch 5/10\n",
      "8/8 [==============================] - 0s 2ms/step - loss: 1.1668 - accuracy: 0.8250\n",
      "Epoch 6/10\n",
      "8/8 [==============================] - 0s 2ms/step - loss: 0.9268 - accuracy: 0.8250\n",
      "Epoch 7/10\n",
      "8/8 [==============================] - 0s 2ms/step - loss: 0.8102 - accuracy: 0.8250\n",
      "Epoch 8/10\n",
      "8/8 [==============================] - 0s 2ms/step - loss: 0.6900 - accuracy: 0.8250\n",
      "Epoch 9/10\n",
      "8/8 [==============================] - 0s 2ms/step - loss: 0.6223 - accuracy: 0.8250\n",
      "Epoch 10/10\n",
      "8/8 [==============================] - 0s 2ms/step - loss: 0.5875 - accuracy: 0.8250\n",
      "1/1 [==============================] - 0s 62ms/step\n"
     ]
    }
   ],
   "source": [
    "# Creating and training the 2nd model\n",
    "classifier2 = Sequential()\n",
    "classifier2.add(Dense(units = 6, activation = 'relu',\n",
    "                     kernel_initializer='glorot_uniform', input_dim = 9))\n",
    "classifier2.add(Dense(units = 4, activation = 'relu'))\n",
    "classifier2.add(Dense(units = 1, activation = 'sigmoid'))\n",
    "\n",
    "classifier2.compile(optimizer = 'adam', loss = 'binary_crossentropy', metrics = ['accuracy'])\n",
    "\n",
    "classifier2.fit(X_train, y_train, batch_size = 10, epochs = 10)\n",
    "\n",
    "# Predicting the Test set results\n",
    "y_pred2 = classifier2.predict(X_test)\n",
    "y_pred2 = pd.DataFrame(y_pred2)\n",
    "y_pred2 = round(y_pred2)"
   ]
  },
  {
   "cell_type": "code",
   "execution_count": 12,
   "metadata": {},
   "outputs": [
    {
     "name": "stdout",
     "output_type": "stream",
     "text": [
      "Classification Report 1:\n",
      "               precision    recall  f1-score   support\n",
      "\n",
      "           0       0.62      0.77      0.69        13\n",
      "           1       0.25      0.14      0.18         7\n",
      "\n",
      "    accuracy                           0.55        20\n",
      "   macro avg       0.44      0.46      0.44        20\n",
      "weighted avg       0.49      0.55      0.51        20\n",
      "\n",
      "\n",
      "\n",
      "Confusion Matrix :\n",
      " [[10  3]\n",
      " [ 6  1]]\n",
      "Classification Report 2:\n",
      "               precision    recall  f1-score   support\n",
      "\n",
      "           0       0.63      0.92      0.75        13\n",
      "           1       0.00      0.00      0.00         7\n",
      "\n",
      "    accuracy                           0.60        20\n",
      "   macro avg       0.32      0.46      0.37        20\n",
      "weighted avg       0.41      0.60      0.49        20\n",
      "\n",
      "\n",
      "\n",
      "Confusion Matrix 2:\n",
      " [[12  1]\n",
      " [ 7  0]]\n"
     ]
    }
   ],
   "source": [
    "# Making the Confusion Matrix\n",
    "cm2 = confusion_matrix(y_test, y_pred2)\n",
    "\n",
    "# Classification report of the model\n",
    "cr2 = classification_report(y_test, y_pred2)\n",
    "\n",
    "print('Classification Report 1:\\n', cr)\n",
    "print('\\n')\n",
    "print('Confusion Matrix :\\n', cm)\n",
    "\n",
    "print('Classification Report 2:\\n', cr2)\n",
    "print('\\n')\n",
    "print('Confusion Matrix 2:\\n', cm2)"
   ]
  },
  {
   "attachments": {},
   "cell_type": "markdown",
   "metadata": {},
   "source": [
    "Here we can say that the model is performing better than the previous one, as the accuracy has increased from 0.55 to 0.60. However, even though both models are quite bad, maybe I would prefer the previous one, as its recall and precision detecting cardiovascular disease are higher than the current one. The number of positives in the second model is 0, which would be fatal if a patient was actually suffering from cardiovascular disease."
   ]
  },
  {
   "attachments": {},
   "cell_type": "markdown",
   "metadata": {},
   "source": [
    "### Exercise 2\n",
    "Implement a learning rate schedule and evaluate its effect on the model's performance during the training process."
   ]
  },
  {
   "attachments": {},
   "cell_type": "markdown",
   "metadata": {},
   "source": [
    "To do this, we will repeat the steps above, but using a learning rate schedule. We will use the default learning rate `lr` for the first 5 epochs, and a learning rate of `lr*0.1` for the remaining 5 epochs. We will use 10 epochs and a batch size of 10."
   ]
  },
  {
   "cell_type": "code",
   "execution_count": 13,
   "metadata": {},
   "outputs": [],
   "source": [
    "# Scheduler function\n",
    "def scheduler(epoch, lr):\n",
    "    if epoch < 5:\n",
    "        return lr\n",
    "    else:\n",
    "        return lr * 0.1"
   ]
  },
  {
   "cell_type": "code",
   "execution_count": 14,
   "metadata": {},
   "outputs": [
    {
     "name": "stdout",
     "output_type": "stream",
     "text": [
      "Epoch 1/10\n",
      "8/8 [==============================] - 1s 3ms/step - loss: 10.0894 - accuracy: 0.4500 - lr: 0.0010\n",
      "Epoch 2/10\n",
      "8/8 [==============================] - 0s 3ms/step - loss: 8.8866 - accuracy: 0.4500 - lr: 0.0010\n",
      "Epoch 3/10\n",
      "8/8 [==============================] - 0s 3ms/step - loss: 7.8875 - accuracy: 0.4750 - lr: 0.0010\n",
      "Epoch 4/10\n",
      "8/8 [==============================] - 0s 3ms/step - loss: 7.0615 - accuracy: 0.5125 - lr: 0.0010\n",
      "Epoch 5/10\n",
      "8/8 [==============================] - 0s 3ms/step - loss: 6.3574 - accuracy: 0.6000 - lr: 0.0010\n",
      "Epoch 6/10\n",
      "8/8 [==============================] - 0s 3ms/step - loss: 6.0616 - accuracy: 0.6375 - lr: 1.0000e-04\n",
      "Epoch 7/10\n",
      "8/8 [==============================] - 0s 3ms/step - loss: 6.0361 - accuracy: 0.6375 - lr: 1.0000e-05\n",
      "Epoch 8/10\n",
      "8/8 [==============================] - 0s 3ms/step - loss: 6.0336 - accuracy: 0.6375 - lr: 1.0000e-06\n",
      "Epoch 9/10\n",
      "8/8 [==============================] - 0s 3ms/step - loss: 6.0334 - accuracy: 0.6375 - lr: 1.0000e-07\n",
      "Epoch 10/10\n",
      "8/8 [==============================] - 0s 3ms/step - loss: 6.0334 - accuracy: 0.6375 - lr: 1.0000e-08\n",
      "1/1 [==============================] - 0s 64ms/step\n"
     ]
    }
   ],
   "source": [
    "# Creating and training the 3rd model\n",
    "classifier_lrs = Sequential()\n",
    "classifier_lrs.add(Dense(units = 4, activation = 'relu',\n",
    "                        kernel_initializer='glorot_uniform', input_dim = 9))\n",
    "classifier_lrs.add(Dense(units = 3, activation = 'relu'))\n",
    "classifier_lrs.add(Dense(units = 1, activation = 'sigmoid'))\n",
    "\n",
    "classifier_lrs.compile(optimizer = 'adam', loss = 'binary_crossentropy', metrics = ['accuracy'])\n",
    "\n",
    "# Learning rate scheduler\n",
    "lrs = keras.callbacks.LearningRateScheduler(scheduler)\n",
    "\n",
    "classifier_lrs.fit(X_train, y_train, batch_size = 10, epochs = 10, callbacks=[lrs])\n",
    "\n",
    "# Predicting the Test set results\n",
    "y_pred_lrs = classifier_lrs.predict(X_test)\n",
    "y_pred_lrs = pd.DataFrame(y_pred_lrs)\n",
    "y_pred_lrs = round(y_pred_lrs)"
   ]
  },
  {
   "cell_type": "code",
   "execution_count": 15,
   "metadata": {},
   "outputs": [
    {
     "name": "stdout",
     "output_type": "stream",
     "text": [
      "Classification Report 1:\n",
      "               precision    recall  f1-score   support\n",
      "\n",
      "           0       0.62      0.77      0.69        13\n",
      "           1       0.25      0.14      0.18         7\n",
      "\n",
      "    accuracy                           0.55        20\n",
      "   macro avg       0.44      0.46      0.44        20\n",
      "weighted avg       0.49      0.55      0.51        20\n",
      "\n",
      "\n",
      "\n",
      "Confusion Matrix :\n",
      " [[10  3]\n",
      " [ 6  1]]\n",
      "Classification Report 2:\n",
      "               precision    recall  f1-score   support\n",
      "\n",
      "           0       0.63      0.92      0.75        13\n",
      "           1       0.00      0.00      0.00         7\n",
      "\n",
      "    accuracy                           0.60        20\n",
      "   macro avg       0.32      0.46      0.37        20\n",
      "weighted avg       0.41      0.60      0.49        20\n",
      "\n",
      "\n",
      "\n",
      "Confusion Matrix 2:\n",
      " [[12  1]\n",
      " [ 7  0]]\n"
     ]
    }
   ],
   "source": [
    "# Making the Confusion Matrix\n",
    "cm2 = confusion_matrix(y_test, y_pred_lrs)\n",
    "\n",
    "# Classification report of the model\n",
    "cr2 = classification_report(y_test, y_pred_lrs)\n",
    "\n",
    "print('Classification Report 1:\\n', cr)\n",
    "print('\\n')\n",
    "print('Confusion Matrix :\\n', cm)\n",
    "\n",
    "print('Classification Report 2:\\n', cr2)\n",
    "print('\\n')\n",
    "print('Confusion Matrix 2:\\n', cm2)"
   ]
  },
  {
   "attachments": {},
   "cell_type": "markdown",
   "metadata": {},
   "source": [
    "Again, we have exactly the same situation as in the previous exercise. The model is performing better than the first one, as the accuracy has increased from 0.55 to 0.60. However, precision detecting cardiovascular disease is lower than the previous one. The number of positives in the second model is 0, which would be fatal if a patient was actually suffering from cardiovascular disease."
   ]
  },
  {
   "attachments": {},
   "cell_type": "markdown",
   "metadata": {},
   "source": [
    "### Exercise 3\n",
    "Apply early stopping and report the performance of the model on the validation set."
   ]
  },
  {
   "attachments": {},
   "cell_type": "markdown",
   "metadata": {},
   "source": [
    "Now we will repeat the steps above, but using early stopping. We will use 50 epochs and a batch size of 10. We will use the validation set to monitor the model's performance, and we will stop the training process when the validation loss stops improving. This is the command to use early stopping:\n",
    "\n",
    "```python\n",
    "keras.callbacks.EarlyStopping(monitor='val_loss', mode='min', verbose=1, patience=5)\n",
    "```\n",
    "\n",
    "This is the explanation of the parameters used in the method:\n",
    "- `monitor`: quantity to be monitored. In this case, we will monitor the validation loss, which is the loss computed on the validation set.\n",
    "- `mode`: one of `min`, `max`. In `min` mode, training will stop when the quantity monitored has stopped decreasing; in `max` mode it will stop when the quantity monitored has stopped increasing.\n",
    "- `verbose`: verbosity mode. It shows the message when training is stopped.\n",
    "- `patience`: number of epochs with no improvement after which training will be stopped."
   ]
  },
  {
   "cell_type": "code",
   "execution_count": 16,
   "metadata": {},
   "outputs": [
    {
     "name": "stdout",
     "output_type": "stream",
     "text": [
      "Epoch 1/50\n",
      "8/8 [==============================] - 1s 2ms/step - loss: 14.8163 - accuracy: 0.1750\n",
      "Epoch 2/50\n",
      "8/8 [==============================] - 0s 2ms/step - loss: 12.3621 - accuracy: 0.1750\n",
      "Epoch 3/50\n",
      "8/8 [==============================] - 0s 2ms/step - loss: 10.2174 - accuracy: 0.1875\n",
      "Epoch 4/50\n",
      "8/8 [==============================] - 0s 2ms/step - loss: 8.6893 - accuracy: 0.3250\n",
      "Epoch 5/50\n",
      "8/8 [==============================] - 0s 2ms/step - loss: 7.5408 - accuracy: 0.4500\n",
      "Epoch 6/50\n",
      "8/8 [==============================] - 0s 2ms/step - loss: 6.8301 - accuracy: 0.5000\n",
      "Epoch 7/50\n",
      "8/8 [==============================] - 0s 2ms/step - loss: 6.3938 - accuracy: 0.6125\n",
      "Epoch 8/50\n",
      "8/8 [==============================] - 0s 2ms/step - loss: 5.9901 - accuracy: 0.6625\n",
      "Epoch 9/50\n",
      "8/8 [==============================] - 0s 2ms/step - loss: 5.7806 - accuracy: 0.6875\n",
      "Epoch 10/50\n",
      "8/8 [==============================] - 0s 2ms/step - loss: 5.6050 - accuracy: 0.7000\n",
      "Epoch 11/50\n",
      "8/8 [==============================] - 0s 2ms/step - loss: 5.4589 - accuracy: 0.7125\n",
      "Epoch 12/50\n",
      "8/8 [==============================] - 0s 2ms/step - loss: 5.3716 - accuracy: 0.7375\n",
      "Epoch 13/50\n",
      "8/8 [==============================] - 0s 2ms/step - loss: 5.2238 - accuracy: 0.7500\n",
      "Epoch 14/50\n",
      "8/8 [==============================] - 0s 2ms/step - loss: 5.0853 - accuracy: 0.7500\n",
      "Epoch 15/50\n",
      "8/8 [==============================] - 0s 2ms/step - loss: 4.9702 - accuracy: 0.7500\n",
      "Epoch 16/50\n",
      "8/8 [==============================] - 0s 2ms/step - loss: 4.8802 - accuracy: 0.7500\n",
      "Epoch 17/50\n",
      "8/8 [==============================] - 0s 2ms/step - loss: 4.7641 - accuracy: 0.7500\n",
      "Epoch 18/50\n",
      "8/8 [==============================] - 0s 2ms/step - loss: 4.6651 - accuracy: 0.7500\n",
      "Epoch 19/50\n",
      "8/8 [==============================] - 0s 2ms/step - loss: 4.5796 - accuracy: 0.7625\n",
      "Epoch 20/50\n",
      "8/8 [==============================] - 0s 2ms/step - loss: 4.4613 - accuracy: 0.7500\n",
      "Epoch 21/50\n",
      "8/8 [==============================] - 0s 2ms/step - loss: 4.3734 - accuracy: 0.7500\n",
      "Epoch 22/50\n",
      "8/8 [==============================] - 0s 2ms/step - loss: 4.2672 - accuracy: 0.7625\n",
      "Epoch 23/50\n",
      "8/8 [==============================] - 0s 2ms/step - loss: 4.1761 - accuracy: 0.7625\n",
      "Epoch 24/50\n",
      "8/8 [==============================] - 0s 2ms/step - loss: 4.0579 - accuracy: 0.7625\n",
      "Epoch 25/50\n",
      "8/8 [==============================] - 0s 2ms/step - loss: 3.9645 - accuracy: 0.7750\n",
      "Epoch 26/50\n",
      "8/8 [==============================] - 0s 2ms/step - loss: 3.8799 - accuracy: 0.7750\n",
      "Epoch 27/50\n",
      "8/8 [==============================] - 0s 2ms/step - loss: 3.7773 - accuracy: 0.7750\n",
      "Epoch 28/50\n",
      "8/8 [==============================] - 0s 2ms/step - loss: 3.6763 - accuracy: 0.7500\n",
      "Epoch 29/50\n",
      "8/8 [==============================] - 0s 2ms/step - loss: 3.6120 - accuracy: 0.7875\n",
      "Epoch 30/50\n",
      "8/8 [==============================] - 0s 2ms/step - loss: 3.5244 - accuracy: 0.8000\n",
      "Epoch 31/50\n",
      "8/8 [==============================] - 0s 2ms/step - loss: 3.4679 - accuracy: 0.8000\n",
      "Epoch 32/50\n",
      "8/8 [==============================] - 0s 2ms/step - loss: 3.3591 - accuracy: 0.8000\n",
      "Epoch 33/50\n",
      "8/8 [==============================] - 0s 2ms/step - loss: 3.3061 - accuracy: 0.8000\n",
      "Epoch 34/50\n",
      "8/8 [==============================] - 0s 2ms/step - loss: 3.2147 - accuracy: 0.8000\n",
      "Epoch 35/50\n",
      "8/8 [==============================] - 0s 2ms/step - loss: 3.1195 - accuracy: 0.8000\n",
      "Epoch 36/50\n",
      "8/8 [==============================] - 0s 2ms/step - loss: 3.0466 - accuracy: 0.8000\n",
      "Epoch 37/50\n",
      "8/8 [==============================] - 0s 2ms/step - loss: 2.9941 - accuracy: 0.8000\n",
      "Epoch 38/50\n",
      "8/8 [==============================] - 0s 2ms/step - loss: 2.9341 - accuracy: 0.8000\n",
      "Epoch 39/50\n",
      "8/8 [==============================] - 0s 2ms/step - loss: 2.8364 - accuracy: 0.8000\n",
      "Epoch 40/50\n",
      "8/8 [==============================] - 0s 2ms/step - loss: 2.7658 - accuracy: 0.8000\n",
      "Epoch 41/50\n",
      "8/8 [==============================] - 0s 2ms/step - loss: 2.6830 - accuracy: 0.8000\n",
      "Epoch 42/50\n",
      "8/8 [==============================] - 0s 2ms/step - loss: 2.6359 - accuracy: 0.8000\n",
      "Epoch 43/50\n",
      "8/8 [==============================] - 0s 2ms/step - loss: 2.5795 - accuracy: 0.8000\n",
      "Epoch 44/50\n",
      "8/8 [==============================] - 0s 2ms/step - loss: 2.5257 - accuracy: 0.8000\n",
      "Epoch 45/50\n",
      "8/8 [==============================] - 0s 2ms/step - loss: 2.4454 - accuracy: 0.8000\n",
      "Epoch 46/50\n",
      "8/8 [==============================] - 0s 2ms/step - loss: 2.3873 - accuracy: 0.8000\n",
      "Epoch 47/50\n",
      "8/8 [==============================] - 0s 2ms/step - loss: 2.3437 - accuracy: 0.8000\n",
      "Epoch 48/50\n",
      "8/8 [==============================] - 0s 2ms/step - loss: 2.2609 - accuracy: 0.8000\n",
      "Epoch 49/50\n",
      "8/8 [==============================] - 0s 2ms/step - loss: 2.2409 - accuracy: 0.8000\n",
      "Epoch 50/50\n",
      "8/8 [==============================] - 0s 2ms/step - loss: 2.1770 - accuracy: 0.8000\n",
      "1/1 [==============================] - 0s 67ms/step\n"
     ]
    }
   ],
   "source": [
    "# Creating and training the 4th model\n",
    "classifier_es = Sequential()\n",
    "classifier_es.add(Dense(units = 4, activation = 'relu',\n",
    "                        kernel_initializer='glorot_uniform', input_dim = 9))\n",
    "classifier_es.add(Dense(units = 3, activation = 'relu'))\n",
    "classifier_es.add(Dense(units = 1, activation = 'sigmoid'))\n",
    "\n",
    "classifier_es.compile(optimizer = 'adam', loss = 'binary_crossentropy', metrics = ['accuracy'])\n",
    "\n",
    "# Early stopping\n",
    "es = keras.callbacks.EarlyStopping(monitor='loss', mode='min', verbose=1, patience=5)\n",
    "\n",
    "classifier_es.fit(X_train, y_train, batch_size = 10, epochs = 50, callbacks=[es])\n",
    "\n",
    "# Predicting the Test set results\n",
    "y_pred_es = classifier_es.predict(X_test)\n",
    "y_pred_es = pd.DataFrame(y_pred_es)\n",
    "y_pred_es = round(y_pred_es)"
   ]
  },
  {
   "cell_type": "code",
   "execution_count": 17,
   "metadata": {},
   "outputs": [
    {
     "name": "stdout",
     "output_type": "stream",
     "text": [
      "Classification Report 1:\n",
      "               precision    recall  f1-score   support\n",
      "\n",
      "           0       0.62      0.77      0.69        13\n",
      "           1       0.25      0.14      0.18         7\n",
      "\n",
      "    accuracy                           0.55        20\n",
      "   macro avg       0.44      0.46      0.44        20\n",
      "weighted avg       0.49      0.55      0.51        20\n",
      "\n",
      "\n",
      "\n",
      "Confusion Matrix :\n",
      " [[10  3]\n",
      " [ 6  1]]\n",
      "Classification Report 2:\n",
      "               precision    recall  f1-score   support\n",
      "\n",
      "           0       0.65      1.00      0.79        13\n",
      "           1       0.00      0.00      0.00         7\n",
      "\n",
      "    accuracy                           0.65        20\n",
      "   macro avg       0.33      0.50      0.39        20\n",
      "weighted avg       0.42      0.65      0.51        20\n",
      "\n",
      "\n",
      "\n",
      "Confusion Matrix 2:\n",
      " [[13  0]\n",
      " [ 7  0]]\n"
     ]
    },
    {
     "name": "stderr",
     "output_type": "stream",
     "text": [
      "/home/pablo/.local/lib/python3.10/site-packages/sklearn/metrics/_classification.py:1344: UndefinedMetricWarning: Precision and F-score are ill-defined and being set to 0.0 in labels with no predicted samples. Use `zero_division` parameter to control this behavior.\n",
      "  _warn_prf(average, modifier, msg_start, len(result))\n",
      "/home/pablo/.local/lib/python3.10/site-packages/sklearn/metrics/_classification.py:1344: UndefinedMetricWarning: Precision and F-score are ill-defined and being set to 0.0 in labels with no predicted samples. Use `zero_division` parameter to control this behavior.\n",
      "  _warn_prf(average, modifier, msg_start, len(result))\n",
      "/home/pablo/.local/lib/python3.10/site-packages/sklearn/metrics/_classification.py:1344: UndefinedMetricWarning: Precision and F-score are ill-defined and being set to 0.0 in labels with no predicted samples. Use `zero_division` parameter to control this behavior.\n",
      "  _warn_prf(average, modifier, msg_start, len(result))\n"
     ]
    }
   ],
   "source": [
    "# Making the Confusion Matrix\n",
    "cm2 = confusion_matrix(y_test, y_pred_es)\n",
    "\n",
    "# Classification report of the model\n",
    "cr2 = classification_report(y_test, y_pred_es)\n",
    "\n",
    "print('Classification Report 1:\\n', cr)\n",
    "print('\\n')\n",
    "print('Confusion Matrix :\\n', cm)\n",
    "\n",
    "print('Classification Report 2:\\n', cr2)\n",
    "print('\\n')\n",
    "print('Confusion Matrix 2:\\n', cm2)"
   ]
  },
  {
   "attachments": {},
   "cell_type": "markdown",
   "metadata": {},
   "source": [
    "Again, the same situation. Even though the model is performing better than the previous ones, the number of positives in the second model is 0, which would be fatal if a patient was actually suffering from cardiovascular disease. However, if they had a similar precision in 1, the second model would be better, as it would detect more patients with cardiovascular disease avoiding diagnose patients without it.\n",
    "\n",
    "It is interesting to see that increasing the number of epochs to 50, the model reaches a limit in the accuracy, and it does not improve anymore. This is why we use early stopping, to avoid this situation. In this case, the stop is triggered when the validation loss stops improving after 5 epochs. However, in the previous exercise, the loss continued improving, despite the fact accuracy was not improving anymore."
   ]
  },
  {
   "attachments": {},
   "cell_type": "markdown",
   "metadata": {},
   "source": [
    "### Exercise 4\n",
    "Identify the most important features (risk factors) in predicting the risk of cardiovascular disease by analyzing the weights of the model's parameters."
   ]
  },
  {
   "attachments": {},
   "cell_type": "markdown",
   "metadata": {},
   "source": [
    "One way to do this is to examine the magnitude of the weights that are associated with each input feature. The larger the weight, the more important the corresponding feature is in the model's predictions."
   ]
  },
  {
   "cell_type": "code",
   "execution_count": 26,
   "metadata": {},
   "outputs": [
    {
     "name": "stdout",
     "output_type": "stream",
     "text": [
      "Index(['alchohol (yes = 1)', 'Gender (Male = 1)', 'smoke (yes =1)',\n",
      "       'Fasting Blood sugar', 'cholesterol level', 'Age ( years) ',\n",
      "       'active (yes=1)', 'BMI', 'Diastolic Blood pressure'],\n",
      "      dtype='object')\n"
     ]
    }
   ],
   "source": [
    "# Now we will get the most important features\n",
    "# We will get the absolute values of the weights\n",
    "weights = classifier.get_weights()[0]\n",
    "weights = np.abs(weights)\n",
    "# We will get the sum of the weights\n",
    "weights_sum = np.sum(weights, axis=1)\n",
    "# We will get the indices of the weights ordered from the most important to the least important\n",
    "indices = np.argsort(weights_sum)[::-1]\n",
    "# We will get the most important features\n",
    "features = X_train.columns[indices] \n",
    "# We will get the most important weights\n",
    "print(features)"
   ]
  },
  {
   "attachments": {},
   "cell_type": "markdown",
   "metadata": {},
   "source": [
    "According to the model, these are the most important features. As we can see, the most important risk factors of cardiovascular disease are, in this order, Alcohol, Gender and Smoke."
   ]
  },
  {
   "attachments": {},
   "cell_type": "markdown",
   "metadata": {},
   "source": [
    "### Exercise 5\n",
    "Use the model to classify the provided dataset into two classes: cardiovascular disease positive or negative. Compare the performance of the model with different activation functions in the output layer."
   ]
  },
  {
   "cell_type": "code",
   "execution_count": 19,
   "metadata": {},
   "outputs": [
    {
     "name": "stdout",
     "output_type": "stream",
     "text": [
      "Epoch 1/10\n",
      "8/8 [==============================] - 1s 2ms/step - loss: 0.9019 - accuracy: 0.1750\n",
      "Epoch 2/10\n",
      "8/8 [==============================] - 0s 2ms/step - loss: 0.8223 - accuracy: 0.1750\n",
      "Epoch 3/10\n",
      "8/8 [==============================] - 0s 2ms/step - loss: 0.7759 - accuracy: 0.1750\n",
      "Epoch 4/10\n",
      "8/8 [==============================] - 0s 2ms/step - loss: 0.7380 - accuracy: 0.1750\n",
      "Epoch 5/10\n",
      "8/8 [==============================] - 0s 2ms/step - loss: 0.7091 - accuracy: 0.1750\n",
      "Epoch 6/10\n",
      "8/8 [==============================] - 0s 2ms/step - loss: 0.6816 - accuracy: 0.1750\n",
      "Epoch 7/10\n",
      "8/8 [==============================] - 0s 2ms/step - loss: 0.6569 - accuracy: 0.1750\n",
      "Epoch 8/10\n",
      "8/8 [==============================] - 0s 2ms/step - loss: 0.6354 - accuracy: 0.1750\n",
      "Epoch 9/10\n",
      "8/8 [==============================] - 0s 2ms/step - loss: 0.6185 - accuracy: 0.1750\n",
      "Epoch 10/10\n",
      "8/8 [==============================] - 0s 2ms/step - loss: 0.5990 - accuracy: 0.1750\n",
      "WARNING:tensorflow:5 out of the last 5 calls to <function Model.make_predict_function.<locals>.predict_function at 0x7f537c68b640> triggered tf.function retracing. Tracing is expensive and the excessive number of tracings could be due to (1) creating @tf.function repeatedly in a loop, (2) passing tensors with different shapes, (3) passing Python objects instead of tensors. For (1), please define your @tf.function outside of the loop. For (2), @tf.function has reduce_retracing=True option that can avoid unnecessary retracing. For (3), please refer to https://www.tensorflow.org/guide/function#controlling_retracing and https://www.tensorflow.org/api_docs/python/tf/function for  more details.\n",
      "1/1 [==============================] - 0s 73ms/step\n"
     ]
    }
   ],
   "source": [
    "# Creating and training the 5th model\n",
    "# This time, we will use different activation functions\n",
    "classifier_af = Sequential()\n",
    "classifier_af.add(Dense(units = 4, activation = 'tanh',\n",
    "                        kernel_initializer='glorot_uniform', input_dim = 9))\n",
    "classifier_af.add(Dense(units = 3, activation = 'tanh'))\n",
    "classifier_af.add(Dense(units = 1, activation = 'softmax'))\n",
    "\n",
    "classifier_af.compile(optimizer = 'adam', loss = 'binary_crossentropy', metrics = ['accuracy'])\n",
    "\n",
    "classifier_af.fit(X_train, y_train, batch_size = 10, epochs = 10)\n",
    "\n",
    "# Predicting the Test set results\n",
    "y_pred_af = classifier_af.predict(X_test)\n",
    "y_pred_af = pd.DataFrame(y_pred_af)\n",
    "y_pred_af = round(y_pred_af)"
   ]
  },
  {
   "cell_type": "code",
   "execution_count": 20,
   "metadata": {},
   "outputs": [
    {
     "name": "stdout",
     "output_type": "stream",
     "text": [
      "Classification Report 1:\n",
      "               precision    recall  f1-score   support\n",
      "\n",
      "           0       0.62      0.77      0.69        13\n",
      "           1       0.25      0.14      0.18         7\n",
      "\n",
      "    accuracy                           0.55        20\n",
      "   macro avg       0.44      0.46      0.44        20\n",
      "weighted avg       0.49      0.55      0.51        20\n",
      "\n",
      "\n",
      "\n",
      "Confusion Matrix :\n",
      " [[10  3]\n",
      " [ 6  1]]\n",
      "Classification Report 2:\n",
      "               precision    recall  f1-score   support\n",
      "\n",
      "           0       0.00      0.00      0.00        13\n",
      "           1       0.35      1.00      0.52         7\n",
      "\n",
      "    accuracy                           0.35        20\n",
      "   macro avg       0.17      0.50      0.26        20\n",
      "weighted avg       0.12      0.35      0.18        20\n",
      "\n",
      "\n",
      "\n",
      "Confusion Matrix 2:\n",
      " [[ 0 13]\n",
      " [ 0  7]]\n"
     ]
    },
    {
     "name": "stderr",
     "output_type": "stream",
     "text": [
      "/home/pablo/.local/lib/python3.10/site-packages/sklearn/metrics/_classification.py:1344: UndefinedMetricWarning: Precision and F-score are ill-defined and being set to 0.0 in labels with no predicted samples. Use `zero_division` parameter to control this behavior.\n",
      "  _warn_prf(average, modifier, msg_start, len(result))\n",
      "/home/pablo/.local/lib/python3.10/site-packages/sklearn/metrics/_classification.py:1344: UndefinedMetricWarning: Precision and F-score are ill-defined and being set to 0.0 in labels with no predicted samples. Use `zero_division` parameter to control this behavior.\n",
      "  _warn_prf(average, modifier, msg_start, len(result))\n",
      "/home/pablo/.local/lib/python3.10/site-packages/sklearn/metrics/_classification.py:1344: UndefinedMetricWarning: Precision and F-score are ill-defined and being set to 0.0 in labels with no predicted samples. Use `zero_division` parameter to control this behavior.\n",
      "  _warn_prf(average, modifier, msg_start, len(result))\n"
     ]
    }
   ],
   "source": [
    "# Making the Confusion Matrix\n",
    "cm2 = confusion_matrix(y_test, y_pred_af)\n",
    "\n",
    "# Classification report of the model\n",
    "cr2 = classification_report(y_test, y_pred_af)\n",
    "\n",
    "print('Classification Report 1:\\n', cr)\n",
    "print('\\n')\n",
    "print('Confusion Matrix :\\n', cm)\n",
    "\n",
    "print('Classification Report 2:\\n', cr2)\n",
    "print('\\n')\n",
    "print('Confusion Matrix 2:\\n', cm2)"
   ]
  },
  {
   "attachments": {},
   "cell_type": "markdown",
   "metadata": {},
   "source": [
    "This model is much more interesting. Even though the accuracy is not very high, it is much better than the previous ones. The precision detecting cardiovascular disease is also higher than the previous ones. This means that it detects a higher proportion of patients with cardiovascular disease that in fact have it over the total it has detected. The recall is 1, which means that it detects all the patients with cardiovascular disease. This is very important, as this is the objective.\n",
    "\n",
    "In this case, this second model is better than the first one, as it detects more patients with cardiovascular disease avoiding diagnose patients without it."
   ]
  },
  {
   "attachments": {},
   "cell_type": "markdown",
   "metadata": {},
   "source": [
    "### Exercise 6\n",
    "Add a new feature to the dataset, such as a genetic marker or an imaging measurement and evaluate its effect on the model's performance."
   ]
  },
  {
   "cell_type": "code",
   "execution_count": 21,
   "metadata": {},
   "outputs": [],
   "source": [
    "# Now we will add a new feature to the dataset, for example, a genetic marker\n",
    "df2 = df.copy()\n",
    "genetic_marker = np.random.randint(0, 2, size=len(df2))\n",
    "df2['genetic_marker'] = genetic_marker\n",
    "\n",
    "# Setting X (features) and Y (target)\n",
    "X2 = df2.iloc[:, :-1].values\n",
    "y2 = df2.iloc[:, -1].values\n",
    "\n",
    "# Split the data into training and testing sets\n",
    "X2_train, X2_test, y2_train, y2_test = train_test_split(X2, y, test_size = 0.2, random_state = 0)"
   ]
  },
  {
   "cell_type": "code",
   "execution_count": 22,
   "metadata": {},
   "outputs": [
    {
     "name": "stdout",
     "output_type": "stream",
     "text": [
      "Epoch 1/10\n",
      "8/8 [==============================] - 1s 2ms/step - loss: 0.6919 - accuracy: 0.8250\n",
      "Epoch 2/10\n",
      "8/8 [==============================] - 0s 2ms/step - loss: 0.6895 - accuracy: 0.8250\n",
      "Epoch 3/10\n",
      "8/8 [==============================] - 0s 2ms/step - loss: 0.6870 - accuracy: 0.8250\n",
      "Epoch 4/10\n",
      "8/8 [==============================] - 0s 2ms/step - loss: 0.6846 - accuracy: 0.8250\n",
      "Epoch 5/10\n",
      "8/8 [==============================] - 0s 2ms/step - loss: 0.6822 - accuracy: 0.8250\n",
      "Epoch 6/10\n",
      "8/8 [==============================] - 0s 2ms/step - loss: 0.6798 - accuracy: 0.8250\n",
      "Epoch 7/10\n",
      "8/8 [==============================] - 0s 2ms/step - loss: 0.6776 - accuracy: 0.8250\n",
      "Epoch 8/10\n",
      "8/8 [==============================] - 0s 2ms/step - loss: 0.6752 - accuracy: 0.8250\n",
      "Epoch 9/10\n",
      "8/8 [==============================] - 0s 2ms/step - loss: 0.6728 - accuracy: 0.8250\n",
      "Epoch 10/10\n",
      "8/8 [==============================] - 0s 2ms/step - loss: 0.6707 - accuracy: 0.8250\n",
      "WARNING:tensorflow:6 out of the last 6 calls to <function Model.make_predict_function.<locals>.predict_function at 0x7f537c575f30> triggered tf.function retracing. Tracing is expensive and the excessive number of tracings could be due to (1) creating @tf.function repeatedly in a loop, (2) passing tensors with different shapes, (3) passing Python objects instead of tensors. For (1), please define your @tf.function outside of the loop. For (2), @tf.function has reduce_retracing=True option that can avoid unnecessary retracing. For (3), please refer to https://www.tensorflow.org/guide/function#controlling_retracing and https://www.tensorflow.org/api_docs/python/tf/function for  more details.\n",
      "1/1 [==============================] - 0s 64ms/step\n"
     ]
    }
   ],
   "source": [
    "# Creating and training the 6th model\n",
    "classifier_ft = Sequential()\n",
    "classifier_ft.add(Dense(units = 4, activation = 'relu',\n",
    "                        kernel_initializer='glorot_uniform', input_dim = 10))\n",
    "classifier_ft.add(Dense(units = 3, activation = 'relu'))\n",
    "classifier_ft.add(Dense(units = 1, activation = 'sigmoid'))\n",
    "\n",
    "classifier_ft.compile(optimizer = 'adam', loss = 'binary_crossentropy', metrics = ['accuracy'])\n",
    "\n",
    "classifier_ft.fit(X2_train, y2_train, batch_size = 10, epochs = 10)\n",
    "\n",
    "# Predicting the Test set results\n",
    "y_pred_ft = classifier_ft.predict(X2_test)\n",
    "y_pred_ft = pd.DataFrame(y_pred_ft)\n",
    "y_pred_ft = round(y_pred_ft)"
   ]
  },
  {
   "cell_type": "code",
   "execution_count": 23,
   "metadata": {},
   "outputs": [
    {
     "name": "stdout",
     "output_type": "stream",
     "text": [
      "Classification Report 1:\n",
      "               precision    recall  f1-score   support\n",
      "\n",
      "           0       0.62      0.77      0.69        13\n",
      "           1       0.25      0.14      0.18         7\n",
      "\n",
      "    accuracy                           0.55        20\n",
      "   macro avg       0.44      0.46      0.44        20\n",
      "weighted avg       0.49      0.55      0.51        20\n",
      "\n",
      "\n",
      "\n",
      "Confusion Matrix :\n",
      " [[10  3]\n",
      " [ 6  1]]\n",
      "Classification Report 2:\n",
      "               precision    recall  f1-score   support\n",
      "\n",
      "           0       0.65      1.00      0.79        13\n",
      "           1       0.00      0.00      0.00         7\n",
      "\n",
      "    accuracy                           0.65        20\n",
      "   macro avg       0.33      0.50      0.39        20\n",
      "weighted avg       0.42      0.65      0.51        20\n",
      "\n",
      "\n",
      "\n",
      "Confusion Matrix 2:\n",
      " [[13  0]\n",
      " [ 7  0]]\n"
     ]
    },
    {
     "name": "stderr",
     "output_type": "stream",
     "text": [
      "/home/pablo/.local/lib/python3.10/site-packages/sklearn/metrics/_classification.py:1344: UndefinedMetricWarning: Precision and F-score are ill-defined and being set to 0.0 in labels with no predicted samples. Use `zero_division` parameter to control this behavior.\n",
      "  _warn_prf(average, modifier, msg_start, len(result))\n",
      "/home/pablo/.local/lib/python3.10/site-packages/sklearn/metrics/_classification.py:1344: UndefinedMetricWarning: Precision and F-score are ill-defined and being set to 0.0 in labels with no predicted samples. Use `zero_division` parameter to control this behavior.\n",
      "  _warn_prf(average, modifier, msg_start, len(result))\n",
      "/home/pablo/.local/lib/python3.10/site-packages/sklearn/metrics/_classification.py:1344: UndefinedMetricWarning: Precision and F-score are ill-defined and being set to 0.0 in labels with no predicted samples. Use `zero_division` parameter to control this behavior.\n",
      "  _warn_prf(average, modifier, msg_start, len(result))\n"
     ]
    }
   ],
   "source": [
    "# Making the Confusion Matrix\n",
    "cm2 = confusion_matrix(y2_test, y_pred_ft)\n",
    "\n",
    "# Classification report of the model\n",
    "cr2 = classification_report(y2_test, y_pred_ft)\n",
    "\n",
    "print('Classification Report 1:\\n', cr)\n",
    "print('\\n')\n",
    "print('Confusion Matrix :\\n', cm)\n",
    "\n",
    "print('Classification Report 2:\\n', cr2)\n",
    "print('\\n')\n",
    "print('Confusion Matrix 2:\\n', cm2)"
   ]
  },
  {
   "attachments": {},
   "cell_type": "markdown",
   "metadata": {},
   "source": [
    "Here we can see the same situation as in some previous exercises. Even it has higher accuracy, the model is really bad predicting positive patients. This is unacceptable to achieve our objective.\n",
    "\n",
    "A reason for this bad performance could be that the new feature is not very important. As we added them in a random way, it is possible that the neural network decided not to give them much importance. To check this, we can see the weights of the model. As we can see, the new feature is not very important, as its weight is very low."
   ]
  }
 ],
 "metadata": {
  "kernelspec": {
   "display_name": "Python 3",
   "language": "python",
   "name": "python3"
  },
  "language_info": {
   "codemirror_mode": {
    "name": "ipython",
    "version": 3
   },
   "file_extension": ".py",
   "mimetype": "text/x-python",
   "name": "python",
   "nbconvert_exporter": "python",
   "pygments_lexer": "ipython3",
   "version": "3.10.9"
  },
  "orig_nbformat": 4,
  "vscode": {
   "interpreter": {
    "hash": "8a94588eda9d64d9e9a351ab8144e55b1fabf5113b54e67dd26a8c27df0381b3"
   }
  }
 },
 "nbformat": 4,
 "nbformat_minor": 2
}
